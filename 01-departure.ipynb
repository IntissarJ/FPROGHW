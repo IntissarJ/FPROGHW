{
 "cells": [
  {
   "cell_type": "markdown",
   "id": "3e11f1a7-68f9-464f-a1a0-bb69c47c5f3a",
   "metadata": {},
   "source": [
    "Listing 1: An imperative program that finds the average value of an\n",
    "array."
   ]
  },
  {
   "cell_type": "code",
   "execution_count": null,
   "id": "778ef9e4-ddf2-414c-aafa-ad90deb147c7",
   "metadata": {
    "dotnet_interactive": {
     "language": "csharp"
    },
    "vscode": {
     "languageId": "polyglot-notebook"
    }
   },
   "outputs": [],
   "source": [
    "double Average(double[] array)\n",
    "{\n",
    "    double sum = 0.0;\n",
    "    double length = 0.0;\n",
    "    foreach (var value in array)\n",
    "    {\n",
    "        sum += value;\n",
    "        length += 1.0;\n",
    "    }\n",
    "    return sum / length;\n",
    "}"
   ]
  },
  {
   "cell_type": "markdown",
   "id": "4c5cd9da-56dd-4fe7-a53b-ca1af500ecd2",
   "metadata": {},
   "source": [
    "Listing 2: A `Person` class that maintains two invariants: age is\n",
    "nonnegative, name is not empty."
   ]
  },
  {
   "cell_type": "code",
   "execution_count": null,
   "id": "48aedba2-3980-4e6e-a6f5-75175dfea76f",
   "metadata": {
    "dotnet_interactive": {
     "language": "csharp"
    },
    "vscode": {
     "languageId": "polyglot-notebook"
    }
   },
   "outputs": [],
   "source": [
    "public class Person\n",
    "{\n",
    "    private int _age;\n",
    "    public int Age\n",
    "    {\n",
    "        get => _age;\n",
    "        set\n",
    "        {\n",
    "            if (value < 0)\n",
    "                throw new ArgumentOutOfRangeException(nameof(Age), $\"A person’s age cannot be negative\");\n",
    "            _age = value;\n",
    "        }\n",
    "    }\n",
    "    private string _name;\n",
    "    public string Name\n",
    "    {\n",
    "        get => _name;\n",
    "        set\n",
    "        {\n",
    "            if (value.Length <= 0)\n",
    "                throw new ArgumenException(nameof(Name), $\"A person’s name cannot be empty\");\n",
    "            _name = value;\n",
    "        }\n",
    "  \n",
    "    }\n",
    "\n",
    "    public Person(string name, int age)\n",
    "    {\n",
    "        if (name.Length == 0)\n",
    "        {\n",
    "            throw new ArgumentException(\n",
    "                nameof(name),\n",
    "                \"cannot be empty\");\n",
    "        }\n",
    "        if (age < 0)\n",
    "        {\n",
    "            throw new ArgumentOutOfRangeException(\n",
    "                nameof(age),\n",
    "                \"cannot be negative\");\n",
    "        }\n",
    "        _name = name;\n",
    "        _age = age;\n",
    "    }\n",
    "}"
   ]
  },
  {
   "cell_type": "markdown",
   "id": "0e9fe5c9-1edb-4ce5-9fb6-79d0fb3086a9",
   "metadata": {},
   "source": [
    "Listing 4: A sample program in C# with the implementation of `SendCard`\n",
    "omitted."
   ]
  },
  {
   "cell_type": "code",
   "execution_count": null,
   "id": "cd02e3c6-d707-4578-a507-25c34d55810b",
   "metadata": {
    "dotnet_interactive": {
     "language": "csharp"
    },
    "vscode": {
     "languageId": "polyglot-notebook"
    }
   },
   "outputs": [],
   "source": [
    "// the keyword in prevents SendCard from\n",
    "// assigning to p: p = new Person(...) is disallowed.\n",
    "void SendCard(in Person p)\n",
    "{\n",
    "/* … */\n",
    "}\n",
    "\n",
    "\n",
    "Person p = new Person(\"Eleanor\", 22);\n",
    "SendCard(p);"
   ]
  },
  {
   "cell_type": "markdown",
   "id": "c430c453-10bc-41ad-a2a6-6947db969ced",
   "metadata": {},
   "source": [
    "------------------------------------------------------------------------\n",
    "\n",
    "**Exercise 1** What do you know about the values for `Name` and `Age`\n",
    "after `SendCard` has finished?\n",
    "\n",
    "1.  They are unchanged because `SendCard` cannot assign to `p` as the\n",
    "    parameter is declared `in`.\n",
    "2.  They are unchanged because `SendCard` should not change the\n",
    "    attributes of `p`\n",
    "3.  They may change. However, name will still be nonempty and age will\n",
    "    not be negative.\n",
    "4.  We cannot tell"
   ]
  },
  {
   "cell_type": "code",
   "execution_count": null,
   "id": "e5a06235-1186-41d9-8f02-b59c93c1b3b6",
   "metadata": {
    "dotnet_interactive": {
     "language": "fsharp"
    },
    "vscode": {
     "languageId": "polyglot-notebook"
    }
   },
   "outputs": [],
   "source": [
    "//1"
   ]
  },
  {
   "cell_type": "markdown",
   "id": "0cbbeb2f-b5ff-4899-9d23-b588c0eee2fd",
   "metadata": {},
   "source": [
    "------------------------------------------------------------------------\n",
    "\n",
    "------------------------------------------------------------------------\n",
    "\n",
    "**Exercise 2** `SendCard` could have been implemented as in lst. 5. What\n",
    "do you think of this implementation? Can you explain why a designer\n",
    "would implement the method in this way? Would you accept such an\n",
    "implementation during a code review?\n",
    "\n",
    "Listing 5: An implementation of `SendCard` that not only inspects but\n",
    "also changes a `Person`’s attributes."
   ]
  },
  {
   "cell_type": "code",
   "execution_count": null,
   "id": "c6994f9a-9e38-4511-876f-491143541a0d",
   "metadata": {
    "dotnet_interactive": {
     "language": "csharp"
    },
    "vscode": {
     "languageId": "polyglot-notebook"
    }
   },
   "outputs": [],
   "source": [
    "void SendCard(in Person p)\n",
    "{\n",
    "    p.Age += 1;\n",
    "    Console.WriteLine($\"{p.Age} years old! \"\n",
    "        + \"Congratulations {p.Name}!\");\n",
    "}"
   ]
  },
  {
   "cell_type": "code",
   "execution_count": null,
   "id": "1e06becb-d3fa-4f7f-b20c-01adcbecf4d4",
   "metadata": {
    "dotnet_interactive": {
     "language": "fsharp"
    },
    "vscode": {
     "languageId": "polyglot-notebook"
    }
   },
   "outputs": [],
   "source": [
    "// i would not do it like this because it does 2 different things, we want it to be a pure function\n",
    "//so it cant change the the age if it also inspects the attribute.\n",
    "//we want the attribute to be immutable"
   ]
  },
  {
   "cell_type": "markdown",
   "id": "f0bec741-0eac-4880-bda3-e37fa60c4914",
   "metadata": {},
   "source": [
    "------------------------------------------------------------------------\n",
    "\n",
    "Listing 6: Our first line of F#"
   ]
  },
  {
   "cell_type": "code",
   "execution_count": 2,
   "id": "03129aba-7f79-4f89-9d5d-af8e29a96ee7",
   "metadata": {
    "dotnet_interactive": {
     "language": "fsharp"
    },
    "vscode": {
     "languageId": "polyglot-notebook"
    }
   },
   "outputs": [
    {
     "name": "stdout",
     "output_type": "stream",
     "text": [
      "Hello world!\n"
     ]
    }
   ],
   "source": [
    "printfn \"Hello world!\""
   ]
  },
  {
   "cell_type": "markdown",
   "id": "775b6194-88f2-4a5c-8104-c0fab33f70f9",
   "metadata": {},
   "source": [
    "Listing 7: An immutable `Person` class. Attributes are set at\n",
    "construction time. State can only be updated via the creation of new\n",
    "objects."
   ]
  },
  {
   "cell_type": "code",
   "execution_count": 4,
   "id": "87ddc265-d74d-48bd-8e8f-d37861d83a52",
   "metadata": {
    "dotnet_interactive": {
     "language": "csharp"
    },
    "vscode": {
     "languageId": "polyglot-notebook"
    }
   },
   "outputs": [
    {
     "name": "stdout",
     "output_type": "stream",
     "text": [
      "p.Age = 22\n",
      "p2.Age = 23\n"
     ]
    }
   ],
   "source": [
    "class Person {\n",
    "    private int _age;\n",
    "    public int Age { get => _age; }\n",
    "\n",
    "    private string _name;\n",
    "    public string Name { get => _name; }\n",
    "\n",
    "    public Person(string name, int age)\n",
    "    {\n",
    "        if (name.Length == 0)\n",
    "            throw new ArgumentOutOfRangeException(nameof(name),\n",
    "                                                  \"cannot be empty\");\n",
    "        if (age < 0)\n",
    "            throw new ArgumentOutOfRangeException(nameof(age),\n",
    "                                                  \"cannot be negative\");\n",
    "        _name = name;\n",
    "        _age = age;\n",
    "    }\n",
    "}\n",
    "\n",
    "Person SetAge(Person p, int age) {\n",
    "    if (age < 0){\n",
    "        return p;\n",
    "    }\n",
    "    return new Person(p.Name, age);\n",
    "}\n",
    "\n",
    "var p = new Person(\"Eleanor\", 22);\n",
    "var p2 = SetAge(p, 23);\n",
    "Console.WriteLine($\"p.Age = {p.Age}\");\n",
    "Console.WriteLine($\"p2.Age = {p2.Age}\");"
   ]
  },
  {
   "cell_type": "markdown",
   "id": "d501c7aa-80ed-446c-9363-d104c491a561",
   "metadata": {},
   "source": [
    "Listing 8: Binding variables"
   ]
  },
  {
   "cell_type": "code",
   "execution_count": 5,
   "id": "0079a1da-76fc-4f1f-b748-bbfb8c5af9aa",
   "metadata": {
    "dotnet_interactive": {
     "language": "fsharp"
    },
    "vscode": {
     "languageId": "polyglot-notebook"
    }
   },
   "outputs": [],
   "source": [
    "let a = 5\n",
    "let s = \"abc\""
   ]
  },
  {
   "cell_type": "markdown",
   "id": "ed44cdab-fbd7-4b83-9136-1a71af474dbc",
   "metadata": {},
   "source": [
    "Listing 9: Using variables to build larger expressions"
   ]
  },
  {
   "cell_type": "code",
   "execution_count": 6,
   "id": "09d172f8-80a1-4e07-bef1-64c9c2b660e3",
   "metadata": {
    "dotnet_interactive": {
     "language": "fsharp"
    },
    "vscode": {
     "languageId": "polyglot-notebook"
    }
   },
   "outputs": [],
   "source": [
    "let b = a + 1 // a + 1 is an expression"
   ]
  },
  {
   "cell_type": "markdown",
   "id": "64b19750-f422-49a9-a5a8-7fc6ca2d9fae",
   "metadata": {},
   "source": [
    "Listing 10: f is defined to be a function of a single argument x. f\n",
    "returns to x + 1"
   ]
  },
  {
   "cell_type": "code",
   "execution_count": 8,
   "id": "a98e399d-3d2e-4b77-8954-f22582ecf405",
   "metadata": {
    "dotnet_interactive": {
     "language": "fsharp"
    },
    "vscode": {
     "languageId": "polyglot-notebook"
    }
   },
   "outputs": [],
   "source": [
    "let f x = x + 1"
   ]
  },
  {
   "cell_type": "markdown",
   "id": "b965793b-ee91-4f32-b1c1-40e8a6d9a7c2",
   "metadata": {},
   "source": [
    "Listing 11: `f` is applied to the argument 2"
   ]
  },
  {
   "cell_type": "code",
   "execution_count": 9,
   "id": "c97e96b0-cef0-48a7-86c8-68279bd65109",
   "metadata": {
    "dotnet_interactive": {
     "language": "fsharp"
    },
    "vscode": {
     "languageId": "polyglot-notebook"
    }
   },
   "outputs": [
    {
     "data": {
      "text/html": [
       "<div class=\"dni-plaintext\"><pre>3</pre></div><style>\r\n",
       ".dni-code-hint {\r\n",
       "    font-style: italic;\r\n",
       "    overflow: hidden;\r\n",
       "    white-space: nowrap;\r\n",
       "}\r\n",
       ".dni-treeview {\r\n",
       "    white-space: nowrap;\r\n",
       "}\r\n",
       ".dni-treeview td {\r\n",
       "    vertical-align: top;\r\n",
       "    text-align: start;\r\n",
       "}\r\n",
       "details.dni-treeview {\r\n",
       "    padding-left: 1em;\r\n",
       "}\r\n",
       "table td {\r\n",
       "    text-align: start;\r\n",
       "}\r\n",
       "table tr { \r\n",
       "    vertical-align: top; \r\n",
       "    margin: 0em 0px;\r\n",
       "}\r\n",
       "table tr td pre \r\n",
       "{ \r\n",
       "    vertical-align: top !important; \r\n",
       "    margin: 0em 0px !important;\r\n",
       "} \r\n",
       "table th {\r\n",
       "    text-align: start;\r\n",
       "}\r\n",
       "</style>"
      ]
     },
     "metadata": {},
     "output_type": "display_data"
    }
   ],
   "source": [
    "f 2"
   ]
  },
  {
   "cell_type": "markdown",
   "id": "d30bae73-d410-4a83-b857-e2cfcd487ecb",
   "metadata": {},
   "source": [
    "Listing 12: A binary function takes two arguments"
   ]
  },
  {
   "cell_type": "code",
   "execution_count": 10,
   "id": "876d8a85-881b-45c3-ac68-9c2c26f3b136",
   "metadata": {
    "dotnet_interactive": {
     "language": "fsharp"
    },
    "vscode": {
     "languageId": "polyglot-notebook"
    }
   },
   "outputs": [],
   "source": [
    "let add a b = a + b"
   ]
  },
  {
   "cell_type": "markdown",
   "id": "ac1ab2ff-ddf0-4cbe-ad16-5b55fc9292c0",
   "metadata": {},
   "source": [
    "Listing 13: Applying a binary function to two arguments. Note that the\n",
    "function and arguments are separated by spaces."
   ]
  },
  {
   "cell_type": "code",
   "execution_count": 11,
   "id": "5df2b2be-16c5-4e3e-86db-5bc5c0067129",
   "metadata": {
    "dotnet_interactive": {
     "language": "fsharp"
    },
    "vscode": {
     "languageId": "polyglot-notebook"
    }
   },
   "outputs": [
    {
     "data": {
      "text/html": [
       "<div class=\"dni-plaintext\"><pre>3</pre></div><style>\r\n",
       ".dni-code-hint {\r\n",
       "    font-style: italic;\r\n",
       "    overflow: hidden;\r\n",
       "    white-space: nowrap;\r\n",
       "}\r\n",
       ".dni-treeview {\r\n",
       "    white-space: nowrap;\r\n",
       "}\r\n",
       ".dni-treeview td {\r\n",
       "    vertical-align: top;\r\n",
       "    text-align: start;\r\n",
       "}\r\n",
       "details.dni-treeview {\r\n",
       "    padding-left: 1em;\r\n",
       "}\r\n",
       "table td {\r\n",
       "    text-align: start;\r\n",
       "}\r\n",
       "table tr { \r\n",
       "    vertical-align: top; \r\n",
       "    margin: 0em 0px;\r\n",
       "}\r\n",
       "table tr td pre \r\n",
       "{ \r\n",
       "    vertical-align: top !important; \r\n",
       "    margin: 0em 0px !important;\r\n",
       "} \r\n",
       "table th {\r\n",
       "    text-align: start;\r\n",
       "}\r\n",
       "</style>"
      ]
     },
     "metadata": {},
     "output_type": "display_data"
    }
   ],
   "source": [
    "add 1 2 // 3"
   ]
  },
  {
   "cell_type": "markdown",
   "id": "69882da6-da1a-4c57-963c-3d5a7b4786ca",
   "metadata": {},
   "source": [
    "------------------------------------------------------------------------\n",
    "\n",
    "**Exercise 3** In the code cell below, calculate the sum of 1337 and 42."
   ]
  },
  {
   "cell_type": "code",
   "execution_count": 12,
   "id": "6ff8835f-f0d4-4d0a-b3cb-3aa439f52773",
   "metadata": {
    "dotnet_interactive": {
     "language": "fsharp"
    },
    "vscode": {
     "languageId": "polyglot-notebook"
    }
   },
   "outputs": [
    {
     "data": {
      "text/html": [
       "<div class=\"dni-plaintext\"><pre>1379</pre></div><style>\r\n",
       ".dni-code-hint {\r\n",
       "    font-style: italic;\r\n",
       "    overflow: hidden;\r\n",
       "    white-space: nowrap;\r\n",
       "}\r\n",
       ".dni-treeview {\r\n",
       "    white-space: nowrap;\r\n",
       "}\r\n",
       ".dni-treeview td {\r\n",
       "    vertical-align: top;\r\n",
       "    text-align: start;\r\n",
       "}\r\n",
       "details.dni-treeview {\r\n",
       "    padding-left: 1em;\r\n",
       "}\r\n",
       "table td {\r\n",
       "    text-align: start;\r\n",
       "}\r\n",
       "table tr { \r\n",
       "    vertical-align: top; \r\n",
       "    margin: 0em 0px;\r\n",
       "}\r\n",
       "table tr td pre \r\n",
       "{ \r\n",
       "    vertical-align: top !important; \r\n",
       "    margin: 0em 0px !important;\r\n",
       "} \r\n",
       "table th {\r\n",
       "    text-align: start;\r\n",
       "}\r\n",
       "</style>"
      ]
     },
     "metadata": {},
     "output_type": "display_data"
    }
   ],
   "source": [
    "add 1337 42"
   ]
  },
  {
   "cell_type": "markdown",
   "id": "2430df4f-d38d-400b-a7ab-671cea1b5234",
   "metadata": {},
   "source": [
    "------------------------------------------------------------------------\n",
    "\n",
    "------------------------------------------------------------------------\n",
    "\n",
    "**Exercise 4** Instead of passing `add` two values, pass it a value\n",
    "`1337` and the expression `6 * 7`. This time you will need to add\n",
    "parentheses."
   ]
  },
  {
   "cell_type": "code",
   "execution_count": 13,
   "id": "4256f6c5-658b-4702-86cf-100354469738",
   "metadata": {
    "dotnet_interactive": {
     "language": "fsharp"
    },
    "vscode": {
     "languageId": "polyglot-notebook"
    }
   },
   "outputs": [
    {
     "data": {
      "text/html": [
       "<div class=\"dni-plaintext\"><pre>1379</pre></div><style>\r\n",
       ".dni-code-hint {\r\n",
       "    font-style: italic;\r\n",
       "    overflow: hidden;\r\n",
       "    white-space: nowrap;\r\n",
       "}\r\n",
       ".dni-treeview {\r\n",
       "    white-space: nowrap;\r\n",
       "}\r\n",
       ".dni-treeview td {\r\n",
       "    vertical-align: top;\r\n",
       "    text-align: start;\r\n",
       "}\r\n",
       "details.dni-treeview {\r\n",
       "    padding-left: 1em;\r\n",
       "}\r\n",
       "table td {\r\n",
       "    text-align: start;\r\n",
       "}\r\n",
       "table tr { \r\n",
       "    vertical-align: top; \r\n",
       "    margin: 0em 0px;\r\n",
       "}\r\n",
       "table tr td pre \r\n",
       "{ \r\n",
       "    vertical-align: top !important; \r\n",
       "    margin: 0em 0px !important;\r\n",
       "} \r\n",
       "table th {\r\n",
       "    text-align: start;\r\n",
       "}\r\n",
       "</style>"
      ]
     },
     "metadata": {},
     "output_type": "display_data"
    }
   ],
   "source": [
    "add 1337 (6*7)"
   ]
  },
  {
   "cell_type": "markdown",
   "id": "dda40ba1-f966-4e3b-80e2-86c084779140",
   "metadata": {},
   "source": [
    "------------------------------------------------------------------------\n",
    "\n",
    "Listing 14: The behaviour of Add depends not only on the values for a\n",
    "and b."
   ]
  },
  {
   "cell_type": "code",
   "execution_count": 25,
   "id": "f80136d5-2fc3-4f65-ad96-17ad410634ea",
   "metadata": {
    "dotnet_interactive": {
     "language": "csharp"
    },
    "vscode": {
     "languageId": "polyglot-notebook"
    }
   },
   "outputs": [
    {
     "name": "stdout",
     "output_type": "stream",
     "text": [
      "Result is 3.\n",
      "3\n",
      "Result is 4.\n",
      "4\n"
     ]
    }
   ],
   "source": [
    "int called = 0;\n",
    "\n",
    "int Add(int a, int b) {\n",
    "    int sum = a + b;\n",
    "\n",
    "    sum += called;\n",
    "    \n",
    "    called++; // change state\n",
    "\n",
    "    Console.WriteLine(\"Result is {0}.\", sum); // perform I/O\n",
    "    return sum;\n",
    "}\n",
    "\n",
    "Console.WriteLine(Add(1,2)); // 3\n",
    "Console.WriteLine(Add(1,2)); // 4!"
   ]
  },
  {
   "cell_type": "markdown",
   "id": "4376129b-4f34-4282-9a03-e3aa69aa317a",
   "metadata": {},
   "source": [
    "Listing 15: Method Add3 should calculate the sum of three arguments."
   ]
  },
  {
   "cell_type": "code",
   "execution_count": 24,
   "id": "51d39cf0-cb5c-405f-a0ce-dbb12663bf34",
   "metadata": {
    "dotnet_interactive": {
     "language": "csharp"
    },
    "vscode": {
     "languageId": "polyglot-notebook"
    }
   },
   "outputs": [
    {
     "ename": "Error",
     "evalue": "(1,5): error CS0161: 'Add3(int, int, int)': not all code paths return a value",
     "output_type": "error",
     "traceback": [
      "(1,5): error CS0161: 'Add3(int, int, int)': not all code paths return a value"
     ]
    }
   ],
   "source": [
    "int Add3(int a, int b, int c)\n",
    "{\n",
    "    // something here\n",
    "}"
   ]
  },
  {
   "cell_type": "markdown",
   "id": "5d11f5ab-b1bd-4f51-935b-c615fcc9fd25",
   "metadata": {},
   "source": [
    "------------------------------------------------------------------------\n",
    "\n",
    "**Exercise 5** Inspect the code below but do not run it yet. Answer the\n",
    "following two questions:\n",
    "\n",
    "1.  What is the result of `Add3(1,2,3)`?\n",
    "2.  What are the side-effects?\n",
    "\n",
    "Listing 16: An implementation of Add3."
   ]
  },
  {
   "cell_type": "code",
   "execution_count": 27,
   "id": "678392b1-4e9a-4757-9ead-b2f782e0dbb3",
   "metadata": {
    "dotnet_interactive": {
     "language": "csharp"
    },
    "vscode": {
     "languageId": "polyglot-notebook"
    }
   },
   "outputs": [
    {
     "name": "stdout",
     "output_type": "stream",
     "text": [
      "Result is 7.\n",
      "Result is 15.\n"
     ]
    }
   ],
   "source": [
    "int Add3(int a, int b, int c)\n",
    "{\n",
    "    var sum = Add(Add(a,b),c);\n",
    "    \n",
    "    // Console.WriteLine(\"Result is {0}.\", sum); // potentially\n",
    "    \n",
    "    return sum;\n",
    "}\n",
    "Add3(1,2,3); // not 6!"
   ]
  },
  {
   "cell_type": "code",
   "execution_count": null,
   "id": "d95c060e-fd2e-4cc9-a5b3-8069f5755b95",
   "metadata": {
    "dotnet_interactive": {
     "language": "fsharp"
    },
    "vscode": {
     "languageId": "polyglot-notebook"
    }
   },
   "outputs": [],
   "source": [
    "// Because of the called in the previous add function. The add function is not adding. As in it keeps adding on the previous int from called. \n",
    "// That means its mutable and not pure."
   ]
  },
  {
   "cell_type": "markdown",
   "id": "b24d983c-b493-4440-accb-fd5f842c847b",
   "metadata": {},
   "source": [
    "------------------------------------------------------------------------\n",
    "\n",
    "------------------------------------------------------------------------\n",
    "\n",
    "**Exercise 6** What happens if you run the code cell again?\n",
    "\n",
    "1.  Will the result of `Add3(1,2,3)` change?\n",
    "2.  What about the side-effects?"
   ]
  },
  {
   "cell_type": "code",
   "execution_count": null,
   "id": "da5d785f-3a11-47e1-b247-40e10dd9043e",
   "metadata": {
    "dotnet_interactive": {
     "language": "fsharp"
    },
    "vscode": {
     "languageId": "polyglot-notebook"
    }
   },
   "outputs": [],
   "source": [
    "// called is up by 1, so it becomes sum = ((1 + 2) + 4) + 3 + 5\n",
    "//4 and 5 are from the called value that keeps going up by atleast 1 with the sum value of a + b\n",
    "// which is too mutable and unpure"
   ]
  },
  {
   "cell_type": "markdown",
   "id": "143ed55d-15d5-4bc0-82c7-03a530e35b74",
   "metadata": {},
   "source": [
    "------------------------------------------------------------------------\n",
    "\n",
    "Listing 17: The add3 function defined in F#"
   ]
  },
  {
   "cell_type": "code",
   "execution_count": 28,
   "id": "e685f3c3-8e5e-40c8-b202-e79c08b06ec3",
   "metadata": {
    "dotnet_interactive": {
     "language": "fsharp"
    },
    "vscode": {
     "languageId": "polyglot-notebook"
    }
   },
   "outputs": [],
   "source": [
    "// remember that add was defined earlier\n",
    "let add3 a b c =\n",
    "    let sum = add (add a b) c\n",
    "    Console.WriteLine(\"Result is {0}.\", sum)\n",
    "    sum"
   ]
  },
  {
   "cell_type": "markdown",
   "id": "a9b169e0-6b50-4193-8522-b0e5770c3923",
   "metadata": {},
   "source": [
    "------------------------------------------------------------------------\n",
    "\n",
    "**Exercise 7** Define the following terms in your own words:\n",
    "\n",
    "1.  Encapsulation\n",
    "2.  Referential transparency\n",
    "3.  Pure function\n",
    "4.  Side-effect\n",
    "5.  Mutation\n",
    "6.  Immutable\n",
    "7.  Binding\n",
    "8.  Function"
   ]
  },
  {
   "cell_type": "code",
   "execution_count": null,
   "id": "fda98067-2c80-4185-947d-45dd9c7e3666",
   "metadata": {
    "dotnet_interactive": {
     "language": "fsharp"
    },
    "vscode": {
     "languageId": "polyglot-notebook"
    }
   },
   "outputs": [],
   "source": [
    "// your code here"
   ]
  },
  {
   "cell_type": "markdown",
   "id": "f4de9412-83a6-48bd-9bab-78875454de23",
   "metadata": {},
   "source": [
    "------------------------------------------------------------------------\n",
    "\n",
    "------------------------------------------------------------------------\n",
    "\n",
    "**Exercise 8** Determine for the functions in lsts. 18-20, which are\n",
    "pure and which are not. Motivate your answer.\n",
    "\n",
    "Listing 18: The function randomNumber returns a number between 0 and max"
   ]
  },
  {
   "cell_type": "code",
   "execution_count": null,
   "id": "203cb131-2572-4cee-8cf6-ab4a64273df4",
   "metadata": {
    "dotnet_interactive": {
     "language": "fsharp"
    },
    "vscode": {
     "languageId": "polyglot-notebook"
    }
   },
   "outputs": [],
   "source": [
    "let randomNumber max  =\n",
    "    let r = System.Random()\n",
    "    r.Next max"
   ]
  },
  {
   "cell_type": "markdown",
   "id": "61ae22e9-4001-4985-9256-6b4732dba8f9",
   "metadata": {},
   "source": [
    "Listing 19: This time we seed the random number generated with the same\n",
    "number"
   ]
  },
  {
   "cell_type": "code",
   "execution_count": null,
   "id": "86bcb530-ea64-4125-b887-6c0684bf68c5",
   "metadata": {
    "dotnet_interactive": {
     "language": "fsharp"
    },
    "vscode": {
     "languageId": "polyglot-notebook"
    }
   },
   "outputs": [],
   "source": [
    "let randomNumberSeeded max =\n",
    "    let r = System.Random(1337)\n",
    "    r.Next 10"
   ]
  },
  {
   "cell_type": "markdown",
   "id": "36494806-6453-44ba-81b2-950c091f771c",
   "metadata": {},
   "source": [
    "Listing 20: We log action"
   ]
  },
  {
   "cell_type": "code",
   "execution_count": null,
   "id": "d91a848c-564d-4c0b-b8a7-8c91aea6af81",
   "metadata": {
    "dotnet_interactive": {
     "language": "fsharp"
    },
    "vscode": {
     "languageId": "polyglot-notebook"
    }
   },
   "outputs": [],
   "source": [
    "let randomNumberSeededLog max =\n",
    "    let r = System.Random(1337)\n",
    "    printfn \"Bleep... Bloop... Generating number\"\n",
    "    r.Next 10"
   ]
  },
  {
   "cell_type": "code",
   "execution_count": null,
   "id": "1ec7715c-7a6e-4f66-a502-0dda90f90f07",
   "metadata": {
    "dotnet_interactive": {
     "language": "fsharp"
    },
    "vscode": {
     "languageId": "polyglot-notebook"
    }
   },
   "outputs": [],
   "source": [
    "// your code here"
   ]
  },
  {
   "cell_type": "markdown",
   "id": "43db2bee-757f-4278-af62-76402828f861",
   "metadata": {},
   "source": [
    "------------------------------------------------------------------------\n",
    "\n",
    "------------------------------------------------------------------------\n",
    "\n",
    "**Exercise 9** Change the class in lst. 21 to be immutable. Provide an\n",
    "alternative for users to change objects. Make sure all methods are pure.\n",
    "What functionality will you have to remove? Why?\n",
    "\n",
    "Listing 21: A mutable class"
   ]
  },
  {
   "cell_type": "code",
   "execution_count": null,
   "id": "fb9cbdc7-f9a5-40c8-b2d9-1c0a9c7e21c9",
   "metadata": {
    "dotnet_interactive": {
     "language": "csharp"
    },
    "vscode": {
     "languageId": "polyglot-notebook"
    }
   },
   "outputs": [],
   "source": [
    "class Todo\n",
    "{\n",
    "    private bool _done;\n",
    "    public bool Done { get => _done; }\n",
    "    public string Description { get; set; }\n",
    "\n",
    "    public Todo(string description)\n",
    "    {\n",
    "        _done = false;\n",
    "        Description = description;\n",
    "    }\n",
    "\n",
    "    public void MarkDone()\n",
    "    {\n",
    "        _done = true;\n",
    "        Console.WriteLine($\"Done with {Description}\")\n",
    "    }\n",
    "}"
   ]
  },
  {
   "cell_type": "code",
   "execution_count": 25,
   "metadata": {
    "dotnet_interactive": {
     "language": "csharp"
    },
    "polyglot_notebook": {
     "kernelName": "csharp"
    },
    "vscode": {
     "languageId": "polyglot-notebook"
    }
   },
   "outputs": [],
   "source": [
    "class Todo\n",
    "{\n",
    "    private bool _done;\n",
    "    public bool Done { get => _done; }\n",
    "    private string Description { get; init; }\n",
    "\n",
    "    public Todo(string Desciprion)\n",
    "    {\n",
    "        _done = false;\n",
    "    }\n",
    "\n",
    "    public void MarkDone()\n",
    "    {\n",
    "        _done = true;\n",
    "        Console.WriteLine($\"Done with {Description}\");\n",
    "    }\n",
    "\n",
    "    public Todo todo = new Todo(\"hello1\") {Description = \"hello3\"};\n",
    "    \n",
    "    \n",
    "}\n",
    "\n",
    "//to remove desciprion from construct and make it init it gets to be immutble"
   ]
  },
  {
   "cell_type": "code",
   "execution_count": 43,
   "metadata": {
    "dotnet_interactive": {
     "language": "fsharp"
    },
    "polyglot_notebook": {
     "kernelName": "fsharp"
    },
    "vscode": {
     "languageId": "polyglot-notebook"
    }
   },
   "outputs": [],
   "source": [
    "type Todo(description : string) = \n",
    "    member this.Done = false \n",
    "    member this.Description = description"
   ]
  },
  {
   "cell_type": "markdown",
   "id": "d8f8a463-8fd2-4474-b027-d6fa408ffe53",
   "metadata": {},
   "source": [
    "------------------------------------------------------------------------\n",
    "\n",
    "------------------------------------------------------------------------\n",
    "\n",
    "*(optional)* **Exercise 10** Typically, todo items are stored in a list.\n",
    "In an object oriented language, it is customary to build a class to\n",
    "manage this list. A programmer claims that lst. 23 is an immutable class\n",
    "to manages `Todo`. Do you agree with this assessment? Explain your\n",
    "answer.\n",
    "\n",
    "**Hint:** Feel free to create instances of TodoLists, add items and mark\n",
    "them as done. Use the `ShowList`-method to inspect their state.\n",
    "\n",
    "Listing 23: Is this an immutable todo list?"
   ]
  },
  {
   "cell_type": "code",
   "execution_count": null,
   "id": "0745f9fe-3504-4b18-89af-5c33ac1f616f",
   "metadata": {
    "dotnet_interactive": {
     "language": "csharp"
    },
    "vscode": {
     "languageId": "polyglot-notebook"
    }
   },
   "outputs": [],
   "source": [
    "public class TodoList\n",
    "{\n",
    "    private List<Todo> todos;\n",
    "\n",
    "    public int Count => todos.Count;\n",
    "\n",
    "    public TodoList()\n",
    "    {\n",
    "        todos = new List<Todo>();\n",
    "    }\n",
    "\n",
    "    private TodoList(List<Todo> items)\n",
    "    {\n",
    "        todos = items;\n",
    "    }\n",
    "\n",
    "\n",
    "    public TodoList Add(Todo item)\n",
    "    {\n",
    "        TodoList result = new TodoList(todos);\n",
    "        result.todos.Add(item);\n",
    "        return result;\n",
    "    }\n",
    "\n",
    "    public TodoList MarkAsDone(Todo item)\n",
    "    {\n",
    "        TodoList result = new TodoList(todos);\n",
    "        var i = result.todos.IndexOf(item);\n",
    "        result.todos[i] = new Todo(true, result.todos[i].Description);\n",
    "        return result;\n",
    "    }\n",
    "\n",
    "    public Todo Get(int index)\n",
    "    {\n",
    "        return todos[index];\n",
    "    }\n",
    "}\n",
    "\n",
    "\n",
    "void ShowList(TodoList l)\n",
    "{\n",
    "    for(var i = 0; i < l.Count; ++i)\n",
    "    {\n",
    "        var done = l.Get(i).Done ? 'X' : ' ';\n",
    "        Console.WriteLine($\"- [${done}] ${l.Get(i).Description}\");\n",
    "    }\n",
    "}"
   ]
  },
  {
   "cell_type": "code",
   "execution_count": null,
   "id": "3efc83e2-0906-474c-af9b-693e4c5bf8a1",
   "metadata": {
    "dotnet_interactive": {
     "language": "fsharp"
    },
    "vscode": {
     "languageId": "polyglot-notebook"
    }
   },
   "outputs": [],
   "source": [
    "// optional to do"
   ]
  },
  {
   "cell_type": "markdown",
   "id": "8c2197df-8a86-462b-85fc-54a263d240f6",
   "metadata": {},
   "source": [
    "------------------------------------------------------------------------\n",
    "\n",
    "------------------------------------------------------------------------\n",
    "\n",
    "**Exercise 11** Write a function in F# called `mult` that multiplies two\n",
    "numbers"
   ]
  },
  {
   "cell_type": "code",
   "execution_count": 2,
   "id": "1524b80d-274f-4504-b048-7ef7b0f1a713",
   "metadata": {
    "dotnet_interactive": {
     "language": "fsharp"
    },
    "vscode": {
     "languageId": "polyglot-notebook"
    }
   },
   "outputs": [],
   "source": [
    "let mult a b = a * b"
   ]
  },
  {
   "cell_type": "markdown",
   "id": "9e4fe6e1-43d3-480f-bc40-d1ca278b8ef5",
   "metadata": {},
   "source": [
    "------------------------------------------------------------------------\n",
    "\n",
    "------------------------------------------------------------------------\n",
    "\n",
    "**Exercise 12** Without using the multplication operator, write a\n",
    "function in F# called `mult3`. Any multiplications must be done by\n",
    "calling `mult`."
   ]
  },
  {
   "cell_type": "code",
   "execution_count": 16,
   "id": "e078ef9c-49ef-478c-805d-4e8dd9b97b60",
   "metadata": {
    "dotnet_interactive": {
     "language": "fsharp"
    },
    "vscode": {
     "languageId": "polyglot-notebook"
    }
   },
   "outputs": [
    {
     "data": {
      "text/html": [
       "<div class=\"dni-plaintext\"><pre>504</pre></div><style>\r\n",
       ".dni-code-hint {\r\n",
       "    font-style: italic;\r\n",
       "    overflow: hidden;\r\n",
       "    white-space: nowrap;\r\n",
       "}\r\n",
       ".dni-treeview {\r\n",
       "    white-space: nowrap;\r\n",
       "}\r\n",
       ".dni-treeview td {\r\n",
       "    vertical-align: top;\r\n",
       "    text-align: start;\r\n",
       "}\r\n",
       "details.dni-treeview {\r\n",
       "    padding-left: 1em;\r\n",
       "}\r\n",
       "table td {\r\n",
       "    text-align: start;\r\n",
       "}\r\n",
       "table tr { \r\n",
       "    vertical-align: top; \r\n",
       "    margin: 0em 0px;\r\n",
       "}\r\n",
       "table tr td pre \r\n",
       "{ \r\n",
       "    vertical-align: top !important; \r\n",
       "    margin: 0em 0px !important;\r\n",
       "} \r\n",
       "table th {\r\n",
       "    text-align: start;\r\n",
       "}\r\n",
       "</style>"
      ]
     },
     "metadata": {},
     "output_type": "display_data"
    }
   ],
   "source": [
    "let mult3 a b c = mult a (mult b c)\n",
    "mult3 9 8 7"
   ]
  },
  {
   "cell_type": "markdown",
   "id": "fabea716-7ae4-4a47-aeb2-90ab8e0c77a5",
   "metadata": {},
   "source": [
    "------------------------------------------------------------------------"
   ]
  }
 ],
 "metadata": {
  "language_info": {
   "name": "csharp"
  }
 },
 "nbformat": 4,
 "nbformat_minor": 5
}
