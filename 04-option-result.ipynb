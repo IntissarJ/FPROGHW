{
 "cells": [
  {
   "cell_type": "markdown",
   "id": "4e45461e-db96-4060-b6de-c6c629d5914d",
   "metadata": {},
   "source": [
    "------------------------------------------------------------------------\n",
    "\n",
    "**Exercise 1** Lsts. 2-4 contain three signatures taken from the .NET\n",
    "API Browser. Investigate the method signatures and answer the following\n",
    "questions *without* consulting any other information.\n",
    "\n",
    "1.  Can the method fail or will it always return?\n",
    "2.  If the method accepts arguments, what are valid values, which\n",
    "    arguments can be `null`?\n",
    "3.  If the method returns a reference, can that reference be null?"
   ]
  },
  {
   "cell_type": "code",
   "execution_count": null,
   "id": "c1baaf24-c755-4071-a4e0-cce01c50e8ac",
   "metadata": {
    "dotnet_interactive": {
     "language": "fsharp"
    },
    "vscode": {
     "languageId": "polyglot-notebook"
    }
   },
   "outputs": [],
   "source": [
    "//1. only the first can fail since the other methods wil always return something as in null because of the optionals \n",
    "//2.in this instance GetValue itself can be null. baseUri, RelativeUri and result can all be null\n",
    "//for the GetValue and TryCreate the references can be null"
   ]
  },
  {
   "cell_type": "markdown",
   "id": "8fb2e3d0-85f9-4a11-ac15-7f2bc7cf804b",
   "metadata": {},
   "source": [
    "------------------------------------------------------------------------\n",
    "\n",
    "Listing 2: The signature of `Console.WriteLine`\n",
    "\n",
    "``` csharp\n",
    "public static void WriteLine ();\n",
    "```\n",
    "\n",
    "Listing 3: The signature of `Array.GetValue`\n",
    "\n",
    "``` csharp\n",
    "public object? GetValue (int index);\n",
    "```\n",
    "\n",
    "Listing 4: The signature of `Uri.TryCreate`\n",
    "\n",
    "``` csharp\n",
    "public static bool TryCreate (Uri? baseUri, Uri? relativeUri, out Uri? result);\n",
    "```\n",
    "\n",
    "Listing 6: A definition `nameOf` that returns `None` for Stormtroopers"
   ]
  },
  {
   "cell_type": "code",
   "execution_count": 2,
   "id": "680ccc46-f11f-4664-8215-5a93d87ad0ee",
   "metadata": {
    "dotnet_interactive": {
     "language": "fsharp"
    },
    "vscode": {
     "languageId": "polyglot-notebook"
    }
   },
   "outputs": [
    {
     "data": {
      "text/html": [
       "<div class=\"dni-plaintext\"><pre>&lt;null&gt;</pre></div><style>\r\n",
       ".dni-code-hint {\r\n",
       "    font-style: italic;\r\n",
       "    overflow: hidden;\r\n",
       "    white-space: nowrap;\r\n",
       "}\r\n",
       ".dni-treeview {\r\n",
       "    white-space: nowrap;\r\n",
       "}\r\n",
       ".dni-treeview td {\r\n",
       "    vertical-align: top;\r\n",
       "    text-align: start;\r\n",
       "}\r\n",
       "details.dni-treeview {\r\n",
       "    padding-left: 1em;\r\n",
       "}\r\n",
       "table td {\r\n",
       "    text-align: start;\r\n",
       "}\r\n",
       "table tr { \r\n",
       "    vertical-align: top; \r\n",
       "    margin: 0em 0px;\r\n",
       "}\r\n",
       "table tr td pre \r\n",
       "{ \r\n",
       "    vertical-align: top !important; \r\n",
       "    margin: 0em 0px !important;\r\n",
       "} \r\n",
       "table th {\r\n",
       "    text-align: start;\r\n",
       "}\r\n",
       "</style>"
      ]
     },
     "metadata": {},
     "output_type": "display_data"
    }
   ],
   "source": [
    "type Rank =\n",
    "    | Initiate\n",
    "    | Padawan\n",
    "    | Knight\n",
    "    | Master\n",
    "\n",
    "type Affiliation =\n",
    "    | GalacticEmpire\n",
    "    | FirstOrder\n",
    "\n",
    "type Character =\n",
    "    | Jedi of string * Rank\n",
    "    | Stormtrooper of Affiliation\n",
    "    | DarthVader\n",
    "\n",
    "let nameOf c =\n",
    "    match c with\n",
    "    | Jedi (name, _) -> Some name\n",
    "    | DarthVader -> Some \"Anakin\"\n",
    "    | Stormtrooper _ -> None\n",
    "\n",
    "let yoda = Jedi (\"Yoda\", Master)\n",
    "let trooper = Stormtrooper GalacticEmpire\n",
    "let finn = Stormtrooper FirstOrder\n",
    "\n",
    "nameOf finn // -> None\n",
    "nameOf DarthVader // -> Some \"Anakin\""
   ]
  },
  {
   "cell_type": "markdown",
   "id": "7f01543c-0a99-4c26-8d0d-aa8d9440b1b8",
   "metadata": {},
   "source": [
    "Listing 7: Getting a value out of an Option"
   ]
  },
  {
   "cell_type": "code",
   "execution_count": 3,
   "id": "17bf1f6e-cecd-427b-ae14-1fad62ddb088",
   "metadata": {
    "dotnet_interactive": {
     "language": "fsharp"
    },
    "vscode": {
     "languageId": "polyglot-notebook"
    }
   },
   "outputs": [
    {
     "data": {
      "text/plain": [
       "nameless"
      ]
     },
     "metadata": {},
     "output_type": "display_data"
    }
   ],
   "source": [
    "let nameTrooper = nameOf trooper\n",
    "match nameTrooper with\n",
    "| None -> \"nameless\"\n",
    "| Some name -> name"
   ]
  },
  {
   "cell_type": "markdown",
   "id": "39da9a43-1676-483e-90b7-c5b7059fa5c8",
   "metadata": {},
   "source": [
    "Listing 8: This code does not handle nameless characters and will not\n",
    "compile"
   ]
  },
  {
   "cell_type": "code",
   "execution_count": 4,
   "id": "f59661a3-a311-4ea6-a669-ccf316e9fbff",
   "metadata": {
    "dotnet_interactive": {
     "language": "fsharp"
    },
    "vscode": {
     "languageId": "polyglot-notebook"
    }
   },
   "outputs": [
    {
     "ename": "Error",
     "evalue": "input.fsx (2,26)-(2,27) typecheck error This expression was expected to have type\n    'string'    \nbut here has type\n    'string option'    ",
     "output_type": "error",
     "traceback": [
      "input.fsx (2,26)-(2,27) typecheck error This expression was expected to have type\n",
      "    'string'    \n",
      "but here has type\n",
      "    'string option'    "
     ]
    }
   ],
   "source": [
    "let n = nameOf trooper\n",
    "printfn \"The name is %s\" n"
   ]
  },
  {
   "cell_type": "markdown",
   "id": "bc64a12d-859a-4d01-9126-e92374efa005",
   "metadata": {},
   "source": [
    "Listing 9: A discriminated union for phone number validation errors"
   ]
  },
  {
   "cell_type": "code",
   "execution_count": 5,
   "id": "0fce2c30-c3cc-491c-963b-db93177f3076",
   "metadata": {
    "dotnet_interactive": {
     "language": "fsharp"
    },
    "vscode": {
     "languageId": "polyglot-notebook"
    }
   },
   "outputs": [],
   "source": [
    "type ValidationError =\n",
    "    | InvalidLength\n",
    "    | InvalidPrefix"
   ]
  },
  {
   "cell_type": "markdown",
   "id": "6fca742d-df78-458b-b945-d61ff5966be5",
   "metadata": {},
   "source": [
    "Listing 10: A type for validated phone numbers."
   ]
  },
  {
   "cell_type": "code",
   "execution_count": 6,
   "id": "ab3da75c-4e7e-4992-bf78-530faabc7909",
   "metadata": {
    "dotnet_interactive": {
     "language": "fsharp"
    },
    "vscode": {
     "languageId": "polyglot-notebook"
    }
   },
   "outputs": [],
   "source": [
    "type ValidatedNumber =\n",
    "    | ValidNumber of string"
   ]
  },
  {
   "cell_type": "markdown",
   "id": "81971df8-97eb-4603-b0da-63b66711b6b0",
   "metadata": {},
   "source": [
    "Listing 12: A phone number validation function"
   ]
  },
  {
   "cell_type": "code",
   "execution_count": 13,
   "id": "6ef2ab7c-1479-45b2-86bc-a673ca61a11d",
   "metadata": {
    "dotnet_interactive": {
     "language": "fsharp"
    },
    "vscode": {
     "languageId": "polyglot-notebook"
    }
   },
   "outputs": [
    {
     "data": {
      "text/html": [
       "<details open=\"open\" class=\"dni-treeview\"><summary><span class=\"dni-code-hint\"><code>Microsoft.FSharp.Core.FSharpResult`2[FSI_0013+ValidatedNumber,FSI_0012+ValidationError]</code></span></summary><div><table><thead><tr></tr></thead><tbody><tr><td>ResultValue</td><td><details class=\"dni-treeview\"><summary><span class=\"dni-code-hint\"><code>ValidNumber \"0614600578\"</code></span></summary><div><table><thead><tr></tr></thead><tbody><tr><td>Item</td><td>0614600578</td></tr></tbody></table></div></details></td></tr><tr><td>ErrorValue</td><td><div class=\"dni-plaintext\"><pre>&lt;null&gt;</pre></div></td></tr></tbody></table></div></details><style>\r\n",
       ".dni-code-hint {\r\n",
       "    font-style: italic;\r\n",
       "    overflow: hidden;\r\n",
       "    white-space: nowrap;\r\n",
       "}\r\n",
       ".dni-treeview {\r\n",
       "    white-space: nowrap;\r\n",
       "}\r\n",
       ".dni-treeview td {\r\n",
       "    vertical-align: top;\r\n",
       "    text-align: start;\r\n",
       "}\r\n",
       "details.dni-treeview {\r\n",
       "    padding-left: 1em;\r\n",
       "}\r\n",
       "table td {\r\n",
       "    text-align: start;\r\n",
       "}\r\n",
       "table tr { \r\n",
       "    vertical-align: top; \r\n",
       "    margin: 0em 0px;\r\n",
       "}\r\n",
       "table tr td pre \r\n",
       "{ \r\n",
       "    vertical-align: top !important; \r\n",
       "    margin: 0em 0px !important;\r\n",
       "} \r\n",
       "table th {\r\n",
       "    text-align: start;\r\n",
       "}\r\n",
       "</style>"
      ]
     },
     "metadata": {},
     "output_type": "display_data"
    }
   ],
   "source": [
    "let validateNumber number =\n",
    "    if (String.length number) <> 10 then\n",
    "        Error InvalidLength\n",
    "    elif number.StartsWith(\"06\") then\n",
    "        Ok (ValidNumber number)\n",
    "    else\n",
    "        Error InvalidPrefix\n",
    "\n",
    "validateNumber \"0614600578\""
   ]
  },
  {
   "cell_type": "markdown",
   "id": "670ecdd7-e73a-45f7-a1a6-342132575f50",
   "metadata": {},
   "source": [
    "------------------------------------------------------------------------\n",
    "\n",
    "**Exercise 2** Run the code from lst. 13. Change the code to trigger\n",
    "both error messages\n",
    "\n",
    "Listing 13: Using validateNumber"
   ]
  },
  {
   "cell_type": "code",
   "execution_count": 18,
   "id": "c87c8be8-804b-4dad-8bda-3d81ff3180e3",
   "metadata": {
    "dotnet_interactive": {
     "language": "fsharp"
    },
    "vscode": {
     "languageId": "polyglot-notebook"
    }
   },
   "outputs": [
    {
     "name": "stdout",
     "output_type": "stream",
     "text": [
      "Numbers should be ten digits in length\n"
     ]
    }
   ],
   "source": [
    "let number = \"07123456781\"\n",
    "match validateNumber number with\n",
    "| Ok (ValidNumber n) -> printfn \"%s is a valid number\" n\n",
    "| Error InvalidLength -> printfn \"Numbers should be ten digits in length\"\n",
    "| Error InvalidPrefix -> printfn \"Numbers should start with '06'\""
   ]
  },
  {
   "cell_type": "code",
   "execution_count": 21,
   "id": "8f01b021-2c2c-46fb-988a-0ab8e515ac89",
   "metadata": {
    "dotnet_interactive": {
     "language": "fsharp"
    },
    "vscode": {
     "languageId": "polyglot-notebook"
    }
   },
   "outputs": [
    {
     "data": {
      "text/html": [
       "<details open=\"open\" class=\"dni-treeview\"><summary><span class=\"dni-code-hint\"><code>Microsoft.FSharp.Core.FSharpResult`2[FSI_0013+ValidatedNumber,FSI_0012+ValidationError]</code></span></summary><div><table><thead><tr></tr></thead><tbody><tr><td>ResultValue</td><td><details class=\"dni-treeview\"><summary><span class=\"dni-code-hint\"><code>ValidNumber \"0612345678\"</code></span></summary><div><table><thead><tr></tr></thead><tbody><tr><td>Item</td><td>0612345678</td></tr></tbody></table></div></details></td></tr><tr><td>ErrorValue</td><td><div class=\"dni-plaintext\"><pre>&lt;null&gt;</pre></div></td></tr></tbody></table></div></details><style>\r\n",
       ".dni-code-hint {\r\n",
       "    font-style: italic;\r\n",
       "    overflow: hidden;\r\n",
       "    white-space: nowrap;\r\n",
       "}\r\n",
       ".dni-treeview {\r\n",
       "    white-space: nowrap;\r\n",
       "}\r\n",
       ".dni-treeview td {\r\n",
       "    vertical-align: top;\r\n",
       "    text-align: start;\r\n",
       "}\r\n",
       "details.dni-treeview {\r\n",
       "    padding-left: 1em;\r\n",
       "}\r\n",
       "table td {\r\n",
       "    text-align: start;\r\n",
       "}\r\n",
       "table tr { \r\n",
       "    vertical-align: top; \r\n",
       "    margin: 0em 0px;\r\n",
       "}\r\n",
       "table tr td pre \r\n",
       "{ \r\n",
       "    vertical-align: top !important; \r\n",
       "    margin: 0em 0px !important;\r\n",
       "} \r\n",
       "table th {\r\n",
       "    text-align: start;\r\n",
       "}\r\n",
       "</style>"
      ]
     },
     "metadata": {},
     "output_type": "display_data"
    }
   ],
   "source": [
    "validateNumber \"0712345678\"\n",
    "validateNumber \"0612345678\"\n",
    "//it wil only trigger the first error it encounters, not both of them"
   ]
  },
  {
   "cell_type": "markdown",
   "id": "49b4d26a-1e2c-43e7-812b-c4c1755d2663",
   "metadata": {},
   "source": [
    "------------------------------------------------------------------------\n",
    "\n",
    "------------------------------------------------------------------------\n",
    "\n",
    "**Exercise 3** For each of the following functions explain if they are\n",
    "total or partial.\n",
    "\n",
    "``` csharp\n",
    "int Divide(int num, int by)\n",
    "{\n",
    "    return num / by;\n",
    "}\n",
    "```\n",
    "\n",
    "``` csharp\n",
    "int SumFirstElements(int[] elements, int num)\n",
    "{\n",
    "    var total = 0;\n",
    "    for(var i = 0; i < num; ++i)\n",
    "        total = elements[i];\n",
    "    return total;\n",
    "}\n",
    "```\n",
    "\n",
    "``` csharp\n",
    "bool IsEven(int n)\n",
    "{\n",
    "    if (n >= 0)\n",
    "    {\n",
    "        return n % 2 == 0;\n",
    "    }\n",
    "    return false;\n",
    "}\n",
    "```"
   ]
  },
  {
   "cell_type": "code",
   "execution_count": null,
   "id": "258be88f-0c9e-4ea7-93b8-ddb36684ea9b",
   "metadata": {
    "dotnet_interactive": {
     "language": "fsharp"
    },
    "vscode": {
     "languageId": "polyglot-notebook"
    }
   },
   "outputs": [],
   "source": [
    "//Divide is total\n",
    "//SumFirstElements is partial\n",
    "//IsEven is total"
   ]
  },
  {
   "cell_type": "markdown",
   "id": "837124f2-5104-44e4-aa7a-1b19c59a8686",
   "metadata": {},
   "source": [
    "------------------------------------------------------------------------\n",
    "\n",
    "------------------------------------------------------------------------\n",
    "\n",
    "**Exercise 4** The method `IndexOf` searches an array for a particular\n",
    "number. If found, its index is returned. Otherwise `-1` is returned.\n",
    "What do you think of the use of `-1` as a signal that `element` was not\n",
    "found.\n",
    "\n",
    "``` csharp\n",
    "int IndexOf(int element, int[] array)\n",
    "{\n",
    "    for(var i = 0; i < )\n",
    "}\n",
    "```"
   ]
  },
  {
   "cell_type": "code",
   "execution_count": null,
   "id": "95fcb246-e22b-44d3-a3ee-b2c989d8db2e",
   "metadata": {
    "dotnet_interactive": {
     "language": "fsharp"
    },
    "vscode": {
     "languageId": "polyglot-notebook"
    }
   },
   "outputs": [],
   "source": [
    "//It should result in an indexOutOfBounds exception and not return an -1 else it wont be proper error handling cuz it will cause for\n",
    "// Technical debt when it will be programmed on this function which it will use heavier tasks and not caught this off."
   ]
  },
  {
   "cell_type": "markdown",
   "id": "58f421c4-cf3f-498e-a836-30434ea1a422",
   "metadata": {},
   "source": [
    "------------------------------------------------------------------------\n",
    "\n",
    "------------------------------------------------------------------------\n",
    "\n",
    "**Exercise 5** The method `MinElement` returns the smallest of an array.\n",
    "If the array is empty, `-1` is returned. What do you think of the result\n",
    "`-1` being returned for empty arrays.\n",
    "\n",
    "``` csharp\n",
    "int MinElement(int[] array)\n",
    "{\n",
    "    if (array.Length == 0)\n",
    "        return -1;\n",
    "\n",
    "    var result = array[0];\n",
    "    foreach (var i in array)\n",
    "        if (i < result)\n",
    "            result = i;\n",
    "    return result;\n",
    "}\n",
    "```"
   ]
  },
  {
   "cell_type": "code",
   "execution_count": null,
   "id": "0e41d459-c945-440c-b938-91f6a6ad2043",
   "metadata": {
    "dotnet_interactive": {
     "language": "fsharp"
    },
    "vscode": {
     "languageId": "polyglot-notebook"
    }
   },
   "outputs": [],
   "source": [
    "//The same aplies to this question from above answer"
   ]
  },
  {
   "cell_type": "markdown",
   "id": "b3c3c8f8-a89c-43b1-abdd-1d5ee7285a28",
   "metadata": {},
   "source": [
    "------------------------------------------------------------------------\n",
    "\n",
    "------------------------------------------------------------------------\n",
    "\n",
    "**Exercise 6** In The Netherlands, the combination of a postcode and a\n",
    "house number is sufficient to determine an address.\n",
    "\n",
    "A postcode takes the form “1234 AB” where the first four characters are\n",
    "always numbers followed by a space and two uppercase characters.\n",
    "\n",
    "House numbers can take on many forms, but for the purposes of this\n",
    "exercise we assume that they may only consist of decimal digits.\n",
    "\n",
    "A full Dutch postcode and house; number combination looks as follows:\n",
    "\n",
    "    NL-1337 LE 42\n",
    "\n",
    "In tbl. 1 is an overview of valid and invalid combinations:\n",
    "\n",
    "1.  Write a function `validateHouseNumber` that takes a string and\n",
    "    returns a validated house number or an error value indicating why\n",
    "    validation failed.\n",
    "2.  Write a function `validatePostalCode`that transforms a string into a\n",
    "    valid postal code or returns a meaningful error value that indicates\n",
    "    why validation failed.\n",
    "3.  Write a function `validateAddress` that takes a string and returns a\n",
    "    validated address or an error indicating the cause of the problem\n",
    "4.  Combine this into a program that asks the user for an address of the\n",
    "    form shown in tbl. 1 and then confirms if the address could be\n",
    "    validated, or provides a meaningful error message that helps the\n",
    "    user correct the issue."
   ]
  },
  {
   "cell_type": "code",
   "execution_count": null,
   "id": "fcc42116-796e-4dc6-a06a-802e28e6bdb4",
   "metadata": {
    "dotnet_interactive": {
     "language": "fsharp"
    },
    "vscode": {
     "languageId": "polyglot-notebook"
    }
   },
   "outputs": [],
   "source": [
    "// Combination Valid Reason\n",
    "// NL-1337 LE 42 Yes\n",
    "// NL-1337LE 42 No Missing space in postal code\n",
    "// 75\n",
    "// 4. Alternatives for exceptions and null\n",
    "// NL-31337 LE 42 No Too many digits before space\n",
    "// 1337 LE 42 No Missing prefix NLNL-1337 11 42 No Numbers instead of letters\n",
    "// NL-1337 11 4x No Letter in house number\n",
    "// NL-1337 42 59 No Too many parts\n",
    "\n",
    "let validateHouseNumber number =\n",
    "    if (String.length number) <> 10 then\n",
    "        Error InvalidLength \n",
    "    elif number.StartsWith(\"06\") then\n",
    "        Ok (ValidNumber number)\n",
    "    else\n",
    "        Error InvalidPrefix\n",
    "\n",
    "let validatePostalCode number =\n",
    "    if (String.length number) <> 10 then\n",
    "        Error InvalidLength\n",
    "    elif number.StartsWith(\"06\") then\n",
    "        Ok (ValidNumber number)\n",
    "    else\n",
    "        Error InvalidPrefix\n",
    "\n",
    "\n",
    "let validateAddress number =\n",
    "    if (String.length number) <> 10 then\n",
    "        Error InvalidLength\n",
    "    elif number.StartsWith(\"06\") then\n",
    "        Ok (ValidNumber number)\n",
    "    else\n",
    "        Error InvalidPrefix\n"
   ]
  },
  {
   "cell_type": "markdown",
   "id": "19b2313f-f219-484c-83ad-fe666ede89fb",
   "metadata": {},
   "source": [
    "------------------------------------------------------------------------"
   ]
  }
 ],
 "metadata": {
  "language_info": {
   "name": "csharp"
  }
 },
 "nbformat": 4,
 "nbformat_minor": 5
}
