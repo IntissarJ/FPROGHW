{
 "cells": [
  {
   "cell_type": "markdown",
   "metadata": {},
   "source": [
    "------------------------------------------------------------------------\n",
    "\n",
    "**Exercise 1** Lsts. 2-4 contain three signatures taken from the .NET\n",
    "API Browser. Investigate the method signatures and answer the following\n",
    "questions *without* consulting any other information.\n",
    "\n",
    "1.  Can the method fail or will it always return?\n",
    "2.  If the method accepts arguments, what are valid values, which\n",
    "    arguments can be `null`?\n",
    "3.  If the method returns a reference, can that reference be null?"
   ],
   "id": "4e45461e-db96-4060-b6de-c6c629d5914d"
  },
  {
   "cell_type": "code",
   "execution_count": null,
   "metadata": {
    "dotnet_interactive": {
     "language": "fsharp"
    }
   },
   "outputs": [],
   "source": [
    "// your code here"
   ],
   "id": "c1baaf24-c755-4071-a4e0-cce01c50e8ac"
  },
  {
   "cell_type": "markdown",
   "metadata": {},
   "source": [
    "------------------------------------------------------------------------\n",
    "\n",
    "Listing 2: The signature of `Console.WriteLine`\n",
    "\n",
    "``` csharp\n",
    "public static void WriteLine ();\n",
    "```\n",
    "\n",
    "Listing 3: The signature of `Array.GetValue`\n",
    "\n",
    "``` csharp\n",
    "public object? GetValue (int index);\n",
    "```\n",
    "\n",
    "Listing 4: The signature of `Uri.TryCreate`\n",
    "\n",
    "``` csharp\n",
    "public static bool TryCreate (Uri? baseUri, Uri? relativeUri, out Uri? result);\n",
    "```\n",
    "\n",
    "Listing 6: A definition `nameOf` that returns `None` for Stormtroopers"
   ],
   "id": "8fb2e3d0-85f9-4a11-ac15-7f2bc7cf804b"
  },
  {
   "cell_type": "code",
   "execution_count": null,
   "metadata": {
    "dotnet_interactive": {
     "language": "fsharp"
    }
   },
   "outputs": [],
   "source": [
    "type Rank =\n",
    "    | Initiate\n",
    "    | Padawan\n",
    "    | Knight\n",
    "    | Master\n",
    "\n",
    "type Affiliation =\n",
    "    | GalacticEmpire\n",
    "    | FirstOrder\n",
    "\n",
    "type Character =\n",
    "    | Jedi of string * Rank\n",
    "    | Stormtrooper of Affiliation\n",
    "    | DarthVader\n",
    "\n",
    "let nameOf c =\n",
    "    match c with\n",
    "    | Jedi (name, _) -> Some name\n",
    "    | DarthVader -> Some \"Anakin\"\n",
    "    | Stormtrooper _ -> None\n",
    "\n",
    "let yoda = Jedi (\"Yoda\", Master)\n",
    "let trooper = Stormtrooper GalacticEmpire\n",
    "let finn = Stormtrooper FirstOrder\n",
    "\n",
    "nameOf finn // -> None\n",
    "nameOf DarthVader // -> Some \"Anakin\""
   ],
   "id": "680ccc46-f11f-4664-8215-5a93d87ad0ee"
  },
  {
   "cell_type": "markdown",
   "metadata": {},
   "source": [
    "Listing 7: Getting a value out of an Option"
   ],
   "id": "7f01543c-0a99-4c26-8d0d-aa8d9440b1b8"
  },
  {
   "cell_type": "code",
   "execution_count": null,
   "metadata": {
    "dotnet_interactive": {
     "language": "fsharp"
    }
   },
   "outputs": [],
   "source": [
    "let nameTrooper = nameOf trooper\n",
    "match nameTrooper with\n",
    "| None -> \"nameless\"\n",
    "| Some name -> name"
   ],
   "id": "17bf1f6e-cecd-427b-ae14-1fad62ddb088"
  },
  {
   "cell_type": "markdown",
   "metadata": {},
   "source": [
    "Listing 8: This code does not handle nameless characters and will not\n",
    "compile"
   ],
   "id": "39da9a43-1676-483e-90b7-c5b7059fa5c8"
  },
  {
   "cell_type": "code",
   "execution_count": null,
   "metadata": {
    "dotnet_interactive": {
     "language": "fsharp"
    }
   },
   "outputs": [],
   "source": [
    "let n = nameOf trooper\n",
    "printfn \"The name is %s\" n"
   ],
   "id": "f59661a3-a311-4ea6-a669-ccf316e9fbff"
  },
  {
   "cell_type": "markdown",
   "metadata": {},
   "source": [
    "Listing 9: A discriminated union for phone number validation errors"
   ],
   "id": "bc64a12d-859a-4d01-9126-e92374efa005"
  },
  {
   "cell_type": "code",
   "execution_count": null,
   "metadata": {
    "dotnet_interactive": {
     "language": "fsharp"
    }
   },
   "outputs": [],
   "source": [
    "type ValidationError =\n",
    "    | InvalidLength\n",
    "    | InvalidPrefix"
   ],
   "id": "0fce2c30-c3cc-491c-963b-db93177f3076"
  },
  {
   "cell_type": "markdown",
   "metadata": {},
   "source": [
    "Listing 10: A type for validated phone numbers."
   ],
   "id": "6fca742d-df78-458b-b945-d61ff5966be5"
  },
  {
   "cell_type": "code",
   "execution_count": null,
   "metadata": {
    "dotnet_interactive": {
     "language": "fsharp"
    }
   },
   "outputs": [],
   "source": [
    "type ValidatedNumber =\n",
    "    | ValidNumber of string"
   ],
   "id": "ab3da75c-4e7e-4992-bf78-530faabc7909"
  },
  {
   "cell_type": "markdown",
   "metadata": {},
   "source": [
    "Listing 12: A phone number validation function"
   ],
   "id": "81971df8-97eb-4603-b0da-63b66711b6b0"
  },
  {
   "cell_type": "code",
   "execution_count": null,
   "metadata": {
    "dotnet_interactive": {
     "language": "fsharp"
    }
   },
   "outputs": [],
   "source": [
    "let validateNumber number =\n",
    "    if (String.length number) <> 10 then\n",
    "        Error InvalidLength\n",
    "    elif number.StartsWith(\"06\") then\n",
    "        Ok (ValidNumber number)\n",
    "    else\n",
    "        Error InvalidPrefix"
   ],
   "id": "6ef2ab7c-1479-45b2-86bc-a673ca61a11d"
  },
  {
   "cell_type": "markdown",
   "metadata": {},
   "source": [
    "------------------------------------------------------------------------\n",
    "\n",
    "**Exercise 2** Run the code from lst. 13. Change the code to trigger\n",
    "both error messages\n",
    "\n",
    "Listing 13: Using validateNumber"
   ],
   "id": "670ecdd7-e73a-45f7-a1a6-342132575f50"
  },
  {
   "cell_type": "code",
   "execution_count": null,
   "metadata": {
    "dotnet_interactive": {
     "language": "fsharp"
    }
   },
   "outputs": [],
   "source": [
    "let number = \"0712345678\"\n",
    "match validateNumber number with\n",
    "| Ok (ValidNumber n) -> printfn \"%s is a valid number\" n\n",
    "| Error InvalidLength -> printfn \"Numbers should be ten digits in length\"\n",
    "| Error InvalidPrefix -> printfn \"Numbers should start with '06'\""
   ],
   "id": "c87c8be8-804b-4dad-8bda-3d81ff3180e3"
  },
  {
   "cell_type": "code",
   "execution_count": null,
   "metadata": {
    "dotnet_interactive": {
     "language": "fsharp"
    }
   },
   "outputs": [],
   "source": [
    "// your code here"
   ],
   "id": "8f01b021-2c2c-46fb-988a-0ab8e515ac89"
  },
  {
   "cell_type": "markdown",
   "metadata": {},
   "source": [
    "------------------------------------------------------------------------\n",
    "\n",
    "------------------------------------------------------------------------\n",
    "\n",
    "**Exercise 3** For each of the following functions explain if they are\n",
    "total or partial.\n",
    "\n",
    "``` csharp\n",
    "int Divide(int num, int by)\n",
    "{\n",
    "    return num / by;\n",
    "}\n",
    "```\n",
    "\n",
    "``` csharp\n",
    "int SumFirstElements(int[] elements, int num)\n",
    "{\n",
    "    var total = 0;\n",
    "    for(var i = 0; i < num; ++i)\n",
    "        total = elements[i];\n",
    "    return total;\n",
    "}\n",
    "```\n",
    "\n",
    "``` csharp\n",
    "bool IsEven(int n)\n",
    "{\n",
    "    if (n >= 0)\n",
    "    {\n",
    "        return n % 2 == 0;\n",
    "    }\n",
    "    return false;\n",
    "}\n",
    "```"
   ],
   "id": "49b4d26a-1e2c-43e7-812b-c4c1755d2663"
  },
  {
   "cell_type": "code",
   "execution_count": null,
   "metadata": {
    "dotnet_interactive": {
     "language": "fsharp"
    }
   },
   "outputs": [],
   "source": [
    "// your code here"
   ],
   "id": "258be88f-0c9e-4ea7-93b8-ddb36684ea9b"
  },
  {
   "cell_type": "markdown",
   "metadata": {},
   "source": [
    "------------------------------------------------------------------------\n",
    "\n",
    "------------------------------------------------------------------------\n",
    "\n",
    "**Exercise 4** The method `IndexOf` searches an array for a particular\n",
    "number. If found, its index is returned. Otherwise `-1` is returned.\n",
    "What do you think of the use of `-1` as a signal that `element` was not\n",
    "found.\n",
    "\n",
    "``` csharp\n",
    "int IndexOf(int element, int[] array)\n",
    "{\n",
    "    for(var i = 0; i < )\n",
    "}\n",
    "```"
   ],
   "id": "837124f2-5104-44e4-aa7a-1b19c59a8686"
  },
  {
   "cell_type": "code",
   "execution_count": null,
   "metadata": {
    "dotnet_interactive": {
     "language": "fsharp"
    }
   },
   "outputs": [],
   "source": [
    "// your code here"
   ],
   "id": "95fcb246-e22b-44d3-a3ee-b2c989d8db2e"
  },
  {
   "cell_type": "markdown",
   "metadata": {},
   "source": [
    "------------------------------------------------------------------------\n",
    "\n",
    "------------------------------------------------------------------------\n",
    "\n",
    "**Exercise 5** The method `MinElement` returns the smallest of an array.\n",
    "If the array is empty, `-1` is returned. What do you think of the result\n",
    "`-1` being returned for empty arrays.\n",
    "\n",
    "``` csharp\n",
    "int MinElement(int[] array)\n",
    "{\n",
    "    if (array.Length == 0)\n",
    "        return -1;\n",
    "\n",
    "    var result = array[0];\n",
    "    foreach (var i in array)\n",
    "        if (i < result)\n",
    "            result = i;\n",
    "    return result;\n",
    "}\n",
    "```"
   ],
   "id": "58f421c4-cf3f-498e-a836-30434ea1a422"
  },
  {
   "cell_type": "code",
   "execution_count": null,
   "metadata": {
    "dotnet_interactive": {
     "language": "fsharp"
    }
   },
   "outputs": [],
   "source": [
    "// your code here"
   ],
   "id": "0e41d459-c945-440c-b938-91f6a6ad2043"
  },
  {
   "cell_type": "markdown",
   "metadata": {},
   "source": [
    "------------------------------------------------------------------------\n",
    "\n",
    "------------------------------------------------------------------------\n",
    "\n",
    "**Exercise 6** In The Netherlands, the combination of a postcode and a\n",
    "house number is sufficient to determine an address.\n",
    "\n",
    "A postcode takes the form “1234 AB” where the first four characters are\n",
    "always numbers followed by a space and two uppercase characters.\n",
    "\n",
    "House numbers can take on many forms, but for the purposes of this\n",
    "exercise we assume that they may only consist of decimal digits.\n",
    "\n",
    "A full Dutch postcode and house; number combination looks as follows:\n",
    "\n",
    "    NL-1337 LE 42\n",
    "\n",
    "In tbl. 1 is an overview of valid and invalid combinations:\n",
    "\n",
    "1.  Write a function `validateHouseNumber` that takes a string and\n",
    "    returns a validated house number or an error value indicating why\n",
    "    validation failed.\n",
    "2.  Write a function `validatePostalCode`that transforms a string into a\n",
    "    valid postal code or returns a meaningful error value that indicates\n",
    "    why validation failed.\n",
    "3.  Write a function `validateAddress` that takes a string and returns a\n",
    "    validated address or an error indicating the cause of the problem\n",
    "4.  Combine this into a program that asks the user for an address of the\n",
    "    form shown in tbl. 1 and then confirms if the address could be\n",
    "    validated, or provides a meaningful error message that helps the\n",
    "    user correct the issue."
   ],
   "id": "b3c3c8f8-a89c-43b1-abdd-1d5ee7285a28"
  },
  {
   "cell_type": "code",
   "execution_count": null,
   "metadata": {
    "dotnet_interactive": {
     "language": "fsharp"
    }
   },
   "outputs": [],
   "source": [
    "// your code here"
   ],
   "id": "fcc42116-796e-4dc6-a06a-802e28e6bdb4"
  },
  {
   "cell_type": "markdown",
   "metadata": {},
   "source": [
    "------------------------------------------------------------------------"
   ],
   "id": "19b2313f-f219-484c-83ad-fe666ede89fb"
  }
 ],
 "nbformat": 4,
 "nbformat_minor": 5,
 "metadata": {}
}
