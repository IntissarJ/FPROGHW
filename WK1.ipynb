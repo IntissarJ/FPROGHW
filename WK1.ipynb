{
 "cells": [
  {
   "cell_type": "code",
   "execution_count": 29,
   "metadata": {
    "dotnet_interactive": {
     "language": "csharp"
    },
    "polyglot_notebook": {
     "kernelName": "csharp"
    },
    "vscode": {
     "languageId": "polyglot-notebook"
    }
   },
   "outputs": [
    {
     "name": "stdout",
     "output_type": "stream",
     "text": [
      "Done with dfasfdsa\r\n"
     ]
    }
   ],
   "source": [
    "public class Todo\n",
    "{\n",
    "    private bool _done;\n",
    "    public bool Done { get => _done; }\n",
    "    public string Description { get; init; }\n",
    "    \n",
    "    public Todo()\n",
    "    {\n",
    "        _done = false;\n",
    "    }\n",
    "    \n",
    "    public void MarkDone()\n",
    "    {\n",
    "        _done = true;\n",
    "        Console.WriteLine($\"Done with {Description}\");\n",
    "    }\n",
    "}\n",
    "\n",
    "var todo = new Todo() { Description = \"dfasfdsa\"};\n",
    "todo.MarkDone();"
   ]
  },
  {
   "cell_type": "code",
   "execution_count": null,
   "metadata": {
    "dotnet_interactive": {
     "language": "csharp"
    },
    "polyglot_notebook": {
     "kernelName": "csharp"
    },
    "vscode": {
     "languageId": "polyglot-notebook"
    }
   },
   "outputs": [],
   "source": [
    "public class TodoList\n",
    "{\n",
    "    private List<Todo> todos;\n",
    "\n",
    "    public int Count => todos.Count;\n",
    "\n",
    "    public TodoList()\n",
    "    {\n",
    "        todos = new List<Todo>();\n",
    "    }\n",
    "\n",
    "    private TodoList(List<Todo> items)\n",
    "    {\n",
    "        todos = items;\n",
    "    }\n",
    "\n",
    "    public TodoList Add(Todo item)\n",
    "    {\n",
    "        TodoList result = new TodoList(todos);\n",
    "        result.todos.Add(item);\n",
    "        return result;\n",
    "    }\n",
    "\n",
    "    public TodoList MarkAsDone(Todo item)\n",
    "    {\n",
    "        TodoList result = new TodoList(todos);\n",
    "        var i = result.todos.IndexOf(item);\n",
    "        //now its immutable because only the done marking \n",
    "        //is changed without accessing te description info\n",
    "        //this method is supposed to be only changing the done value\n",
    "        result.todos[i].MarkDone();\n",
    "\n",
    "        return result;\n",
    "    }\n",
    "\n",
    "    public Todo Get(int index)\n",
    "    {\n",
    "        return todos[index];\n",
    "    }\n",
    "\n",
    "    void ShowList(TodoList l)\n",
    "    {\n",
    "        for(var i = 0; i < l.Count; ++i)\n",
    "        {\n",
    "            var done = l.Get(i).Done ? 'X' : ' ';\n",
    "            Console.WriteLine($\"- [${done}] ${l.Get(i).Description}\");\n",
    "        }\n",
    "    }\n",
    "}"
   ]
  },
  {
   "cell_type": "code",
   "execution_count": 34,
   "metadata": {
    "dotnet_interactive": {
     "language": "fsharp"
    },
    "polyglot_notebook": {
     "kernelName": "fsharp"
    },
    "vscode": {
     "languageId": "polyglot-notebook"
    }
   },
   "outputs": [
    {
     "data": {
      "text/html": [
       "<div class=\"dni-plaintext\"><pre>72</pre></div><style>\r\n",
       ".dni-code-hint {\r\n",
       "    font-style: italic;\r\n",
       "    overflow: hidden;\r\n",
       "    white-space: nowrap;\r\n",
       "}\r\n",
       ".dni-treeview {\r\n",
       "    white-space: nowrap;\r\n",
       "}\r\n",
       ".dni-treeview td {\r\n",
       "    vertical-align: top;\r\n",
       "    text-align: start;\r\n",
       "}\r\n",
       "details.dni-treeview {\r\n",
       "    padding-left: 1em;\r\n",
       "}\r\n",
       "table td {\r\n",
       "    text-align: start;\r\n",
       "}\r\n",
       "table tr { \r\n",
       "    vertical-align: top; \r\n",
       "    margin: 0em 0px;\r\n",
       "}\r\n",
       "table tr td pre \r\n",
       "{ \r\n",
       "    vertical-align: top !important; \r\n",
       "    margin: 0em 0px !important;\r\n",
       "} \r\n",
       "table th {\r\n",
       "    text-align: start;\r\n",
       "}\r\n",
       "</style>"
      ]
     },
     "metadata": {},
     "output_type": "display_data"
    }
   ],
   "source": [
    "let mult a b = a * b\n",
    "let mult3 = mult\n",
    "mult3 9 8"
   ]
  },
  {
   "cell_type": "code",
   "execution_count": 30,
   "metadata": {
    "dotnet_interactive": {
     "language": "fsharp"
    },
    "polyglot_notebook": {
     "kernelName": "fsharp"
    },
    "vscode": {
     "languageId": "polyglot-notebook"
    }
   },
   "outputs": [],
   "source": [
    "\n",
    "\n",
    "// int called = 0;\n",
    "\n",
    "// int Add(int a, int b) {\n",
    "//  int sum = a + b;\n",
    "\n",
    "//  sum += called;\n",
    "\n",
    "//  called++; // change state\n",
    "\n",
    "//  Console.WriteLine(\"Result is {0}.\", sum); // perform I/O\n",
    "// return sum;\n",
    "// }\n",
    "\n",
    "// int Add3(int a, int b, int c)\n",
    "// {\n",
    "//         var sum = Add(Add(a,b),c);\n",
    "//         return sum;\n",
    "// }\n",
    "// Add3(1,2,3)\n",
    "\n",
    "let add a b = a + b\n",
    "add 1337 (6*7)\n",
    "\n",
    "let add3 a b c = \n",
    "    let sum = add (add a b) c \n",
    "    sum"
   ]
  },
  {
   "cell_type": "code",
   "execution_count": 31,
   "metadata": {
    "dotnet_interactive": {
     "language": "fsharp"
    },
    "polyglot_notebook": {
     "kernelName": "fsharp"
    },
    "vscode": {
     "languageId": "polyglot-notebook"
    }
   },
   "outputs": [],
   "source": []
  }
 ],
 "metadata": {
  "language_info": {
   "name": "csharp"
  },
  "orig_nbformat": 4
 },
 "nbformat": 4,
 "nbformat_minor": 2
}
