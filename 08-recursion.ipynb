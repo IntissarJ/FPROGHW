{
 "cells": [
  {
   "attachments": {},
   "cell_type": "markdown",
   "id": "f286fc81-ea10-433c-adb2-c9a149a9f17f",
   "metadata": {},
   "source": [
    "Listing 1: A mushroom is either clean or dirty."
   ]
  },
  {
   "cell_type": "code",
   "execution_count": 2,
   "id": "7e5c5363-b6f6-4946-8274-82abb34b4506",
   "metadata": {
    "dotnet_interactive": {
     "language": "fsharp"
    },
    "vscode": {
     "languageId": "polyglot-notebook"
    }
   },
   "outputs": [],
   "source": [
    "type CleanMushroom = \n",
    "    | CleanMushroom\n",
    "\n",
    "type DirtyMushroom = \n",
    "    | DirtyMushroom"
   ]
  },
  {
   "attachments": {},
   "cell_type": "markdown",
   "id": "fbaa3e17-b1ee-4006-b074-1e7384b66925",
   "metadata": {},
   "source": [
    "Listing 2: We use `List.replicate` to create a list of 25 dirty\n",
    "mushrooms"
   ]
  },
  {
   "cell_type": "code",
   "execution_count": 3,
   "id": "0eff731c-fbfd-4be7-b3c9-98f3279fe9a1",
   "metadata": {
    "dotnet_interactive": {
     "language": "fsharp"
    },
    "vscode": {
     "languageId": "polyglot-notebook"
    }
   },
   "outputs": [],
   "source": [
    "let basket = List.replicate 25 DirtyMushroom\n",
    "    // that is a lot of dirty mushrooms!"
   ]
  },
  {
   "attachments": {},
   "cell_type": "markdown",
   "id": "f83ae956-785c-40aa-902c-72702bf4edb3",
   "metadata": {},
   "source": [
    "Listing 3: Cleaning a single mushroom."
   ]
  },
  {
   "cell_type": "code",
   "execution_count": 4,
   "id": "23bf979e-7889-4dcd-b564-96b39a195f15",
   "metadata": {
    "dotnet_interactive": {
     "language": "fsharp"
    },
    "vscode": {
     "languageId": "polyglot-notebook"
    }
   },
   "outputs": [],
   "source": [
    "let clean DirtyMushroom =\n",
    "    CleanMushroom"
   ]
  },
  {
   "attachments": {},
   "cell_type": "markdown",
   "id": "016b22b9-2e15-47f0-8ee6-77abc44d1eb6",
   "metadata": {},
   "source": [
    "------------------------------------------------------------------------\n",
    "\n",
    "**Exercise 1** Answer the following questions:\n",
    "\n",
    "1.  How many teachers are in an empty list of people?\n",
    "2.  How many speeding tickets can be handed out to an empty list of\n",
    "    drivers?\n",
    "3.  How many dogs are there in a group of zero pets?\n",
    "4.  What is the total duration of all meetings in an empty agenda?\n",
    "5.  How many documents result from signing an empty list of contracts?\n",
    "6.  If you have to vaccinate all dogs in an empty list, what will the\n",
    "    list of vaccinated dogs look like?"
   ]
  },
  {
   "attachments": {},
   "cell_type": "markdown",
   "id": "4e36771a-7c3d-4482-97ab-867f2efcdd0a",
   "metadata": {},
   "source": [
    "*Your answer here*"
   ]
  },
  {
   "attachments": {},
   "cell_type": "markdown",
   "id": "60714195",
   "metadata": {},
   "source": []
  },
  {
   "attachments": {},
   "cell_type": "markdown",
   "id": "50ef3776-2b10-4d92-b11f-5cd7b8347bdd",
   "metadata": {},
   "source": [
    "------------------------------------------------------------------------"
   ]
  },
  {
   "attachments": {},
   "cell_type": "markdown",
   "id": "3bf6aaaf-bebb-4f6d-8fe9-ab437aacc91e",
   "metadata": {},
   "source": [
    "Listing 6: A record for people"
   ]
  },
  {
   "cell_type": "code",
   "execution_count": 5,
   "id": "ea9dfffb-9b84-40f9-a2f4-4da1e8e3125e",
   "metadata": {
    "dotnet_interactive": {
     "language": "fsharp"
    },
    "vscode": {
     "languageId": "polyglot-notebook"
    }
   },
   "outputs": [],
   "source": [
    "type Person =\n",
    "    { Name: string\n",
    "      IsTeacher: bool }"
   ]
  },
  {
   "attachments": {},
   "cell_type": "markdown",
   "id": "8d20e340-0dda-4c46-95c2-9847eef536a5",
   "metadata": {},
   "source": [
    "Listing 7: Building a list of people"
   ]
  },
  {
   "cell_type": "code",
   "execution_count": 6,
   "id": "2107b75c-d6e8-4291-9faf-46d9e3338a2e",
   "metadata": {
    "dotnet_interactive": {
     "language": "fsharp"
    },
    "vscode": {
     "languageId": "polyglot-notebook"
    }
   },
   "outputs": [],
   "source": [
    "let people =\n",
    "    [ { Person.Name = \"Jeroen\"; IsTeacher = true; }\n",
    "      { Name = \"Eleanor\"; IsTeacher = true; }\n",
    "      { Name = \"Enno\"; IsTeacher = false; }\n",
    "      { Name = \"Nona\"; IsTeacher = false; }\n",
    "      { Name = \"Fay\"; IsTeacher = true; }]"
   ]
  },
  {
   "attachments": {},
   "cell_type": "markdown",
   "id": "3831a5c9-012e-44fc-a166-a2f62a4632fa",
   "metadata": {},
   "source": [
    "Listing 8: The recursive function `countTeachers` calls itself on a\n",
    "smaller list"
   ]
  },
  {
   "cell_type": "code",
   "execution_count": 7,
   "id": "ebe6443c-7325-4816-9998-45be094ed543",
   "metadata": {
    "dotnet_interactive": {
     "language": "fsharp"
    },
    "vscode": {
     "languageId": "polyglot-notebook"
    }
   },
   "outputs": [],
   "source": [
    "\n",
    "let rec countTeachers people =\n",
    "    match people with\n",
    "    | [] -> 0 // base case\n",
    "    | person :: others -> // destruct\n",
    "        // solve \n",
    "        let teachersInHead =\n",
    "          match person with\n",
    "          | { Person.IsTeacher = t  } -> if t then 1 else 0\n",
    "        let teachersInTail =\n",
    "            countTeachers others\n",
    "        // combine\n",
    "        teachersInHead + teachersInTail\n",
    "        "
   ]
  },
  {
   "attachments": {},
   "cell_type": "markdown",
   "id": "738b1ed0-6f2a-4cc9-b514-2ea8c37ea1ac",
   "metadata": {},
   "source": [
    "Listing 9: We can now apply our function to a list of people"
   ]
  },
  {
   "cell_type": "code",
   "execution_count": 8,
   "id": "fb74eca7-28f5-4afc-a1ae-4140d933160a",
   "metadata": {
    "dotnet_interactive": {
     "language": "fsharp"
    },
    "vscode": {
     "languageId": "polyglot-notebook"
    }
   },
   "outputs": [
    {
     "data": {
      "text/html": [
       "<div class=\"dni-plaintext\"><pre>3</pre></div><style>\r\n",
       ".dni-code-hint {\r\n",
       "    font-style: italic;\r\n",
       "    overflow: hidden;\r\n",
       "    white-space: nowrap;\r\n",
       "}\r\n",
       ".dni-treeview {\r\n",
       "    white-space: nowrap;\r\n",
       "}\r\n",
       ".dni-treeview td {\r\n",
       "    vertical-align: top;\r\n",
       "    text-align: start;\r\n",
       "}\r\n",
       "details.dni-treeview {\r\n",
       "    padding-left: 1em;\r\n",
       "}\r\n",
       "table td {\r\n",
       "    text-align: start;\r\n",
       "}\r\n",
       "table tr { \r\n",
       "    vertical-align: top; \r\n",
       "    margin: 0em 0px;\r\n",
       "}\r\n",
       "table tr td pre \r\n",
       "{ \r\n",
       "    vertical-align: top !important; \r\n",
       "    margin: 0em 0px !important;\r\n",
       "} \r\n",
       "table th {\r\n",
       "    text-align: start;\r\n",
       "}\r\n",
       "</style>"
      ]
     },
     "metadata": {},
     "output_type": "display_data"
    }
   ],
   "source": [
    "countTeachers people\n",
    "  // -> 3"
   ]
  },
  {
   "attachments": {},
   "cell_type": "markdown",
   "id": "969258a1-fb92-4364-8653-ed8e3e75c9cc",
   "metadata": {},
   "source": [
    "------------------------------------------------------------------------\n",
    "\n",
    "**Exercise 2** Write a function `countNonTeachers` that returns the\n",
    "number of people that are not teachers."
   ]
  },
  {
   "cell_type": "code",
   "execution_count": 24,
   "id": "3707dd97-c949-4f99-af21-ca0548a6fedb",
   "metadata": {
    "dotnet_interactive": {
     "language": "fsharp"
    },
    "vscode": {
     "languageId": "polyglot-notebook"
    }
   },
   "outputs": [
    {
     "data": {
      "text/html": [
       "<div class=\"dni-plaintext\"><pre>2</pre></div><style>\r\n",
       ".dni-code-hint {\r\n",
       "    font-style: italic;\r\n",
       "    overflow: hidden;\r\n",
       "    white-space: nowrap;\r\n",
       "}\r\n",
       ".dni-treeview {\r\n",
       "    white-space: nowrap;\r\n",
       "}\r\n",
       ".dni-treeview td {\r\n",
       "    vertical-align: top;\r\n",
       "    text-align: start;\r\n",
       "}\r\n",
       "details.dni-treeview {\r\n",
       "    padding-left: 1em;\r\n",
       "}\r\n",
       "table td {\r\n",
       "    text-align: start;\r\n",
       "}\r\n",
       "table tr { \r\n",
       "    vertical-align: top; \r\n",
       "    margin: 0em 0px;\r\n",
       "}\r\n",
       "table tr td pre \r\n",
       "{ \r\n",
       "    vertical-align: top !important; \r\n",
       "    margin: 0em 0px !important;\r\n",
       "} \r\n",
       "table th {\r\n",
       "    text-align: start;\r\n",
       "}\r\n",
       "</style>"
      ]
     },
     "metadata": {},
     "output_type": "display_data"
    }
   ],
   "source": [
    "let rec countNonTeachers people =\n",
    "    match people with\n",
    "    | [] -> 0 // base case\n",
    "    | person :: others -> // destruct\n",
    "        // solve \n",
    "        let teachersInHead =\n",
    "          match person with\n",
    "          | { Person.IsTeacher = t  } -> if t then 0 else 1\n",
    "        let teachersInTail =\n",
    "            countTeachers others\n",
    "        // combine\n",
    "        teachersInHead + teachersInTail\n",
    "\n",
    "countNonTeachers people"
   ]
  },
  {
   "attachments": {},
   "cell_type": "markdown",
   "id": "987727ba-1119-47b1-bcc3-0b261edf4d28",
   "metadata": {},
   "source": [
    "------------------------------------------------------------------------\n",
    "\n",
    "------------------------------------------------------------------------\n",
    "\n",
    "**Exercise 3** Write a function `calcSum` following the\n",
    "destruct-solve-combine pattern that calculates the sum of a list of\n",
    "integers. Use thec ode from lst. 10 to test your function."
   ]
  },
  {
   "cell_type": "code",
   "execution_count": 26,
   "id": "dd5e72ec-5630-4587-aa06-e24c45afa2a0",
   "metadata": {
    "dotnet_interactive": {
     "language": "fsharp"
    },
    "vscode": {
     "languageId": "polyglot-notebook"
    }
   },
   "outputs": [
    {
     "data": {
      "text/html": [
       "<div class=\"dni-plaintext\"><pre>55</pre></div><style>\r\n",
       ".dni-code-hint {\r\n",
       "    font-style: italic;\r\n",
       "    overflow: hidden;\r\n",
       "    white-space: nowrap;\r\n",
       "}\r\n",
       ".dni-treeview {\r\n",
       "    white-space: nowrap;\r\n",
       "}\r\n",
       ".dni-treeview td {\r\n",
       "    vertical-align: top;\r\n",
       "    text-align: start;\r\n",
       "}\r\n",
       "details.dni-treeview {\r\n",
       "    padding-left: 1em;\r\n",
       "}\r\n",
       "table td {\r\n",
       "    text-align: start;\r\n",
       "}\r\n",
       "table tr { \r\n",
       "    vertical-align: top; \r\n",
       "    margin: 0em 0px;\r\n",
       "}\r\n",
       "table tr td pre \r\n",
       "{ \r\n",
       "    vertical-align: top !important; \r\n",
       "    margin: 0em 0px !important;\r\n",
       "} \r\n",
       "table th {\r\n",
       "    text-align: start;\r\n",
       "}\r\n",
       "</style>"
      ]
     },
     "metadata": {},
     "output_type": "display_data"
    }
   ],
   "source": [
    "let rec calcSum lst =\n",
    "    match lst with \n",
    "    | [] -> 0\n",
    "    | number :: others ->\n",
    "        let numberInHead =\n",
    "            0 + number\n",
    "        let numbersInTail =\n",
    "            calcSum others\n",
    "\n",
    "        numberInHead + numbersInTail\n",
    "\n",
    "calcSum [1..10]\n"
   ]
  },
  {
   "attachments": {},
   "cell_type": "markdown",
   "id": "e7c7bb39-8ccb-4bc0-b1fb-70eb6bf6ecfb",
   "metadata": {},
   "source": [
    "------------------------------------------------------------------------\n",
    "\n",
    "------------------------------------------------------------------------\n",
    "\n",
    "**Exercise 4** Write a function `markRead` that uses the\n",
    "destruct-solve-combine pattern to mark a list of emails as read. Lst. 11\n",
    "demonstrates how the function might be used.\n",
    "\n",
    "Listing 11: Example use of `markRead`"
   ]
  },
  {
   "cell_type": "code",
   "execution_count": 31,
   "id": "9999ad02-e33d-4a4b-9c7b-741443df6d58",
   "metadata": {
    "dotnet_interactive": {
     "language": "fsharp"
    },
    "vscode": {
     "languageId": "polyglot-notebook"
    }
   },
   "outputs": [
    {
     "data": {
      "text/html": [
       "<div class=\"dni-plaintext\"><pre>1</pre></div><style>\r\n",
       ".dni-code-hint {\r\n",
       "    font-style: italic;\r\n",
       "    overflow: hidden;\r\n",
       "    white-space: nowrap;\r\n",
       "}\r\n",
       ".dni-treeview {\r\n",
       "    white-space: nowrap;\r\n",
       "}\r\n",
       ".dni-treeview td {\r\n",
       "    vertical-align: top;\r\n",
       "    text-align: start;\r\n",
       "}\r\n",
       "details.dni-treeview {\r\n",
       "    padding-left: 1em;\r\n",
       "}\r\n",
       "table td {\r\n",
       "    text-align: start;\r\n",
       "}\r\n",
       "table tr { \r\n",
       "    vertical-align: top; \r\n",
       "    margin: 0em 0px;\r\n",
       "}\r\n",
       "table tr td pre \r\n",
       "{ \r\n",
       "    vertical-align: top !important; \r\n",
       "    margin: 0em 0px !important;\r\n",
       "} \r\n",
       "table th {\r\n",
       "    text-align: start;\r\n",
       "}\r\n",
       "</style>"
      ]
     },
     "metadata": {},
     "output_type": "display_data"
    }
   ],
   "source": [
    "let rec markRead emails =\n",
    "    match emails with\n",
    "    | [] -> 0 // base case\n",
    "    | email :: others -> // destruct\n",
    "        // solve \n",
    "        let emailsInHead =\n",
    "          match email with\n",
    "          | { Email.IsRead = t  } -> if t then 1 else 0\n",
    "        let emailsInTail =\n",
    "            markRead others\n",
    "        // combine\n",
    "        emailsInHead + emailsInTail\n",
    "\n",
    "markRead emails\n",
    "  // -> same as in emails but now all are read"
   ]
  },
  {
   "attachments": {},
   "cell_type": "markdown",
   "id": "2ef15243-bda3-4372-98bf-d9afb684ed2b",
   "metadata": {},
   "source": [
    "You can use the record and data defined in lst. 12.\n",
    "\n",
    "Listing 12: The definition of a record type for emails"
   ]
  },
  {
   "cell_type": "code",
   "execution_count": 12,
   "id": "683cb3fd-a34c-4a5f-90f6-5e894bea27c8",
   "metadata": {
    "dotnet_interactive": {
     "language": "fsharp"
    },
    "vscode": {
     "languageId": "polyglot-notebook"
    }
   },
   "outputs": [],
   "source": [
    "type Email = \n",
    "    { Subject: string\n",
    "      From: string\n",
    "      IsRead: bool }\n",
    "      \n",
    "let emails =\n",
    "    [{ Subject = \"Hello\"; From = \"Jeroen\"; IsRead = true}\n",
    "     { Subject = \"Order confirmed\"; \n",
    "         From = \"Maas\";\n",
    "         IsRead = false }\n",
    "     { Subject = \"You are visitor 1,000!!!\"; \n",
    "         From = \"Hacked Acquintance\";\n",
    "         IsRead = false }]"
   ]
  },
  {
   "cell_type": "code",
   "execution_count": 13,
   "id": "4b4c4a5c-9ac6-4582-a56f-ef5a573f3147",
   "metadata": {
    "dotnet_interactive": {
     "language": "fsharp"
    },
    "vscode": {
     "languageId": "polyglot-notebook"
    }
   },
   "outputs": [],
   "source": [
    "// your code here"
   ]
  },
  {
   "attachments": {},
   "cell_type": "markdown",
   "id": "01e551af-f2db-46ec-8993-dc80b91a6e15",
   "metadata": {},
   "source": [
    "------------------------------------------------------------------------\n",
    "\n",
    "------------------------------------------------------------------------\n",
    "\n",
    "**Exercise 5** Define a function `longestName` that takes a list of\n",
    "`Person`-values and returns the longest name of the people in the list.\n",
    "Note that it makes no sense to speak of a longest name in a list of\n",
    "empty people. Handle this case accordingly, by using a suitable type.\n",
    "How would you tackle the **combine** step?"
   ]
  },
  {
   "cell_type": "code",
   "execution_count": 14,
   "id": "13ff078d-9940-46b3-8b08-26ee882d31bf",
   "metadata": {
    "dotnet_interactive": {
     "language": "fsharp"
    },
    "vscode": {
     "languageId": "polyglot-notebook"
    }
   },
   "outputs": [],
   "source": [
    "let rec longestName lst =\n",
    "    match lst with \n",
    "    | [] -> 0\n",
    "    | number :: others ->\n",
    "        // let longestNameInHead =\n",
    "        //     0 + number\n",
    "        // let longestNameInTail =\n",
    "        //     longestName others\n",
    "\n",
    "        // numberInHead + numbersInTail"
   ]
  },
  {
   "attachments": {},
   "cell_type": "markdown",
   "id": "5e680dcf-dab9-4d93-b1f6-1f7a058b03e7",
   "metadata": {},
   "source": [
    "------------------------------------------------------------------------\n",
    "\n",
    "------------------------------------------------------------------------\n",
    "\n",
    "**Exercise 6** Write alternative versions of `countNonTeachers` and\n",
    "`markRead` using appropriate functions from the [`List`\n",
    "module](https://fsharp.github.io/fsharp-core-docs/reference/fsharp-collections-listmodule.html)\n",
    "from F#’s Core Library."
   ]
  },
  {
   "cell_type": "code",
   "execution_count": 37,
   "id": "9292bcd5-3651-4378-8b48-2a291e885bde",
   "metadata": {
    "dotnet_interactive": {
     "language": "fsharp"
    },
    "vscode": {
     "languageId": "polyglot-notebook"
    }
   },
   "outputs": [
    {
     "data": {
      "text/html": [
       "<div class=\"dni-plaintext\"><pre>3</pre></div><style>\r\n",
       ".dni-code-hint {\r\n",
       "    font-style: italic;\r\n",
       "    overflow: hidden;\r\n",
       "    white-space: nowrap;\r\n",
       "}\r\n",
       ".dni-treeview {\r\n",
       "    white-space: nowrap;\r\n",
       "}\r\n",
       ".dni-treeview td {\r\n",
       "    vertical-align: top;\r\n",
       "    text-align: start;\r\n",
       "}\r\n",
       "details.dni-treeview {\r\n",
       "    padding-left: 1em;\r\n",
       "}\r\n",
       "table td {\r\n",
       "    text-align: start;\r\n",
       "}\r\n",
       "table tr { \r\n",
       "    vertical-align: top; \r\n",
       "    margin: 0em 0px;\r\n",
       "}\r\n",
       "table tr td pre \r\n",
       "{ \r\n",
       "    vertical-align: top !important; \r\n",
       "    margin: 0em 0px !important;\r\n",
       "} \r\n",
       "table th {\r\n",
       "    text-align: start;\r\n",
       "}\r\n",
       "</style>"
      ]
     },
     "metadata": {},
     "output_type": "display_data"
    }
   ],
   "source": [
    "List.fold (fun totalSoFar item -> totalSoFar + (if item.IsRead then 1 else 0)) 0 emails\n",
    "List.fold (fun totalSoFar item -> totalSoFar + (if item.IsTeacher then 1 else 0)) 0 people\n"
   ]
  },
  {
   "attachments": {},
   "cell_type": "markdown",
   "id": "22b0d0d1-8c2e-4608-a4e9-a822cb8cfd4f",
   "metadata": {},
   "source": [
    "------------------------------------------------------------------------\n",
    "\n",
    "Listing 17: A discriminated union for representing forest trails"
   ]
  },
  {
   "cell_type": "code",
   "execution_count": 38,
   "id": "309ce8d7-bb7a-4b45-aaa6-380d6e1e8695",
   "metadata": {
    "dotnet_interactive": {
     "language": "fsharp"
    },
    "vscode": {
     "languageId": "polyglot-notebook"
    }
   },
   "outputs": [],
   "source": [
    "type ForestTrail =\n",
    "    | Clearing\n",
    "    | Cottage of name: string\n",
    "    | Fork of left: ForestTrail * right: ForestTrail\n",
    "    | Straight of next: ForestTrail"
   ]
  },
  {
   "attachments": {},
   "cell_type": "markdown",
   "id": "42acc6bd-dfa2-453a-b749-c73062b248e6",
   "metadata": {},
   "source": [
    "Listing 18: We build the forest trails back to front"
   ]
  },
  {
   "cell_type": "code",
   "execution_count": 39,
   "id": "dad2c7b9-b62c-4645-bc70-613016912978",
   "metadata": {
    "dotnet_interactive": {
     "language": "fsharp"
    },
    "vscode": {
     "languageId": "polyglot-notebook"
    }
   },
   "outputs": [],
   "source": [
    "let topTrail =\n",
    "    let primrose = Cottage(\"Primrose House\")\n",
    "    let maytree = Cottage(\"Maytree Cottage\")\n",
    "    let f1 = Fork(left = primrose, right = maytree)\n",
    "    // add the three straights\n",
    "    Straight(Straight(Straight(f1)))"
   ]
  },
  {
   "attachments": {},
   "cell_type": "markdown",
   "id": "3682068c-9fce-44e3-b13a-f0bb366180dd",
   "metadata": {},
   "source": [
    "Listing 19: We can construct the bottom part of the forest trails\n",
    "independently"
   ]
  },
  {
   "cell_type": "code",
   "execution_count": 40,
   "id": "255e91dd-ce7b-4785-b7a8-bfa7d12136d9",
   "metadata": {
    "dotnet_interactive": {
     "language": "fsharp"
    },
    "vscode": {
     "languageId": "polyglot-notebook"
    }
   },
   "outputs": [],
   "source": [
    "let bottomTrail =\n",
    "    let cl = Clearing\n",
    "    let fairview = Cottage(\"Fairview\")\n",
    "    let f2 =\n",
    "        Fork(left = cl,\n",
    "             right = fairview)\n",
    "    Straight(f2)"
   ]
  },
  {
   "attachments": {},
   "cell_type": "markdown",
   "id": "9fc56676-d3b9-4d9f-8ce7-c0dd94bbc320",
   "metadata": {},
   "source": [
    "Listing 20: Finally, we combine the top and bottom parts with a fork\n",
    "preceded by a straight"
   ]
  },
  {
   "cell_type": "code",
   "execution_count": 42,
   "id": "36b14376-3a28-4307-8b1e-2a25349fde2a",
   "metadata": {
    "dotnet_interactive": {
     "language": "fsharp"
    },
    "vscode": {
     "languageId": "polyglot-notebook"
    }
   },
   "outputs": [],
   "source": [
    "let littleBearForest =\n",
    "    Straight(\n",
    "        Fork(left=topTrail,\n",
    "             right=bottomTrail)\n",
    "    )"
   ]
  },
  {
   "attachments": {},
   "cell_type": "markdown",
   "id": "92bb4c34-565e-4ada-838d-1ba667dca690",
   "metadata": {},
   "source": [
    "Listing 21: A recursive function to count the number of destinations in\n",
    "a forest trail"
   ]
  },
  {
   "cell_type": "code",
   "execution_count": 43,
   "id": "88cca892-5ced-4935-9146-e623f0cf7a43",
   "metadata": {
    "dotnet_interactive": {
     "language": "fsharp"
    },
    "vscode": {
     "languageId": "polyglot-notebook"
    }
   },
   "outputs": [
    {
     "data": {
      "text/html": [
       "<div class=\"dni-plaintext\"><pre>4</pre></div><style>\r\n",
       ".dni-code-hint {\r\n",
       "    font-style: italic;\r\n",
       "    overflow: hidden;\r\n",
       "    white-space: nowrap;\r\n",
       "}\r\n",
       ".dni-treeview {\r\n",
       "    white-space: nowrap;\r\n",
       "}\r\n",
       ".dni-treeview td {\r\n",
       "    vertical-align: top;\r\n",
       "    text-align: start;\r\n",
       "}\r\n",
       "details.dni-treeview {\r\n",
       "    padding-left: 1em;\r\n",
       "}\r\n",
       "table td {\r\n",
       "    text-align: start;\r\n",
       "}\r\n",
       "table tr { \r\n",
       "    vertical-align: top; \r\n",
       "    margin: 0em 0px;\r\n",
       "}\r\n",
       "table tr td pre \r\n",
       "{ \r\n",
       "    vertical-align: top !important; \r\n",
       "    margin: 0em 0px !important;\r\n",
       "} \r\n",
       "table th {\r\n",
       "    text-align: start;\r\n",
       "}\r\n",
       "</style>"
      ]
     },
     "metadata": {},
     "output_type": "display_data"
    }
   ],
   "source": [
    "let rec countDestinations trail =\n",
    "    match trail with\n",
    "    // base cases\n",
    "    | Clearing -> 1\n",
    "    | Cottage(_) -> 1\n",
    "    // inductive cases\n",
    "    | Fork(left, right) ->\n",
    "        let cLeft = countDestinations left\n",
    "        let cRight = countDestinations right\n",
    "        cLeft + cRight\n",
    "    | Straight(next) -> countDestinations next\n",
    "countDestinations littleBearForest\n"
   ]
  },
  {
   "attachments": {},
   "cell_type": "markdown",
   "id": "accd0e10-9d69-41b8-b589-0f05c72981a7",
   "metadata": {},
   "source": [
    "------------------------------------------------------------------------\n",
    "\n",
    "**Exercise 7** Write a recursive function to count the number of\n",
    "cottages on a trail."
   ]
  },
  {
   "cell_type": "code",
   "execution_count": 50,
   "id": "e38d9bae-890f-4db9-9886-7fba44836ff5",
   "metadata": {
    "dotnet_interactive": {
     "language": "fsharp"
    },
    "vscode": {
     "languageId": "polyglot-notebook"
    }
   },
   "outputs": [
    {
     "data": {
      "text/html": [
       "<div class=\"dni-plaintext\"><pre>3</pre></div><style>\r\n",
       ".dni-code-hint {\r\n",
       "    font-style: italic;\r\n",
       "    overflow: hidden;\r\n",
       "    white-space: nowrap;\r\n",
       "}\r\n",
       ".dni-treeview {\r\n",
       "    white-space: nowrap;\r\n",
       "}\r\n",
       ".dni-treeview td {\r\n",
       "    vertical-align: top;\r\n",
       "    text-align: start;\r\n",
       "}\r\n",
       "details.dni-treeview {\r\n",
       "    padding-left: 1em;\r\n",
       "}\r\n",
       "table td {\r\n",
       "    text-align: start;\r\n",
       "}\r\n",
       "table tr { \r\n",
       "    vertical-align: top; \r\n",
       "    margin: 0em 0px;\r\n",
       "}\r\n",
       "table tr td pre \r\n",
       "{ \r\n",
       "    vertical-align: top !important; \r\n",
       "    margin: 0em 0px !important;\r\n",
       "} \r\n",
       "table th {\r\n",
       "    text-align: start;\r\n",
       "}\r\n",
       "</style>"
      ]
     },
     "metadata": {},
     "output_type": "display_data"
    }
   ],
   "source": [
    "let rec countCottages trail =\n",
    "    match trail with\n",
    "    // base cases\n",
    "    | Clearing -> 0\n",
    "    | Cottage(_) -> 1\n",
    "    // inductive cases\n",
    "    | Fork(left, right) ->\n",
    "        let cLeft = countCottages left\n",
    "        let cRight = countCottages right\n",
    "        cLeft + cRight\n",
    "    | Straight(next) -> countCottages next\n",
    "countCottages littleBearForest\n"
   ]
  },
  {
   "attachments": {},
   "cell_type": "markdown",
   "id": "5cd5e7c0-cec5-43e3-a558-37d21bef663b",
   "metadata": {},
   "source": [
    "------------------------------------------------------------------------\n",
    "\n",
    "------------------------------------------------------------------------\n",
    "\n",
    "**Exercise 8** Write a recursive function to produce a list of names of\n",
    "all the cottage names along a trail."
   ]
  },
  {
   "cell_type": "code",
   "execution_count": 59,
   "id": "7868d644-4c16-4547-9d22-34fbe33f357d",
   "metadata": {
    "dotnet_interactive": {
     "language": "fsharp"
    },
    "vscode": {
     "languageId": "polyglot-notebook"
    }
   },
   "outputs": [
    {
     "data": {
      "text/html": [
       "<div class=\"dni-plaintext\"><pre>[ Primrose House, Maytree Cottage, Fairview ]</pre></div><style>\r\n",
       ".dni-code-hint {\r\n",
       "    font-style: italic;\r\n",
       "    overflow: hidden;\r\n",
       "    white-space: nowrap;\r\n",
       "}\r\n",
       ".dni-treeview {\r\n",
       "    white-space: nowrap;\r\n",
       "}\r\n",
       ".dni-treeview td {\r\n",
       "    vertical-align: top;\r\n",
       "    text-align: start;\r\n",
       "}\r\n",
       "details.dni-treeview {\r\n",
       "    padding-left: 1em;\r\n",
       "}\r\n",
       "table td {\r\n",
       "    text-align: start;\r\n",
       "}\r\n",
       "table tr { \r\n",
       "    vertical-align: top; \r\n",
       "    margin: 0em 0px;\r\n",
       "}\r\n",
       "table tr td pre \r\n",
       "{ \r\n",
       "    vertical-align: top !important; \r\n",
       "    margin: 0em 0px !important;\r\n",
       "} \r\n",
       "table th {\r\n",
       "    text-align: start;\r\n",
       "}\r\n",
       "</style>"
      ]
     },
     "metadata": {},
     "output_type": "display_data"
    }
   ],
   "source": [
    "let rec listCottageNames trail =\n",
    "    match trail with\n",
    "    // base cases\n",
    "    | Clearing -> []\n",
    "    | Cottage(name) -> [name]\n",
    "    // inductive cases\n",
    "    | Fork(left, right) ->\n",
    "        let cLeft = listCottageNames left \n",
    "        let cRight = listCottageNames right \n",
    "        cLeft @ cRight \n",
    "    | Straight(next) -> listCottageNames next \n",
    "\n",
    "listCottageNames littleBearForest"
   ]
  },
  {
   "attachments": {},
   "cell_type": "markdown",
   "id": "84e513f2-5b8a-4dbf-bd96-4479908f1063",
   "metadata": {},
   "source": [
    "------------------------------------------------------------------------\n",
    "\n",
    "------------------------------------------------------------------------\n",
    "\n",
    "**Exercise 9** An online store wants to build packing software to\n",
    "fulfill its orders. In this system, items are stored as a record of\n",
    "their name and price in cents. Items are packed in boxes.\n",
    "\n",
    "Boxes can be packed with:\n",
    "\n",
    "-   one item,\n",
    "-   two items,\n",
    "-   one box and one item,\n",
    "-   or two boxes\n",
    "\n",
    "Fig. 5 shows how four items are divided over three boxes. The deepest\n",
    "items are contained in a total of three boxes. The deepest box is\n",
    "contained in two other boxes.\n",
    "\n",
    "1.  Define a record type `Item` to represent an individual item\n",
    "2.  Define an inductive type `Box` to represents how items are packed.\n",
    "3.  Define a function `listItems` that takes a `Box` and returns a list\n",
    "    of all items that are shipped in the box.\n",
    "4.  Define a function `totalPrice` that determines the total price for\n",
    "    all items in a `Box`\n",
    "5.  Define a function `packingDepth` that determines how deep the\n",
    "    deepest box is packed."
   ]
  },
  {
   "cell_type": "code",
   "execution_count": 23,
   "id": "911913fc-a142-4230-ac07-26e93ed14b70",
   "metadata": {
    "dotnet_interactive": {
     "language": "fsharp"
    },
    "vscode": {
     "languageId": "polyglot-notebook"
    }
   },
   "outputs": [],
   "source": [
    "type Item =\n",
    "    { Name:string;\n",
    "      Price: double }\n",
    "\n",
    "type Box =\n",
    "    | OneItem of Item\n",
    "    | TwoItems of Item * Item\n",
    "    | OneBoxAndOneItem of Box * Item\n",
    "    | TwoBoxes of Box * Box\n",
    "\n",
    "// let item1 = { Name = \"Book\"; Price = 10.0 }\n",
    "// let item2 = { Name = \"Pen\"; Price = 1.0 }\n",
    "// let box1 = OneItem item1\n",
    "// let box2 = TwoItems (item1, item2)\n",
    "// let box3 = OneBoxAndOneItem (box2, item1)\n",
    "// let box4 = TwoBoxes (box1, box3)\n",
    "\n",
    "let rec listItems box =\n",
    "    match items with \n",
    "    | OneItem -> 1\n",
    "\n",
    "// let totalPrice\n",
    "\n",
    "// let packingDepth\n"
   ]
  },
  {
   "attachments": {},
   "cell_type": "markdown",
   "id": "add87361-de1d-44b9-ba9e-c080ddc4dcda",
   "metadata": {},
   "source": [
    "------------------------------------------------------------------------"
   ]
  }
 ],
 "metadata": {
  "language_info": {
   "name": "csharp"
  }
 },
 "nbformat": 4,
 "nbformat_minor": 5
}
