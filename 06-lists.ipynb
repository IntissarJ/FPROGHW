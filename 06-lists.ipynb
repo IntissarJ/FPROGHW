{
 "cells": [
  {
   "attachments": {},
   "cell_type": "markdown",
   "id": "6347a9f7-be71-4df2-9ede-eb5cc0ba691e",
   "metadata": {},
   "source": [
    "Listing 1: An array of `string` can be assigned to an array of `object`.\n",
    "As long as we restrict ourselves to reading from the array, we are fine.\n",
    "However, things go wrong when we try to alter the array"
   ]
  },
  {
   "cell_type": "code",
   "execution_count": 2,
   "id": "233f9121-311f-4c01-927e-9e80ba9ec450",
   "metadata": {
    "dotnet_interactive": {
     "language": "csharp"
    },
    "vscode": {
     "languageId": "polyglot-notebook"
    }
   },
   "outputs": [
    {
     "ename": "Error",
     "evalue": "System.ArrayTypeMismatchException: Attempted to access an element as a type incompatible with the array.\r\n   at Submission#3.<<Initialize>>d__0.MoveNext()\r\n--- End of stack trace from previous location ---\r\n   at Microsoft.CodeAnalysis.Scripting.ScriptExecutionState.RunSubmissionsAsync[TResult](ImmutableArray`1 precedingExecutors, Func`2 currentExecutor, StrongBox`1 exceptionHolderOpt, Func`2 catchExceptionOpt, CancellationToken cancellationToken)",
     "output_type": "error",
     "traceback": [
      "System.ArrayTypeMismatchException: Attempted to access an element as a type incompatible with the array.\r\n",
      "   at Submission#3.<<Initialize>>d__0.MoveNext()\r\n",
      "--- End of stack trace from previous location ---\r\n",
      "   at Microsoft.CodeAnalysis.Scripting.ScriptExecutionState.RunSubmissionsAsync[TResult](ImmutableArray`1 precedingExecutors, Func`2 currentExecutor, StrongBox`1 exceptionHolderOpt, Func`2 catchExceptionOpt, CancellationToken cancellationToken)"
     ]
    }
   ],
   "source": [
    "string[] a = {\"eat\", \"ate\", \"eaten\"};\n",
    "object[] b = a;\n",
    "b[0] = 123; // ArrayTypeMismatchException!"
   ]
  },
  {
   "attachments": {},
   "cell_type": "markdown",
   "id": "2826d1c4-8e47-4328-979f-9180e5ab8b5b",
   "metadata": {},
   "source": [
    "Listing 2: A functional definition of Little Bear’s mushroom collection"
   ]
  },
  {
   "cell_type": "code",
   "execution_count": 3,
   "id": "495eaf99-5174-4b28-a2ba-a3706e203114",
   "metadata": {
    "dotnet_interactive": {
     "language": "fsharp"
    },
    "vscode": {
     "languageId": "polyglot-notebook"
    }
   },
   "outputs": [
    {
     "name": "stderr",
     "output_type": "stream",
     "text": [
      "Stopped due to error\n"
     ]
    },
    {
     "ename": "Error",
     "evalue": "input.fsx (4,16)-(4,24) typecheck error The type 'Mushroom' is not defined. Maybe you want one of the following:\r\n   MushroomCollection\ninput.fsx (4,16)-(4,24) typecheck error The type 'Mushroom' is not defined. Maybe you want one of the following:\r\n   MushroomCollection",
     "output_type": "error",
     "traceback": [
      "input.fsx (4,16)-(4,24) typecheck error The type 'Mushroom' is not defined. Maybe you want one of the following:\r\n",
      "   MushroomCollection\n",
      "input.fsx (4,16)-(4,24) typecheck error The type 'Mushroom' is not defined. Maybe you want one of the following:\r\n",
      "   MushroomCollection"
     ]
    }
   ],
   "source": [
    "// assuming that Mushroom was previously defined\n",
    "type MushroomCollection =\n",
    "    | Empty\n",
    "    | Found of Mushroom * MushroomCollection"
   ]
  },
  {
   "cell_type": "code",
   "execution_count": 4,
   "id": "07783619-ee6b-44df-9c32-c6af897f5864",
   "metadata": {
    "dotnet_interactive": {
     "language": "fsharp"
    },
    "vscode": {
     "languageId": "polyglot-notebook"
    }
   },
   "outputs": [
    {
     "name": "stdout",
     "output_type": "stream",
     "text": [
      "[3; 5; 7; 11]\n"
     ]
    }
   ],
   "source": [
    "let empty = []\n",
    "let elevenAdded = 11 :: empty\n",
    "let sevenAdded = 7 :: elevenAdded\n",
    "let fiveAdded = 5 :: sevenAdded\n",
    "let threeAdded = 3 :: fiveAdded\n",
    "// prints [3; 5; 7; 11]\n",
    "printfn \"%A\" threeAdded"
   ]
  },
  {
   "cell_type": "code",
   "execution_count": 5,
   "id": "09e9df33-f1c7-4d4c-8ea5-3ad7deb359e9",
   "metadata": {
    "dotnet_interactive": {
     "language": "fsharp"
    },
    "vscode": {
     "languageId": "polyglot-notebook"
    }
   },
   "outputs": [
    {
     "data": {
      "text/html": [
       "<div class=\"dni-plaintext\"><pre>[ 3, 5, 7, 11 ]</pre></div><style>\r\n",
       ".dni-code-hint {\r\n",
       "    font-style: italic;\r\n",
       "    overflow: hidden;\r\n",
       "    white-space: nowrap;\r\n",
       "}\r\n",
       ".dni-treeview {\r\n",
       "    white-space: nowrap;\r\n",
       "}\r\n",
       ".dni-treeview td {\r\n",
       "    vertical-align: top;\r\n",
       "    text-align: start;\r\n",
       "}\r\n",
       "details.dni-treeview {\r\n",
       "    padding-left: 1em;\r\n",
       "}\r\n",
       "table td {\r\n",
       "    text-align: start;\r\n",
       "}\r\n",
       "table tr { \r\n",
       "    vertical-align: top; \r\n",
       "    margin: 0em 0px;\r\n",
       "}\r\n",
       "table tr td pre \r\n",
       "{ \r\n",
       "    vertical-align: top !important; \r\n",
       "    margin: 0em 0px !important;\r\n",
       "} \r\n",
       "table th {\r\n",
       "    text-align: start;\r\n",
       "}\r\n",
       "</style>"
      ]
     },
     "metadata": {},
     "output_type": "display_data"
    }
   ],
   "source": [
    "3 :: (5 :: (7 :: (11 :: [])))\n",
    "// or just\n",
    "3 :: 5 :: 7 :: 11 :: []"
   ]
  },
  {
   "attachments": {},
   "cell_type": "markdown",
   "id": "69dbcbc8-feac-47ad-8052-707854abe96e",
   "metadata": {},
   "source": [
    "Listing 4: The cons operator constructs a new list. It does not affect\n",
    "the list on which it builds"
   ]
  },
  {
   "cell_type": "code",
   "execution_count": 6,
   "id": "1d57aca4-7d91-4784-a2db-e49f7d135a0a",
   "metadata": {
    "dotnet_interactive": {
     "language": "fsharp"
    },
    "vscode": {
     "languageId": "polyglot-notebook"
    }
   },
   "outputs": [
    {
     "name": "stdout",
     "output_type": "stream",
     "text": [
      "[5; 7]\n",
      "[3; 5; 7]\n"
     ]
    }
   ],
   "source": [
    "\n",
    "let list = [5;7]\n",
    "let list2 = 3 :: list\n",
    "printfn \"%A\" list // [5; 7]\n",
    "printfn \"%A\" list2 // [3; 5; 7]"
   ]
  },
  {
   "attachments": {},
   "cell_type": "markdown",
   "id": "66d4f61b-18b3-4764-919f-c05c7c0a99c1",
   "metadata": {},
   "source": [
    "Listing 5: Creating an empty list"
   ]
  },
  {
   "cell_type": "code",
   "execution_count": 7,
   "id": "8e4cbaea-880e-4376-a554-50250a20d787",
   "metadata": {
    "dotnet_interactive": {
     "language": "fsharp"
    },
    "vscode": {
     "languageId": "polyglot-notebook"
    }
   },
   "outputs": [],
   "source": [
    "let l = []"
   ]
  },
  {
   "attachments": {},
   "cell_type": "markdown",
   "id": "20e61b1b-c08f-4b45-bb2e-0fe0edbfe46c",
   "metadata": {},
   "source": [
    "Listing 6: Creating a list by enumerating its elements"
   ]
  },
  {
   "cell_type": "code",
   "execution_count": 8,
   "id": "03590b65-f2c3-4cd9-9dcb-afff254b1520",
   "metadata": {
    "dotnet_interactive": {
     "language": "fsharp"
    },
    "vscode": {
     "languageId": "polyglot-notebook"
    }
   },
   "outputs": [],
   "source": [
    "let primes = [3; 5; 7; 11]"
   ]
  },
  {
   "attachments": {},
   "cell_type": "markdown",
   "id": "c7f00053-d232-4328-a241-adb7289bf5c3",
   "metadata": {},
   "source": [
    "Listing 7: Creating lists from a range. Unless specified, the step size\n",
    "is `1`."
   ]
  },
  {
   "cell_type": "code",
   "execution_count": 9,
   "id": "6865f9b0-f45d-4ffe-b09a-3d3aae41f422",
   "metadata": {
    "dotnet_interactive": {
     "language": "fsharp"
    },
    "vscode": {
     "languageId": "polyglot-notebook"
    }
   },
   "outputs": [],
   "source": [
    "let first10 = [0..9] // [0;1;2;3;4;5;6;7;8;9]\n",
    "let evens = [0..2..10] // [0;2;4;6;8;10]"
   ]
  },
  {
   "attachments": {},
   "cell_type": "markdown",
   "id": "afd54a5a-e862-45e4-87a3-d2c0c7ea0f5f",
   "metadata": {},
   "source": [
    "Listing 8: Using a list comprehension to create a list from the elements\n",
    "in a previously defined list"
   ]
  },
  {
   "cell_type": "code",
   "execution_count": 11,
   "id": "4da54491-fc3e-43a0-8e99-780e48314187",
   "metadata": {
    "dotnet_interactive": {
     "language": "fsharp"
    },
    "vscode": {
     "languageId": "polyglot-notebook"
    }
   },
   "outputs": [
    {
     "name": "stdout",
     "output_type": "stream",
     "text": [
      "[0; 2; 4; 6; 8; 10; 12; 14; 16; 18]\n"
     ]
    }
   ],
   "source": [
    "let first10Evens = [for i in first10 do yield i * 2]\n",
    "printfn \"%A\" first10Evens"
   ]
  },
  {
   "attachments": {},
   "cell_type": "markdown",
   "id": "1a48bdac-a95a-4def-b168-ed5384afb052",
   "metadata": {},
   "source": [
    "Listing 9: Selecting only the elements in `evens` that are divisible by\n",
    "three"
   ]
  },
  {
   "cell_type": "code",
   "execution_count": 14,
   "id": "a08de962-aa7d-41b5-948f-5a4766ad3978",
   "metadata": {
    "dotnet_interactive": {
     "language": "fsharp"
    },
    "vscode": {
     "languageId": "polyglot-notebook"
    }
   },
   "outputs": [
    {
     "name": "stdout",
     "output_type": "stream",
     "text": [
      "[0; 6]\n"
     ]
    }
   ],
   "source": [
    "let e = [for i in evens do if i % 3 = 0 then yield i]\n",
    "printfn \"%A\" e"
   ]
  },
  {
   "attachments": {},
   "cell_type": "markdown",
   "id": "df09105d-9cff-45e7-af5e-2ab421c578ee",
   "metadata": {},
   "source": [
    "Listing 10: Using the operator `@` to concatenate two lists"
   ]
  },
  {
   "cell_type": "code",
   "execution_count": 15,
   "id": "90773e3f-0384-4f0d-b3ad-8d4c6218f4e4",
   "metadata": {
    "dotnet_interactive": {
     "language": "fsharp"
    },
    "vscode": {
     "languageId": "polyglot-notebook"
    }
   },
   "outputs": [
    {
     "name": "stdout",
     "output_type": "stream",
     "text": [
      "[0; 2; 4; 6; 8; 10; 12; 14; 16]\n"
     ]
    }
   ],
   "source": [
    "let evens2 = evens @ [12; 14; 16]\n",
    "printfn \"%A\" evens2"
   ]
  },
  {
   "attachments": {},
   "cell_type": "markdown",
   "id": "2a2eb22e-7234-4af2-b9e0-4a5cabf6c893",
   "metadata": {},
   "source": [
    "Listing 11: Definitions for `tryHead` and `tryTail`. These functions\n",
    "return optional values as these functions do not make sense for empty\n",
    "lists"
   ]
  },
  {
   "cell_type": "code",
   "execution_count": 16,
   "id": "ecdb518c-9981-436c-8f62-21c5cb5978e1",
   "metadata": {
    "dotnet_interactive": {
     "language": "fsharp"
    },
    "vscode": {
     "languageId": "polyglot-notebook"
    }
   },
   "outputs": [],
   "source": [
    "// Returns the first element of the list, if present.\n",
    "let tryHead list =\n",
    "    match list with\n",
    "    | head :: _ -> Some head\n",
    "    | [] -> None\n",
    "\n",
    "// Returns the list without its first element.\n",
    "let tryTail list =\n",
    "    match list with\n",
    "    | _ :: tail -> Some tail\n",
    "    | [] -> None"
   ]
  },
  {
   "attachments": {},
   "cell_type": "markdown",
   "id": "c945873f-fd76-478c-8172-65352bdb91b2",
   "metadata": {},
   "source": [
    "Listing 12: `isEmpty` defined using pattern matching"
   ]
  },
  {
   "cell_type": "code",
   "execution_count": 17,
   "id": "70c8b59f-1d48-4876-ac1c-ca7df7ba7577",
   "metadata": {
    "dotnet_interactive": {
     "language": "fsharp"
    },
    "vscode": {
     "languageId": "polyglot-notebook"
    }
   },
   "outputs": [
    {
     "data": {
      "text/html": [
       "<div class=\"dni-plaintext\"><pre>True</pre></div><style>\r\n",
       ".dni-code-hint {\r\n",
       "    font-style: italic;\r\n",
       "    overflow: hidden;\r\n",
       "    white-space: nowrap;\r\n",
       "}\r\n",
       ".dni-treeview {\r\n",
       "    white-space: nowrap;\r\n",
       "}\r\n",
       ".dni-treeview td {\r\n",
       "    vertical-align: top;\r\n",
       "    text-align: start;\r\n",
       "}\r\n",
       "details.dni-treeview {\r\n",
       "    padding-left: 1em;\r\n",
       "}\r\n",
       "table td {\r\n",
       "    text-align: start;\r\n",
       "}\r\n",
       "table tr { \r\n",
       "    vertical-align: top; \r\n",
       "    margin: 0em 0px;\r\n",
       "}\r\n",
       "table tr td pre \r\n",
       "{ \r\n",
       "    vertical-align: top !important; \r\n",
       "    margin: 0em 0px !important;\r\n",
       "} \r\n",
       "table th {\r\n",
       "    text-align: start;\r\n",
       "}\r\n",
       "</style>"
      ]
     },
     "metadata": {},
     "output_type": "display_data"
    }
   ],
   "source": [
    "let isEmpty list =\n",
    "    match list with\n",
    "    | [] -> true\n",
    "    | _ -> false\n",
    "isEmpty [] // true"
   ]
  },
  {
   "attachments": {},
   "cell_type": "markdown",
   "id": "b5d903c3-bde0-4b26-a49d-b4f3c570910f",
   "metadata": {},
   "source": [
    "Listing 13: `isEmpty` defined using an equality check"
   ]
  },
  {
   "cell_type": "code",
   "execution_count": 18,
   "id": "6546a828-f7aa-48db-b2f5-a63f0bc9026e",
   "metadata": {
    "dotnet_interactive": {
     "language": "fsharp"
    },
    "vscode": {
     "languageId": "polyglot-notebook"
    }
   },
   "outputs": [
    {
     "data": {
      "text/html": [
       "<div class=\"dni-plaintext\"><pre>True</pre></div><style>\r\n",
       ".dni-code-hint {\r\n",
       "    font-style: italic;\r\n",
       "    overflow: hidden;\r\n",
       "    white-space: nowrap;\r\n",
       "}\r\n",
       ".dni-treeview {\r\n",
       "    white-space: nowrap;\r\n",
       "}\r\n",
       ".dni-treeview td {\r\n",
       "    vertical-align: top;\r\n",
       "    text-align: start;\r\n",
       "}\r\n",
       "details.dni-treeview {\r\n",
       "    padding-left: 1em;\r\n",
       "}\r\n",
       "table td {\r\n",
       "    text-align: start;\r\n",
       "}\r\n",
       "table tr { \r\n",
       "    vertical-align: top; \r\n",
       "    margin: 0em 0px;\r\n",
       "}\r\n",
       "table tr td pre \r\n",
       "{ \r\n",
       "    vertical-align: top !important; \r\n",
       "    margin: 0em 0px !important;\r\n",
       "} \r\n",
       "table th {\r\n",
       "    text-align: start;\r\n",
       "}\r\n",
       "</style>"
      ]
     },
     "metadata": {},
     "output_type": "display_data"
    }
   ],
   "source": [
    "let isEmpty list =\n",
    "    list = []\n",
    "isEmpty [] // true"
   ]
  },
  {
   "attachments": {},
   "cell_type": "markdown",
   "id": "37aa4351-eacd-4d81-b0d3-7485c4ec3555",
   "metadata": {},
   "source": [
    "Listing 14: An array literal"
   ]
  },
  {
   "cell_type": "code",
   "execution_count": 19,
   "id": "cf76364e-4151-4bfe-8218-0431bd224ea9",
   "metadata": {
    "dotnet_interactive": {
     "language": "fsharp"
    },
    "vscode": {
     "languageId": "polyglot-notebook"
    }
   },
   "outputs": [],
   "source": [
    "let a = [| 13; 37; 42 |]"
   ]
  },
  {
   "attachments": {},
   "cell_type": "markdown",
   "id": "b3a64b9e-f399-4510-b1ca-ff80db96fbd1",
   "metadata": {},
   "source": [
    "Listing 15: Converting between lists and array"
   ]
  },
  {
   "cell_type": "code",
   "execution_count": 20,
   "id": "86e7e22f-8ace-4c9d-b32e-1b257a4305fc",
   "metadata": {
    "dotnet_interactive": {
     "language": "fsharp"
    },
    "vscode": {
     "languageId": "polyglot-notebook"
    }
   },
   "outputs": [
    {
     "data": {
      "text/html": [
       "<div class=\"dni-plaintext\"><pre>[ lorem, ipsum ]</pre></div><style>\r\n",
       ".dni-code-hint {\r\n",
       "    font-style: italic;\r\n",
       "    overflow: hidden;\r\n",
       "    white-space: nowrap;\r\n",
       "}\r\n",
       ".dni-treeview {\r\n",
       "    white-space: nowrap;\r\n",
       "}\r\n",
       ".dni-treeview td {\r\n",
       "    vertical-align: top;\r\n",
       "    text-align: start;\r\n",
       "}\r\n",
       "details.dni-treeview {\r\n",
       "    padding-left: 1em;\r\n",
       "}\r\n",
       "table td {\r\n",
       "    text-align: start;\r\n",
       "}\r\n",
       "table tr { \r\n",
       "    vertical-align: top; \r\n",
       "    margin: 0em 0px;\r\n",
       "}\r\n",
       "table tr td pre \r\n",
       "{ \r\n",
       "    vertical-align: top !important; \r\n",
       "    margin: 0em 0px !important;\r\n",
       "} \r\n",
       "table th {\r\n",
       "    text-align: start;\r\n",
       "}\r\n",
       "</style>"
      ]
     },
     "metadata": {},
     "output_type": "display_data"
    }
   ],
   "source": [
    "[13; 37; 42]\n",
    "|> Array.ofList\n",
    "\n",
    "[| \"lorem\"; \"ipsum\" |]\n",
    "|> List.ofArray"
   ]
  },
  {
   "attachments": {},
   "cell_type": "markdown",
   "id": "515b6f8d-26cc-44ff-8352-b1024e0f9847",
   "metadata": {},
   "source": [
    "------------------------------------------------------------------------\n",
    "\n",
    "**Exercise 1** In your own words, explain the following terms:\n",
    "\n",
    "1.  inductive data type\n",
    "2.  base case\n",
    "3.  list comprehension\n",
    "4.  the head of a list\n",
    "5.  the tail of a list"
   ]
  },
  {
   "cell_type": "code",
   "execution_count": null,
   "id": "d8921eba-ce76-4302-b293-3848c50e245a",
   "metadata": {
    "dotnet_interactive": {
     "language": "fsharp"
    },
    "vscode": {
     "languageId": "polyglot-notebook"
    }
   },
   "outputs": [],
   "source": [
    "//1. one that is defined in terms of itself with Empty as base case.\n",
    "//2. Its the end of recursive calls for an inductive data type\n",
    "//3. syntax to create a new list based on values from an existing list\n",
    "//4. it's the first element of an list\n",
    "//5. it's the rest of te list without the first element"
   ]
  },
  {
   "attachments": {},
   "cell_type": "markdown",
   "id": "847ca5da-d2e5-4883-81fe-92bf7e70cf95",
   "metadata": {},
   "source": [
    "------------------------------------------------------------------------\n",
    "\n",
    "------------------------------------------------------------------------\n",
    "\n",
    "**Exercise 2** Write a function `startsWith` to check if list starts\n",
    "with a specific element.\n",
    "\n",
    "Test your code with\n",
    "\n",
    "``` fsharp\n",
    "startsWith 1 [1;2;3] // true\n",
    "startsWith 2 [1;2;3] // false\n",
    "```"
   ]
  },
  {
   "cell_type": "code",
   "execution_count": 36,
   "id": "67025e2c-1536-4ccb-b63e-a25311808eea",
   "metadata": {
    "dotnet_interactive": {
     "language": "fsharp"
    },
    "vscode": {
     "languageId": "polyglot-notebook"
    }
   },
   "outputs": [
    {
     "data": {
      "text/html": [
       "<div class=\"dni-plaintext\"><pre>False</pre></div><style>\r\n",
       ".dni-code-hint {\r\n",
       "    font-style: italic;\r\n",
       "    overflow: hidden;\r\n",
       "    white-space: nowrap;\r\n",
       "}\r\n",
       ".dni-treeview {\r\n",
       "    white-space: nowrap;\r\n",
       "}\r\n",
       ".dni-treeview td {\r\n",
       "    vertical-align: top;\r\n",
       "    text-align: start;\r\n",
       "}\r\n",
       "details.dni-treeview {\r\n",
       "    padding-left: 1em;\r\n",
       "}\r\n",
       "table td {\r\n",
       "    text-align: start;\r\n",
       "}\r\n",
       "table tr { \r\n",
       "    vertical-align: top; \r\n",
       "    margin: 0em 0px;\r\n",
       "}\r\n",
       "table tr td pre \r\n",
       "{ \r\n",
       "    vertical-align: top !important; \r\n",
       "    margin: 0em 0px !important;\r\n",
       "} \r\n",
       "table th {\r\n",
       "    text-align: start;\r\n",
       "}\r\n",
       "</style>"
      ]
     },
     "metadata": {},
     "output_type": "display_data"
    }
   ],
   "source": [
    "\n",
    "let tryHead list =\n",
    "  match list with\n",
    "  | head :: _ -> head\n",
    "  | [] -> 0\n",
    "\n",
    "let startsWith (nmr:int) list =\n",
    "    if(tryHead list = 1 && nmr = 1) then true \n",
    "    else \n",
    "        false\n",
    "    \n",
    "\n",
    "startsWith 1 [1;2;3]\n",
    "startsWith 2 [1;2;3]"
   ]
  },
  {
   "attachments": {},
   "cell_type": "markdown",
   "id": "0f39f2f4-db33-471c-9450-96642e09dc84",
   "metadata": {},
   "source": [
    "------------------------------------------------------------------------\n",
    "\n",
    "------------------------------------------------------------------------\n",
    "\n",
    "**Exercise 3** Write a function `contains elem lst` that returns `true`\n",
    "if the list `lst` contains `elem`. Use a list comprehension to obtain a\n",
    "list of all elements in `lst` that are equal to `elem`. Then use\n",
    "`isEmpty`."
   ]
  },
  {
   "cell_type": "code",
   "execution_count": 56,
   "id": "cc284dcd-6ac5-4294-a560-4cb3173d4411",
   "metadata": {
    "dotnet_interactive": {
     "language": "fsharp"
    },
    "vscode": {
     "languageId": "polyglot-notebook"
    }
   },
   "outputs": [
    {
     "data": {
      "text/html": [
       "<div class=\"dni-plaintext\"><pre>True</pre></div><style>\r\n",
       ".dni-code-hint {\r\n",
       "    font-style: italic;\r\n",
       "    overflow: hidden;\r\n",
       "    white-space: nowrap;\r\n",
       "}\r\n",
       ".dni-treeview {\r\n",
       "    white-space: nowrap;\r\n",
       "}\r\n",
       ".dni-treeview td {\r\n",
       "    vertical-align: top;\r\n",
       "    text-align: start;\r\n",
       "}\r\n",
       "details.dni-treeview {\r\n",
       "    padding-left: 1em;\r\n",
       "}\r\n",
       "table td {\r\n",
       "    text-align: start;\r\n",
       "}\r\n",
       "table tr { \r\n",
       "    vertical-align: top; \r\n",
       "    margin: 0em 0px;\r\n",
       "}\r\n",
       "table tr td pre \r\n",
       "{ \r\n",
       "    vertical-align: top !important; \r\n",
       "    margin: 0em 0px !important;\r\n",
       "} \r\n",
       "table th {\r\n",
       "    text-align: start;\r\n",
       "}\r\n",
       "</style>"
      ]
     },
     "metadata": {},
     "output_type": "display_data"
    }
   ],
   "source": [
    "let ContainsElement elem lst =\n",
    "    let matches = [ for x in lst do if x = elem then yield x]\n",
    "    not (List.isEmpty matches)\n",
    "\n",
    "let elem = 2\n",
    "let list2 = [1;2;3]\n",
    "ContainsElement elem list2"
   ]
  },
  {
   "attachments": {},
   "cell_type": "markdown",
   "id": "8d32d665-318b-4dbe-bec1-914fcc335116",
   "metadata": {},
   "source": [
    "------------------------------------------------------------------------\n",
    "\n",
    "------------------------------------------------------------------------\n",
    "\n",
    "**Exercise 4** Define a function `repeat` such that `repeat n v` creates\n",
    "a list of length `n` in which all elements are equal to `v`. Use a\n",
    "combination of a range and list comprehension.\n",
    "\n",
    "The function might be used as follows\n",
    "\n",
    "``` fsharp\n",
    "repeat 5 true // -> [true; true; true; true; true]\n",
    "```"
   ]
  },
  {
   "cell_type": "code",
   "execution_count": 61,
   "id": "99250208-5223-4b98-8af3-e85e903b72ba",
   "metadata": {
    "dotnet_interactive": {
     "language": "fsharp"
    },
    "vscode": {
     "languageId": "polyglot-notebook"
    }
   },
   "outputs": [
    {
     "data": {
      "text/html": [
       "<div class=\"dni-plaintext\"><pre>[ True, True, True, True, True ]</pre></div><style>\r\n",
       ".dni-code-hint {\r\n",
       "    font-style: italic;\r\n",
       "    overflow: hidden;\r\n",
       "    white-space: nowrap;\r\n",
       "}\r\n",
       ".dni-treeview {\r\n",
       "    white-space: nowrap;\r\n",
       "}\r\n",
       ".dni-treeview td {\r\n",
       "    vertical-align: top;\r\n",
       "    text-align: start;\r\n",
       "}\r\n",
       "details.dni-treeview {\r\n",
       "    padding-left: 1em;\r\n",
       "}\r\n",
       "table td {\r\n",
       "    text-align: start;\r\n",
       "}\r\n",
       "table tr { \r\n",
       "    vertical-align: top; \r\n",
       "    margin: 0em 0px;\r\n",
       "}\r\n",
       "table tr td pre \r\n",
       "{ \r\n",
       "    vertical-align: top !important; \r\n",
       "    margin: 0em 0px !important;\r\n",
       "} \r\n",
       "table th {\r\n",
       "    text-align: start;\r\n",
       "}\r\n",
       "</style>"
      ]
     },
     "metadata": {},
     "output_type": "display_data"
    }
   ],
   "source": [
    "let repeat amount bool =\n",
    "    [for _ in [1..amount] -> bool]\n",
    "\n",
    "repeat 5 true\n"
   ]
  },
  {
   "attachments": {},
   "cell_type": "markdown",
   "id": "b8d9feb3-5a3c-4d14-9125-3d749f1d2ef1",
   "metadata": {},
   "source": [
    "------------------------------------------------------------------------\n",
    "\n",
    "------------------------------------------------------------------------\n",
    "\n",
    "**Exercise 5** **Not required:** We can think of `Option<'T>` as a\n",
    "special kind of list that is either empty or contains *one element\n",
    "only*. Explain why."
   ]
  },
  {
   "cell_type": "code",
   "execution_count": null,
   "id": "4185b565-4719-477e-9843-ca8773931f0e",
   "metadata": {
    "dotnet_interactive": {
     "language": "fsharp"
    },
    "vscode": {
     "languageId": "polyglot-notebook"
    }
   },
   "outputs": [],
   "source": [
    "// your code here"
   ]
  },
  {
   "attachments": {},
   "cell_type": "markdown",
   "id": "3133190e-c541-4f7b-93af-29650e1bfd5e",
   "metadata": {},
   "source": [
    "------------------------------------------------------------------------"
   ]
  }
 ],
 "metadata": {
  "language_info": {
   "name": "csharp"
  }
 },
 "nbformat": 4,
 "nbformat_minor": 5
}
