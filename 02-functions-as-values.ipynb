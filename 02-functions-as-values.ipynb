{
 "cells": [
  {
   "cell_type": "markdown",
   "id": "d1411d05-ded3-4f70-ab1b-ea73d3221097",
   "metadata": {},
   "source": [
    "------------------------------------------------------------------------\n",
    "\n",
    "**Exercise 1** Which of the languages you used over the last year were\n",
    "strongly typed? Which were weakly typed? Why?"
   ]
  },
  {
   "cell_type": "code",
   "execution_count": null,
   "id": "9d3a0fa6-7f70-4b8a-b2ca-4e34c9c9e3ef",
   "metadata": {
    "dotnet_interactive": {
     "language": "fsharp"
    },
    "vscode": {
     "languageId": "polyglot-notebook"
    }
   },
   "outputs": [],
   "source": [
    "// Javascript is seen as weakly typed,\n",
    "//Strongly typed: java, c#, python and TypeScript"
   ]
  },
  {
   "cell_type": "markdown",
   "id": "2dc09998-e775-41c1-a9fb-94671cd4e655",
   "metadata": {},
   "source": [
    "------------------------------------------------------------------------\n",
    "\n",
    "------------------------------------------------------------------------\n",
    "\n",
    "**Exercise 2** Did you ever encounter a situation where a weakly typed\n",
    "language affected the correctness of your program?"
   ]
  },
  {
   "cell_type": "code",
   "execution_count": null,
   "id": "686c6510-0920-475e-ade2-07b9e0e11587",
   "metadata": {
    "dotnet_interactive": {
     "language": "fsharp"
    },
    "vscode": {
     "languageId": "polyglot-notebook"
    }
   },
   "outputs": [],
   "source": [
    "// not yet"
   ]
  },
  {
   "cell_type": "markdown",
   "id": "db46db85-97c9-48f8-85a4-f760b59116c0",
   "metadata": {},
   "source": [
    "------------------------------------------------------------------------\n",
    "\n",
    "------------------------------------------------------------------------\n",
    "\n",
    "**Exercise 3** For each of the following languages, determine if they\n",
    "are statically or dynamically typed.\n",
    "\n",
    "1.  PHP\n",
    "2.  JavaScript\n",
    "3.  C#\n",
    "4.  C++\n",
    "5.  Scheme\n",
    "6.  Java\n",
    "7.  Python"
   ]
  },
  {
   "cell_type": "code",
   "execution_count": null,
   "id": "f917a370-9ef1-45fb-b37e-6987e2c454ef",
   "metadata": {
    "dotnet_interactive": {
     "language": "fsharp"
    },
    "vscode": {
     "languageId": "polyglot-notebook"
    }
   },
   "outputs": [],
   "source": [
    "//1. Dynamically\n",
    "//2. Dynamically \n",
    "//3. Statically\n",
    "//4. Statically\n",
    "//5. Dynamically\n",
    "//6. Statically\n",
    "//7. Dynamically"
   ]
  },
  {
   "cell_type": "markdown",
   "id": "f9633730-a4fb-4f49-9c2e-cb25e2080c05",
   "metadata": {},
   "source": [
    "------------------------------------------------------------------------\n",
    "\n",
    "------------------------------------------------------------------------\n",
    "\n",
    "**Exercise 4** Take a look at the code below. Based on this fragment, do\n",
    "you think F# is a statically or dynamically typed language?\n",
    "\n",
    "Listing 1: Two variable bindings in F#"
   ]
  },
  {
   "cell_type": "code",
   "execution_count": 6,
   "id": "f63d4b7e-20d6-4cd0-a8fc-02cc8905e3b0",
   "metadata": {
    "dotnet_interactive": {
     "language": "fsharp"
    },
    "vscode": {
     "languageId": "polyglot-notebook"
    }
   },
   "outputs": [],
   "source": [
    "let a = 5\n",
    "let s = \"abc\"\n"
   ]
  },
  {
   "cell_type": "code",
   "execution_count": null,
   "id": "64abc44e-9dd5-4fea-806f-3b0abd436de6",
   "metadata": {
    "dotnet_interactive": {
     "language": "fsharp"
    },
    "vscode": {
     "languageId": "polyglot-notebook"
    }
   },
   "outputs": [],
   "source": [
    "// Statically"
   ]
  },
  {
   "cell_type": "markdown",
   "id": "aaff45de-145c-438f-a459-d2e73bdf8b94",
   "metadata": {},
   "source": [
    "------------------------------------------------------------------------\n",
    "\n",
    "------------------------------------------------------------------------\n",
    "\n",
    "**Exercise 5** You have written code in Java, C# and JavaScript. Java\n",
    "and C# are statically and more strongly typed than JavaScript, which is\n",
    "a weakly and dynamically typed language. How does this affect the code\n",
    "you write?"
   ]
  },
  {
   "cell_type": "code",
   "execution_count": null,
   "id": "5e899fd5-f198-4e31-bad5-1c69ca0bdb86",
   "metadata": {
    "dotnet_interactive": {
     "language": "fsharp"
    },
    "vscode": {
     "languageId": "polyglot-notebook"
    }
   },
   "outputs": [],
   "source": [
    "// for javascript it makes it easier to make mistakes then Java and C#"
   ]
  },
  {
   "cell_type": "markdown",
   "id": "a84cf87f-c8d0-4efb-951f-b2067818e35f",
   "metadata": {},
   "source": [
    "------------------------------------------------------------------------\n",
    "\n",
    "Listing 2: The successor function bound to `succ`"
   ]
  },
  {
   "cell_type": "code",
   "execution_count": 7,
   "id": "2f79a82a-7f08-4e14-832a-732a4dd6f091",
   "metadata": {
    "dotnet_interactive": {
     "language": "fsharp"
    },
    "vscode": {
     "languageId": "polyglot-notebook"
    }
   },
   "outputs": [],
   "source": [
    "let succ n = n + 1"
   ]
  },
  {
   "cell_type": "markdown",
   "id": "a91c3767-9979-4585-9a24-6d87d1709faa",
   "metadata": {},
   "source": [
    "------------------------------------------------------------------------\n",
    "\n",
    "**Exercise 6** Run the code below. What is the error message?\n",
    "\n",
    "Listing 3: Adding one to a string"
   ]
  },
  {
   "cell_type": "code",
   "execution_count": null,
   "id": "3d7ff3f8-f95f-44a3-9d8b-997d342ff624",
   "metadata": {
    "dotnet_interactive": {
     "language": "fsharp"
    },
    "vscode": {
     "languageId": "polyglot-notebook"
    }
   },
   "outputs": [],
   "source": [
    "printfn \"Let's do something crazy!\"\n",
    "succ \"1\""
   ]
  },
  {
   "cell_type": "code",
   "execution_count": null,
   "id": "8a47a050-43dc-46ac-a034-e18055896aa2",
   "metadata": {
    "dotnet_interactive": {
     "language": "fsharp"
    },
    "vscode": {
     "languageId": "polyglot-notebook"
    }
   },
   "outputs": [],
   "source": [
    "// your code here"
   ]
  },
  {
   "cell_type": "markdown",
   "id": "2487fc5a-9bb2-40d4-b884-d4f5a7976572",
   "metadata": {},
   "source": [
    "------------------------------------------------------------------------\n",
    "\n",
    "Listing 7: An equivalent definition of `succ` using a lambda literal"
   ]
  },
  {
   "cell_type": "code",
   "execution_count": null,
   "id": "51dabea6-73ac-4df6-a7f7-354bcd4f7926",
   "metadata": {
    "dotnet_interactive": {
     "language": "fsharp"
    },
    "vscode": {
     "languageId": "polyglot-notebook"
    }
   },
   "outputs": [],
   "source": [
    "let succ = fun x -> x + 1"
   ]
  },
  {
   "cell_type": "markdown",
   "id": "1fc50ef8-0f13-4227-a05f-3da251a0cf7f",
   "metadata": {},
   "source": [
    "------------------------------------------------------------------------\n",
    "\n",
    "**Exercise 7** Use `let`-bindings and lambda literals to name the\n",
    "following functions:\n",
    "\n",
    "-   `pred` that takes an `int` and returns the previous number\n",
    "-   `square` that takes an `int` and returns its square\n",
    "-   `show` that takes an `int` and writes it to the console."
   ]
  },
  {
   "cell_type": "code",
   "execution_count": null,
   "id": "c05a8682-cb4b-4ba1-9b2f-65e6025cf946",
   "metadata": {
    "dotnet_interactive": {
     "language": "fsharp"
    },
    "vscode": {
     "languageId": "polyglot-notebook"
    }
   },
   "outputs": [],
   "source": [
    "// your code here"
   ]
  },
  {
   "cell_type": "markdown",
   "id": "af09bc02-4b02-470b-9a53-9d7834417af8",
   "metadata": {},
   "source": [
    "------------------------------------------------------------------------\n",
    "\n",
    "------------------------------------------------------------------------\n",
    "\n",
    "**Exercise 8** Can you recall the definitions of unary and arity? If\n",
    "not, look them up. Create flash cards for them."
   ]
  },
  {
   "cell_type": "code",
   "execution_count": null,
   "id": "4e949d7b-2b2d-407d-9102-7efcabbb9223",
   "metadata": {
    "dotnet_interactive": {
     "language": "fsharp"
    },
    "vscode": {
     "languageId": "polyglot-notebook"
    }
   },
   "outputs": [],
   "source": [
    "// your code here"
   ]
  },
  {
   "cell_type": "markdown",
   "id": "46846bd9-5d02-4b5b-918c-4fc5da394059",
   "metadata": {},
   "source": [
    "------------------------------------------------------------------------\n",
    "\n",
    "Listing 8: A binary lambda literal"
   ]
  },
  {
   "cell_type": "code",
   "execution_count": null,
   "id": "19b482c7-bbcc-4c0f-801b-08dd26a73112",
   "metadata": {
    "dotnet_interactive": {
     "language": "fsharp"
    },
    "vscode": {
     "languageId": "polyglot-notebook"
    }
   },
   "outputs": [],
   "source": [
    "let add a b = a + b"
   ]
  },
  {
   "cell_type": "markdown",
   "id": "c5e1b7b7-6b04-4822-858e-b4e973e8244a",
   "metadata": {},
   "source": [
    "Listing 9: Calling a binary function"
   ]
  },
  {
   "cell_type": "code",
   "execution_count": null,
   "id": "54d0c9f0-66c9-4673-a02f-3e622ca603fd",
   "metadata": {
    "dotnet_interactive": {
     "language": "fsharp"
    },
    "vscode": {
     "languageId": "polyglot-notebook"
    }
   },
   "outputs": [],
   "source": [
    "add 1 2 // 3"
   ]
  },
  {
   "cell_type": "markdown",
   "id": "8bd80195-794e-4087-9111-a0fc4290717e",
   "metadata": {},
   "source": [
    "Listing 10: An alternative add function"
   ]
  },
  {
   "cell_type": "code",
   "execution_count": null,
   "id": "a6148b60-6b4a-4644-8b77-8f287a08e2f9",
   "metadata": {
    "dotnet_interactive": {
     "language": "fsharp"
    },
    "vscode": {
     "languageId": "polyglot-notebook"
    }
   },
   "outputs": [],
   "source": [
    "let addT(a, b) = a + b"
   ]
  },
  {
   "cell_type": "markdown",
   "id": "66ea27cf-c906-46e1-b3cd-d76555029bc7",
   "metadata": {},
   "source": [
    "Listing 11: The same definition now with a space between function name\n",
    "and parameter list"
   ]
  },
  {
   "cell_type": "code",
   "execution_count": null,
   "id": "a3b8475c-7f7f-4db4-9397-3a60fe5348df",
   "metadata": {
    "dotnet_interactive": {
     "language": "fsharp"
    },
    "vscode": {
     "languageId": "polyglot-notebook"
    }
   },
   "outputs": [],
   "source": [
    "let addT (a,b) = a + b"
   ]
  },
  {
   "cell_type": "markdown",
   "id": "9db95ebf-d852-422a-b055-520edc5fb4fd",
   "metadata": {},
   "source": [
    "Listing 12: Calling `addT`"
   ]
  },
  {
   "cell_type": "code",
   "execution_count": null,
   "id": "54fd83cb-2fd9-48ba-bc52-1d261ea51e40",
   "metadata": {
    "dotnet_interactive": {
     "language": "fsharp"
    },
    "vscode": {
     "languageId": "polyglot-notebook"
    }
   },
   "outputs": [],
   "source": [
    "let oneAndTwo = (1,2) // create a pair\n",
    "addT oneAndTwo"
   ]
  },
  {
   "cell_type": "markdown",
   "id": "f777a8b2-4f6a-412a-a1a7-0dd7af386282",
   "metadata": {},
   "source": [
    "Listing 13: A tuple of three components"
   ]
  },
  {
   "cell_type": "code",
   "execution_count": null,
   "id": "7c27c895-30dd-403a-98e5-9173ae1e99c2",
   "metadata": {
    "dotnet_interactive": {
     "language": "fsharp"
    },
    "vscode": {
     "languageId": "polyglot-notebook"
    }
   },
   "outputs": [],
   "source": [
    "let t = (\"yursav\", 31, true)"
   ]
  },
  {
   "cell_type": "markdown",
   "id": "3ee32557-ea1a-476d-8b93-261d90b57c98",
   "metadata": {},
   "source": [
    "Listing 14: An entry in a multiplication table in F#"
   ]
  },
  {
   "cell_type": "code",
   "execution_count": null,
   "id": "15fc8cfc-33a4-4819-b102-5ce139729d52",
   "metadata": {
    "dotnet_interactive": {
     "language": "fsharp"
    },
    "vscode": {
     "languageId": "polyglot-notebook"
    }
   },
   "outputs": [],
   "source": [
    "let multTable a b = (a, b, a * b)\n",
    "multTable 3 4 // 3 × 4 = 12"
   ]
  },
  {
   "cell_type": "code",
   "execution_count": null,
   "id": "d44d914f-c59d-4d29-a088-7f4ce40c2f6b",
   "metadata": {
    "dotnet_interactive": {
     "language": "fsharp"
    },
    "vscode": {
     "languageId": "polyglot-notebook"
    }
   },
   "outputs": [],
   "source": [
    "let add3 (a,b) c = a + b + c"
   ]
  },
  {
   "cell_type": "markdown",
   "id": "e1a821b8-a1e4-4026-856e-f470c75a1c93",
   "metadata": {},
   "source": [
    "------------------------------------------------------------------------\n",
    "\n",
    "**Exercise 9** Run the following code and hover over `employee` to see\n",
    "its type"
   ]
  },
  {
   "cell_type": "code",
   "execution_count": null,
   "id": "9dbe4897-3517-4afd-a222-df035ffb240b",
   "metadata": {
    "dotnet_interactive": {
     "language": "fsharp"
    },
    "vscode": {
     "languageId": "polyglot-notebook"
    }
   },
   "outputs": [],
   "source": [
    "// your code here"
   ]
  },
  {
   "cell_type": "markdown",
   "id": "e304c9ae-bfbc-4c10-aff4-4dfe11d9e75d",
   "metadata": {},
   "source": [
    "------------------------------------------------------------------------\n",
    "\n",
    "Listing 15: A tuple of two components"
   ]
  },
  {
   "cell_type": "code",
   "execution_count": null,
   "id": "2d5d0466-a046-481b-8f6d-9943b9692a96",
   "metadata": {
    "dotnet_interactive": {
     "language": "fsharp"
    },
    "vscode": {
     "languageId": "polyglot-notebook"
    }
   },
   "outputs": [],
   "source": [
    "let employee = (\"yursav\", 1521)"
   ]
  },
  {
   "cell_type": "markdown",
   "id": "9c3a10d6-9a29-44da-974f-f63f32d97549",
   "metadata": {},
   "source": [
    "Listing 17: Two different functions to add two numbers"
   ]
  },
  {
   "cell_type": "code",
   "execution_count": null,
   "id": "96a82344-d71e-415c-a0d1-2a9473243306",
   "metadata": {
    "dotnet_interactive": {
     "language": "fsharp"
    },
    "vscode": {
     "languageId": "polyglot-notebook"
    }
   },
   "outputs": [],
   "source": [
    "let add a b = a + b\n",
    "let addT (a,b) = a + b"
   ]
  },
  {
   "cell_type": "markdown",
   "id": "4e9100ca-d9c7-42d3-99fd-940586e27da6",
   "metadata": {},
   "source": [
    "Listing 18: On the surface it seems we apply `add` to two arguments"
   ]
  },
  {
   "cell_type": "code",
   "execution_count": null,
   "id": "2fb6fae9-6630-462d-923d-e704326bc717",
   "metadata": {
    "dotnet_interactive": {
     "language": "fsharp"
    },
    "vscode": {
     "languageId": "polyglot-notebook"
    }
   },
   "outputs": [],
   "source": [
    "add 1 2"
   ]
  },
  {
   "cell_type": "markdown",
   "id": "88e0e63a-d13b-4e5a-8290-0b1e1c4d1695",
   "metadata": {},
   "source": [
    "Listing 19: We are actually applying a single argument *twice*"
   ]
  },
  {
   "cell_type": "code",
   "execution_count": null,
   "id": "9684ccae-9dac-46ba-83e8-d9f4d2302a37",
   "metadata": {
    "dotnet_interactive": {
     "language": "fsharp"
    },
    "vscode": {
     "languageId": "polyglot-notebook"
    }
   },
   "outputs": [],
   "source": [
    "(add 1) 2"
   ]
  },
  {
   "cell_type": "markdown",
   "id": "3082b0cc-ab9b-4bc5-ba46-d7a09e66a2d7",
   "metadata": {},
   "source": [
    "Listing 22: An alternative definition of `add` that makes its true\n",
    "nature explicit"
   ]
  },
  {
   "cell_type": "code",
   "execution_count": null,
   "id": "27a59cb4-a426-4f2c-b7a9-ce987d0507ad",
   "metadata": {
    "dotnet_interactive": {
     "language": "fsharp"
    },
    "vscode": {
     "languageId": "polyglot-notebook"
    }
   },
   "outputs": [],
   "source": [
    "let add a = fun b -> a + b"
   ]
  },
  {
   "cell_type": "markdown",
   "id": "a360caab-6d13-482f-9c2e-b47665f83b7c",
   "metadata": {},
   "source": [
    "Listing 23: `add` as a nested sequence of unary functions"
   ]
  },
  {
   "cell_type": "code",
   "execution_count": null,
   "id": "29e8931a-8760-445a-8928-7f8d5e412a47",
   "metadata": {
    "dotnet_interactive": {
     "language": "fsharp"
    },
    "vscode": {
     "languageId": "polyglot-notebook"
    }
   },
   "outputs": [],
   "source": [
    "let add =\n",
    "    fun a ->\n",
    "        fun b ->\n",
    "            a + b"
   ]
  },
  {
   "cell_type": "markdown",
   "id": "1e280ce4-daf8-4b51-be81-bb66e4118e56",
   "metadata": {},
   "source": [
    "------------------------------------------------------------------------\n",
    "\n",
    "**Exercise 10** Add parentheses to make the true nature of the functions\n",
    "explicit:\n",
    "\n",
    "-   `int -> int -> int`\n",
    "-   `int * int -> bool -> string`\n",
    "-   `bool -> string -> bool * string`"
   ]
  },
  {
   "cell_type": "code",
   "execution_count": null,
   "id": "624a0c7b-32e5-4b15-9da7-d519c1b5e45a",
   "metadata": {
    "dotnet_interactive": {
     "language": "fsharp"
    },
    "vscode": {
     "languageId": "polyglot-notebook"
    }
   },
   "outputs": [],
   "source": [
    "// your code here"
   ]
  },
  {
   "cell_type": "markdown",
   "id": "3330bafa-2c66-4da8-bde8-f81e7a58ce35",
   "metadata": {},
   "source": [
    "------------------------------------------------------------------------\n",
    "\n",
    "------------------------------------------------------------------------\n",
    "\n",
    "**Exercise 11** Add parentheses to make the true nature of function\n",
    "application explicit:\n",
    "\n",
    "-   `f 1 2`\n",
    "-   `g (1, 2) \"test\"`\n",
    "-   `makeEmployee 31 \"yursav\" true`"
   ]
  },
  {
   "cell_type": "code",
   "execution_count": null,
   "id": "023aeef9-1ccb-475c-80ac-f5fccdcfef91",
   "metadata": {
    "dotnet_interactive": {
     "language": "fsharp"
    },
    "vscode": {
     "languageId": "polyglot-notebook"
    }
   },
   "outputs": [],
   "source": [
    "// your code here"
   ]
  },
  {
   "cell_type": "markdown",
   "id": "5a26d02b-bd8f-412a-94d3-30b0d7920add",
   "metadata": {},
   "source": [
    "------------------------------------------------------------------------\n",
    "\n",
    "------------------------------------------------------------------------\n",
    "\n",
    "**Exercise 12** Make the curried nature of the following functions\n",
    "explicit"
   ]
  },
  {
   "cell_type": "code",
   "execution_count": null,
   "id": "0ac1333d-5f8e-4bb4-8974-5898d9f967af",
   "metadata": {
    "dotnet_interactive": {
     "language": "fsharp"
    },
    "vscode": {
     "languageId": "polyglot-notebook"
    }
   },
   "outputs": [],
   "source": [
    "// your code here"
   ]
  },
  {
   "cell_type": "markdown",
   "id": "cf63838b-c653-4a06-be15-0c0ab5dddf08",
   "metadata": {},
   "source": [
    "------------------------------------------------------------------------"
   ]
  },
  {
   "cell_type": "code",
   "execution_count": null,
   "id": "e2f13bb6-87d1-4eab-8daa-aaf801876e20",
   "metadata": {
    "dotnet_interactive": {
     "language": "fsharp"
    },
    "vscode": {
     "languageId": "polyglot-notebook"
    }
   },
   "outputs": [],
   "source": [
    "let createEmployee name age towel = (name, age, towel)"
   ]
  },
  {
   "cell_type": "code",
   "execution_count": null,
   "id": "1b06b21b-2e20-4d05-b765-674be63b3d80",
   "metadata": {
    "dotnet_interactive": {
     "language": "fsharp"
    },
    "vscode": {
     "languageId": "polyglot-notebook"
    }
   },
   "outputs": [],
   "source": [
    "let multiply3 a b c = a * b * c"
   ]
  },
  {
   "cell_type": "markdown",
   "id": "d727cc27-73d0-4762-8463-6af091df7587",
   "metadata": {},
   "source": [
    "------------------------------------------------------------------------\n",
    "\n",
    "**Exercise 13** Convert `multiply3` to its tuple form `multiply3T`"
   ]
  },
  {
   "cell_type": "code",
   "execution_count": null,
   "id": "91e51175-dc21-4b97-8b20-765e85c1a871",
   "metadata": {
    "dotnet_interactive": {
     "language": "fsharp"
    },
    "vscode": {
     "languageId": "polyglot-notebook"
    }
   },
   "outputs": [],
   "source": [
    "// your code here"
   ]
  },
  {
   "cell_type": "markdown",
   "id": "0cec94e3-44ed-4428-b3d8-c0a1da9acb74",
   "metadata": {},
   "source": [
    "------------------------------------------------------------------------\n",
    "\n",
    "Listing 24: A constructor for contacts"
   ]
  },
  {
   "cell_type": "code",
   "execution_count": null,
   "id": "d0a68122-929c-4bfc-ba37-32f0ac438bf6",
   "metadata": {
    "dotnet_interactive": {
     "language": "fsharp"
    },
    "vscode": {
     "languageId": "polyglot-notebook"
    }
   },
   "outputs": [],
   "source": [
    "// different order in tuple\n",
    "let makeContact org met name = (name, met, org)"
   ]
  },
  {
   "cell_type": "markdown",
   "id": "fb8531c1-431a-43d7-9f0c-7218eea1f811",
   "metadata": {},
   "source": [
    "------------------------------------------------------------------------\n",
    "\n",
    "**Exercise 14** Run the code in lst. 24. Hover your mouse pointer over\n",
    "the name `makeContact`. Observe the type of this function."
   ]
  },
  {
   "cell_type": "code",
   "execution_count": null,
   "id": "5d932b94-107e-487f-8a89-f4ff2d981a1d",
   "metadata": {
    "dotnet_interactive": {
     "language": "fsharp"
    },
    "vscode": {
     "languageId": "polyglot-notebook"
    }
   },
   "outputs": [],
   "source": [
    "// your code here"
   ]
  },
  {
   "cell_type": "markdown",
   "id": "b78c6b9e-0cc5-4fa3-9e02-654a85a9332b",
   "metadata": {},
   "source": [
    "------------------------------------------------------------------------\n",
    "\n",
    "Listing 26: `areEqual` is automatically generalised but `x` and `y`\n",
    "should be of the same type—otherwise they cannot be checked for equality"
   ]
  },
  {
   "cell_type": "code",
   "execution_count": null,
   "id": "18efdc3a-8556-43a1-96ec-d8b5f3b9a77a",
   "metadata": {
    "dotnet_interactive": {
     "language": "fsharp"
    },
    "vscode": {
     "languageId": "polyglot-notebook"
    }
   },
   "outputs": [],
   "source": [
    "let areEqual x y = if x = y then \"equal\" else \"not equal\""
   ]
  },
  {
   "cell_type": "markdown",
   "id": "79d39d4a-c30a-414b-a750-4a5a10bd4f37",
   "metadata": {},
   "source": [
    "Listing 28: Calling `areEqual` with two `int`s or `string`s is fine"
   ]
  },
  {
   "cell_type": "code",
   "execution_count": null,
   "id": "1b3e9a66-67ef-4739-8eac-c992c6c98132",
   "metadata": {
    "dotnet_interactive": {
     "language": "fsharp"
    },
    "vscode": {
     "languageId": "polyglot-notebook"
    }
   },
   "outputs": [],
   "source": [
    "areEqual 1 2\n",
    "    // -> \"not equal\"\n",
    "areEqual \"one\" \"one\"\n",
    "    // -> \"equal\""
   ]
  },
  {
   "cell_type": "markdown",
   "id": "66928874-339a-48b6-9cda-61c91f4db5bc",
   "metadata": {},
   "source": [
    "Listing 29: F# will refuse to compile code that applies `areEqual` to\n",
    "values of different types"
   ]
  },
  {
   "cell_type": "code",
   "execution_count": null,
   "id": "1e4deb22-0b7a-457d-beaa-485b76d5e86a",
   "metadata": {
    "dotnet_interactive": {
     "language": "fsharp"
    },
    "vscode": {
     "languageId": "polyglot-notebook"
    }
   },
   "outputs": [],
   "source": [
    "areEqual 1 \"one\" // error"
   ]
  },
  {
   "cell_type": "markdown",
   "id": "731f4137-c8ee-4b50-9f9a-a147bd1b8faf",
   "metadata": {},
   "source": [
    "Listing 30: Making types explicit prevents automatic generalisation."
   ]
  },
  {
   "cell_type": "code",
   "execution_count": null,
   "id": "4b51916f-2b19-4e0f-9ac7-937ee3279f11",
   "metadata": {
    "dotnet_interactive": {
     "language": "fsharp"
    },
    "vscode": {
     "languageId": "polyglot-notebook"
    }
   },
   "outputs": [],
   "source": [
    "let makeContact (org: string) (met: bool) (name: string) = (name, met, org)"
   ]
  },
  {
   "cell_type": "markdown",
   "id": "becfdece-da66-4845-81e9-024f8fe07ce3",
   "metadata": {},
   "source": [
    "------------------------------------------------------------------------\n",
    "\n",
    "**Exercise 15** Run the code in lst. 30. How has this affected the type\n",
    "of `makeContact`."
   ]
  },
  {
   "cell_type": "code",
   "execution_count": null,
   "id": "dfe6f378-3905-4b0a-8125-4660c89e18b5",
   "metadata": {
    "dotnet_interactive": {
     "language": "fsharp"
    },
    "vscode": {
     "languageId": "polyglot-notebook"
    }
   },
   "outputs": [],
   "source": [
    "// your code here"
   ]
  },
  {
   "cell_type": "markdown",
   "id": "1c573ce1-a7ea-4894-93fb-ec5d5a18c051",
   "metadata": {},
   "source": [
    "------------------------------------------------------------------------\n",
    "\n",
    "Listing 31: A specialised version of makeContact for Prodrive\n",
    "Technologies"
   ]
  },
  {
   "cell_type": "code",
   "execution_count": null,
   "id": "9bd80463-fa41-44d1-bb5c-f59c926508a9",
   "metadata": {
    "dotnet_interactive": {
     "language": "fsharp"
    },
    "vscode": {
     "languageId": "polyglot-notebook"
    }
   },
   "outputs": [],
   "source": [
    "let makeProdriveContact = makeContact \"Prodrive Technologies\""
   ]
  },
  {
   "cell_type": "markdown",
   "id": "17158cf4-0f2b-463f-a74d-056843d1101b",
   "metadata": {},
   "source": [
    "------------------------------------------------------------------------\n",
    "\n",
    "**Exercise 16** Run the code in lst. 31. What is the type?"
   ]
  },
  {
   "cell_type": "code",
   "execution_count": null,
   "id": "09ee25f0-4c37-4c46-a4fc-5a5f294326f3",
   "metadata": {
    "dotnet_interactive": {
     "language": "fsharp"
    },
    "vscode": {
     "languageId": "polyglot-notebook"
    }
   },
   "outputs": [],
   "source": [
    "// your code here"
   ]
  },
  {
   "cell_type": "markdown",
   "id": "3a911687-cd94-47b8-811a-16ee0c318cd4",
   "metadata": {},
   "source": [
    "------------------------------------------------------------------------\n",
    "\n",
    "Listing 32: Using our specialised function"
   ]
  },
  {
   "cell_type": "code",
   "execution_count": null,
   "id": "73160c49-3862-49fb-8da2-e1c75c328d4c",
   "metadata": {
    "dotnet_interactive": {
     "language": "fsharp"
    },
    "vscode": {
     "languageId": "polyglot-notebook"
    }
   },
   "outputs": [],
   "source": [
    "makeProdriveContact false \"Yuriy\""
   ]
  },
  {
   "cell_type": "code",
   "execution_count": null,
   "id": "9ba10903-3afa-4568-9f11-3d20d95f3d63",
   "metadata": {
    "dotnet_interactive": {
     "language": "fsharp"
    },
    "vscode": {
     "languageId": "polyglot-notebook"
    }
   },
   "outputs": [],
   "source": [
    "let makeMetProdriveContact = makeProdriveContact true\n",
    "\n",
    "makeMetProdriveContact \"Arthur\""
   ]
  },
  {
   "cell_type": "markdown",
   "id": "304d9641-9487-4b54-ae16-0f39131c34ce",
   "metadata": {},
   "source": [
    "------------------------------------------------------------------------\n",
    "\n",
    "**Exercise 17** Write a function, `makeTrack` that constructs a tuple\n",
    "with information about a track on a music album. It should accept the\n",
    "following information as arguments:\n",
    "\n",
    "1.  album name\n",
    "2.  artist name\n",
    "3.  track title\n",
    "4.  duration in seconds"
   ]
  },
  {
   "cell_type": "code",
   "execution_count": null,
   "id": "cdce4f1a-0c2e-405f-820a-23365932d92c",
   "metadata": {
    "dotnet_interactive": {
     "language": "fsharp"
    },
    "vscode": {
     "languageId": "polyglot-notebook"
    }
   },
   "outputs": [],
   "source": [
    "// your code here"
   ]
  },
  {
   "cell_type": "markdown",
   "id": "6bbd5b0f-06e5-4510-8705-b0a7431565d3",
   "metadata": {},
   "source": [
    "------------------------------------------------------------------------\n",
    "\n",
    "------------------------------------------------------------------------\n",
    "\n",
    "**Exercise 18** Has your definition of `makeTrack` been generalised\n",
    "automatically? Is automatic generalisation desirable in this situation.\n",
    "If not, provide an alternative definition that addresses this."
   ]
  },
  {
   "cell_type": "code",
   "execution_count": null,
   "id": "c2be13fa-5d1b-4eaa-afd6-f6ebb201c8d9",
   "metadata": {
    "dotnet_interactive": {
     "language": "fsharp"
    },
    "vscode": {
     "languageId": "polyglot-notebook"
    }
   },
   "outputs": [],
   "source": [
    "// your code here"
   ]
  },
  {
   "cell_type": "markdown",
   "id": "9234c6ca-fd9f-45c1-95b3-c2ac31d088b8",
   "metadata": {},
   "source": [
    "------------------------------------------------------------------------\n",
    "\n",
    "------------------------------------------------------------------------\n",
    "\n",
    "**Exercise 19** You just discovered the album “7.6.9.6.” by Spinvis.\n",
    "Define a specialised version of `makeTrack` for this album."
   ]
  },
  {
   "cell_type": "code",
   "execution_count": null,
   "id": "6a092ff3-e23b-4bf0-99f5-d0b623638698",
   "metadata": {
    "dotnet_interactive": {
     "language": "fsharp"
    },
    "vscode": {
     "languageId": "polyglot-notebook"
    }
   },
   "outputs": [],
   "source": [
    "// your code here"
   ]
  },
  {
   "cell_type": "markdown",
   "id": "492037dc-1e39-4787-b5f8-aafff3c5bb15",
   "metadata": {},
   "source": [
    "------------------------------------------------------------------------\n",
    "\n",
    "------------------------------------------------------------------------\n",
    "\n",
    "**Exercise 20** In this exercise you will define a function\n",
    "`trackExceedsThreeMin` to determine if is longer than 3 minutes. First\n",
    "create a more general version `trackDurationExceeds`, then partially\n",
    "apply it to obtain the desired function."
   ]
  },
  {
   "cell_type": "code",
   "execution_count": null,
   "id": "efa7fa81-f17e-46c6-83f6-fdcea5ecc294",
   "metadata": {
    "dotnet_interactive": {
     "language": "fsharp"
    },
    "vscode": {
     "languageId": "polyglot-notebook"
    }
   },
   "outputs": [],
   "source": [
    "// your code here"
   ]
  },
  {
   "cell_type": "markdown",
   "id": "4bdfb868-8dc1-4678-accb-cd35d8c72e3c",
   "metadata": {},
   "source": [
    "------------------------------------------------------------------------"
   ]
  }
 ],
 "metadata": {
  "language_info": {
   "name": "csharp"
  }
 },
 "nbformat": 4,
 "nbformat_minor": 5
}
