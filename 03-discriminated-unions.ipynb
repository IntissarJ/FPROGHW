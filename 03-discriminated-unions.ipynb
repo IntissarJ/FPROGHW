{
 "cells": [
  {
   "cell_type": "markdown",
   "id": "5ac6e311-0225-4d95-a209-fdc3c645ae2a",
   "metadata": {},
   "source": [
    "Listing 1: BeverageSize can take on four values"
   ]
  },
  {
   "cell_type": "code",
   "execution_count": 9,
   "id": "640db5de-e1ca-4b17-adc4-57be4b12987f",
   "metadata": {
    "dotnet_interactive": {
     "language": "csharp"
    },
    "vscode": {
     "languageId": "polyglot-notebook"
    }
   },
   "outputs": [],
   "source": [
    "enum BeverageSize\n",
    "{\n",
    "    Tall,\n",
    "    Grande,\n",
    "    Venti,\n",
    "    Trenta\n",
    "}"
   ]
  },
  {
   "cell_type": "markdown",
   "id": "3481b556-92da-4e91-b93d-059912ef9321",
   "metadata": {},
   "source": [
    "Listing 2: A switch statement is used to process the beverage size"
   ]
  },
  {
   "cell_type": "code",
   "execution_count": 16,
   "metadata": {
    "dotnet_interactive": {
     "language": "csharp"
    },
    "polyglot_notebook": {
     "kernelName": "csharp"
    },
    "vscode": {
     "languageId": "polyglot-notebook"
    }
   },
   "outputs": [
    {
     "name": "stdout",
     "output_type": "stream",
     "text": [
      "591 ml of latte macchiato coming up!\r\n"
     ]
    }
   ],
   "source": [
    "void ProcessOrder(string beverage, BeverageSize size)\n",
    "{\n",
    "    int ml = 0;\n",
    "    switch(size)\n",
    "    {\n",
    "        case BeverageSize.Tall:\n",
    "            ml = 355;\n",
    "            break;\n",
    "        case BeverageSize.Grande:\n",
    "            ml = 473;\n",
    "            break;\n",
    "        case BeverageSize.Venti:\n",
    "            ml = 591;\n",
    "            break;\n",
    "        case BeverageSize.Trenta:\n",
    "            ml = 887;\n",
    "            break;\n",
    "    }\n",
    "    Console.WriteLine($\"{ml} ml of {beverage} coming up!\");\n",
    "}\n",
    "\n",
    "ProcessOrder(\"latte macchiato\", BeverageSize.Venti)"
   ]
  },
  {
   "cell_type": "markdown",
   "id": "db3e9586-af88-42ed-8bcf-fbf6c00e4d7f",
   "metadata": {},
   "source": [
    "Listing 3: Defining beverage size in F#"
   ]
  },
  {
   "cell_type": "code",
   "execution_count": 17,
   "id": "ed743f3c-3e55-4ceb-a578-bb1d948c70d4",
   "metadata": {
    "dotnet_interactive": {
     "language": "fsharp"
    },
    "vscode": {
     "languageId": "polyglot-notebook"
    }
   },
   "outputs": [],
   "source": [
    "\n",
    "type BeverageSize =\n",
    "    | Tall\n",
    "    | Grande\n",
    "    | Venti\n",
    "    | Trenta"
   ]
  },
  {
   "cell_type": "markdown",
   "id": "2952d6aa-fb5e-4f5d-b538-02b82c1d1b7e",
   "metadata": {},
   "source": [
    "Listing 4:"
   ]
  },
  {
   "cell_type": "code",
   "execution_count": 18,
   "id": "379b44bc-f52e-4259-80b7-29c576fe531b",
   "metadata": {
    "dotnet_interactive": {
     "language": "fsharp"
    },
    "vscode": {
     "languageId": "polyglot-notebook"
    }
   },
   "outputs": [
    {
     "data": {
      "text/html": [
       "<div class=\"dni-plaintext\"><pre>355</pre></div><style>\r\n",
       ".dni-code-hint {\r\n",
       "    font-style: italic;\r\n",
       "    overflow: hidden;\r\n",
       "    white-space: nowrap;\r\n",
       "}\r\n",
       ".dni-treeview {\r\n",
       "    white-space: nowrap;\r\n",
       "}\r\n",
       ".dni-treeview td {\r\n",
       "    vertical-align: top;\r\n",
       "    text-align: start;\r\n",
       "}\r\n",
       "details.dni-treeview {\r\n",
       "    padding-left: 1em;\r\n",
       "}\r\n",
       "table td {\r\n",
       "    text-align: start;\r\n",
       "}\r\n",
       "table tr { \r\n",
       "    vertical-align: top; \r\n",
       "    margin: 0em 0px;\r\n",
       "}\r\n",
       "table tr td pre \r\n",
       "{ \r\n",
       "    vertical-align: top !important; \r\n",
       "    margin: 0em 0px !important;\r\n",
       "} \r\n",
       "table th {\r\n",
       "    text-align: start;\r\n",
       "}\r\n",
       "</style>"
      ]
     },
     "metadata": {},
     "output_type": "display_data"
    }
   ],
   "source": [
    "let toVolume size =\n",
    "    match size with\n",
    "    | Tall -> 355\n",
    "    | Grande -> 473\n",
    "    | Venti -> 591\n",
    "    | Trenta -> 887\n",
    "\n",
    "toVolume Tall"
   ]
  },
  {
   "cell_type": "markdown",
   "id": "af05d87f-3450-4d8f-b113-59ebd0428888",
   "metadata": {},
   "source": [
    "Listing 6: The wildcard pattern used here to match any value other than\n",
    "Grande"
   ]
  },
  {
   "cell_type": "code",
   "execution_count": 21,
   "id": "e040f27d-c3b0-4ece-aa5b-25d0f836bbab",
   "metadata": {
    "dotnet_interactive": {
     "language": "fsharp"
    },
    "vscode": {
     "languageId": "polyglot-notebook"
    }
   },
   "outputs": [],
   "source": [
    "let isPreferredSize size =\n",
    "    match size with\n",
    "    | Grande -> true\n",
    "    | _ -> false"
   ]
  },
  {
   "cell_type": "markdown",
   "id": "fb485410-0786-439e-af71-72969e9eb44d",
   "metadata": {},
   "source": [
    "Listing 7: This definition does not work as the wildcard pattern will\n",
    "match all input"
   ]
  },
  {
   "cell_type": "code",
   "execution_count": 22,
   "id": "fe9c6944-0636-4c6d-8cd6-060422eea278",
   "metadata": {
    "dotnet_interactive": {
     "language": "fsharp"
    },
    "vscode": {
     "languageId": "polyglot-notebook"
    }
   },
   "outputs": [
    {
     "data": {
      "text/html": [
       "<div class=\"dni-plaintext\"><pre>False</pre></div><style>\r\n",
       ".dni-code-hint {\r\n",
       "    font-style: italic;\r\n",
       "    overflow: hidden;\r\n",
       "    white-space: nowrap;\r\n",
       "}\r\n",
       ".dni-treeview {\r\n",
       "    white-space: nowrap;\r\n",
       "}\r\n",
       ".dni-treeview td {\r\n",
       "    vertical-align: top;\r\n",
       "    text-align: start;\r\n",
       "}\r\n",
       "details.dni-treeview {\r\n",
       "    padding-left: 1em;\r\n",
       "}\r\n",
       "table td {\r\n",
       "    text-align: start;\r\n",
       "}\r\n",
       "table tr { \r\n",
       "    vertical-align: top; \r\n",
       "    margin: 0em 0px;\r\n",
       "}\r\n",
       "table tr td pre \r\n",
       "{ \r\n",
       "    vertical-align: top !important; \r\n",
       "    margin: 0em 0px !important;\r\n",
       "} \r\n",
       "table th {\r\n",
       "    text-align: start;\r\n",
       "}\r\n",
       "</style>"
      ]
     },
     "metadata": {},
     "output_type": "display_data"
    }
   ],
   "source": [
    "let isPreferredSizeWrong size =\n",
    "    match size with\n",
    "    | _ -> false\n",
    "    | Grande -> true\n",
    "    \n",
    "isPreferredSizeWrong Grande // -> false"
   ]
  },
  {
   "cell_type": "markdown",
   "id": "a72a994d-f4ea-4427-9b79-ce92624bec71",
   "metadata": {},
   "source": [
    "------------------------------------------------------------------------\n",
    "\n",
    "**Exercise 1** Define an enum `Organisation` with values `Prodrive`,\n",
    "`Avans` and `OeteldonkscheClub`"
   ]
  },
  {
   "cell_type": "code",
   "execution_count": 23,
   "id": "9cb53ea3-96b1-447d-b9d4-e847a725c68f",
   "metadata": {
    "dotnet_interactive": {
     "language": "fsharp"
    },
    "vscode": {
     "languageId": "polyglot-notebook"
    }
   },
   "outputs": [],
   "source": [
    "type Organisation =\n",
    "    | Prodrive\n",
    "    | Avans\n",
    "    | OeteldonkscheClub"
   ]
  },
  {
   "cell_type": "markdown",
   "id": "fe377ddd-e94d-4069-8c73-e278681cb7dc",
   "metadata": {},
   "source": [
    "------------------------------------------------------------------------\n",
    "\n",
    "------------------------------------------------------------------------\n",
    "\n",
    "**Exercise 2** Define function `isCompany` that returns `true` for\n",
    "`Prodrive` and `false` for the other values."
   ]
  },
  {
   "cell_type": "code",
   "execution_count": 24,
   "id": "fa4642bd-c3c6-4993-a870-7242836e9ed8",
   "metadata": {
    "dotnet_interactive": {
     "language": "fsharp"
    },
    "vscode": {
     "languageId": "polyglot-notebook"
    }
   },
   "outputs": [],
   "source": [
    "let isCompany comp =\n",
    "    match comp with \n",
    "    | Prodrive -> true \n",
    "    | _ -> false"
   ]
  },
  {
   "cell_type": "markdown",
   "id": "a35a048e-1d8a-4af9-9f85-1e4a2cc2eaea",
   "metadata": {},
   "source": [
    "------------------------------------------------------------------------"
   ]
  },
  {
   "cell_type": "code",
   "execution_count": 25,
   "id": "a46b4ccb-7c72-4798-b853-8ab1593dfcad",
   "metadata": {
    "dotnet_interactive": {
     "language": "fsharp"
    },
    "vscode": {
     "languageId": "polyglot-notebook"
    }
   },
   "outputs": [],
   "source": [
    "type Rank =\n",
    "    | Initiate\n",
    "    | Padawan\n",
    "    | Knight\n",
    "    | Master"
   ]
  },
  {
   "cell_type": "markdown",
   "id": "36cf770e-3d14-4a4c-96b3-312d37291d9d",
   "metadata": {},
   "source": [
    "Listing 10: Different affiliations for antagonists"
   ]
  },
  {
   "cell_type": "code",
   "execution_count": 26,
   "id": "332c1c13-9494-4449-979d-a35c66dd33b3",
   "metadata": {
    "dotnet_interactive": {
     "language": "fsharp"
    },
    "vscode": {
     "languageId": "polyglot-notebook"
    }
   },
   "outputs": [],
   "source": [
    "type Affiliation =\n",
    "    | GalacticEmpire\n",
    "    | FirstOrder"
   ]
  },
  {
   "cell_type": "code",
   "execution_count": 27,
   "id": "62c90d28-194b-4ab4-b5a9-23fad71d17b8",
   "metadata": {
    "dotnet_interactive": {
     "language": "fsharp"
    },
    "vscode": {
     "languageId": "polyglot-notebook"
    }
   },
   "outputs": [],
   "source": [
    "type SimpleCharacter =\n",
    "    | Jedi\n",
    "    | StormTrooper\n",
    "    | DarthVader"
   ]
  },
  {
   "cell_type": "markdown",
   "id": "69a2f09a-9a36-48da-a102-f113b1ee2199",
   "metadata": {},
   "source": [
    "Listing 11: A discriminated union for the characters in our favourite\n",
    "movie series"
   ]
  },
  {
   "cell_type": "code",
   "execution_count": 53,
   "id": "9f56d66f-8709-474b-af8f-be3acd2a5509",
   "metadata": {
    "dotnet_interactive": {
     "language": "fsharp"
    },
    "vscode": {
     "languageId": "polyglot-notebook"
    }
   },
   "outputs": [],
   "source": [
    "type Character =\n",
    "    | Jedi of string * Rank\n",
    "    | Stormtrooper of Affiliation\n",
    "    | DarthVader"
   ]
  },
  {
   "cell_type": "markdown",
   "id": "5919a01f-ab96-41de-8019-8c27e1aa6324",
   "metadata": {},
   "source": [
    "Listing 12: Creating characters"
   ]
  },
  {
   "cell_type": "code",
   "execution_count": 44,
   "id": "28475aa7-cbe1-40f9-aee3-a801ea34f5e8",
   "metadata": {
    "dotnet_interactive": {
     "language": "fsharp"
    },
    "vscode": {
     "languageId": "polyglot-notebook"
    }
   },
   "outputs": [],
   "source": [
    "let darthVader = DarthVader\n",
    "let yoda = Jedi (\"Yoda\", Master)\n",
    "let trooper = Stormtrooper GalacticEmpire\n",
    "let finn = Stormtrooper FirstOrder\n",
    "let Inti = Jedi (\"Inti\", Initiate)\n"
   ]
  },
  {
   "cell_type": "markdown",
   "id": "22493e52-7ba3-4e20-ac09-d4f5c634de77",
   "metadata": {},
   "source": [
    "Listing 13: Deconstruction of a discriminated union using a pattern\n",
    "matching expression"
   ]
  },
  {
   "cell_type": "code",
   "execution_count": 34,
   "id": "f3b2798c-cb08-4e3b-b464-e8d8574785ea",
   "metadata": {
    "dotnet_interactive": {
     "language": "fsharp"
    },
    "vscode": {
     "languageId": "polyglot-notebook"
    }
   },
   "outputs": [],
   "source": [
    "let nameOf c =\n",
    "    match c with\n",
    "    | Jedi (name, _) -> name\n",
    "    | Stormtrooper _ -> \"nameless\"\n",
    "    | DarthVader -> \"Anakin\""
   ]
  },
  {
   "cell_type": "markdown",
   "id": "b062e4c3-a894-4fa0-8e65-811a45717008",
   "metadata": {},
   "source": [
    "Listing 14: A pattern match that uses values rather than variables in an\n",
    "alternative"
   ]
  },
  {
   "cell_type": "code",
   "execution_count": 32,
   "id": "afb93a0b-5f51-4a57-ad3d-aa9388612be6",
   "metadata": {
    "dotnet_interactive": {
     "language": "fsharp"
    },
    "vscode": {
     "languageId": "polyglot-notebook"
    }
   },
   "outputs": [],
   "source": [
    "let canTrainInitiate c =\n",
    "    match c with\n",
    "    | Jedi (_, Master) -> true\n",
    "    | _ -> false"
   ]
  },
  {
   "cell_type": "markdown",
   "id": "6c3a7476-89ce-4083-81c2-c296020e9a28",
   "metadata": {},
   "source": [
    "Listing 15: A function using nested pattern matching"
   ]
  },
  {
   "cell_type": "code",
   "execution_count": 46,
   "id": "9a8e7d1e-5682-436e-8588-16b7b0ef3506",
   "metadata": {
    "dotnet_interactive": {
     "language": "fsharp"
    },
    "vscode": {
     "languageId": "polyglot-notebook"
    }
   },
   "outputs": [
    {
     "data": {
      "text/html": [
       "<div class=\"dni-plaintext\"><pre>True</pre></div><style>\r\n",
       ".dni-code-hint {\r\n",
       "    font-style: italic;\r\n",
       "    overflow: hidden;\r\n",
       "    white-space: nowrap;\r\n",
       "}\r\n",
       ".dni-treeview {\r\n",
       "    white-space: nowrap;\r\n",
       "}\r\n",
       ".dni-treeview td {\r\n",
       "    vertical-align: top;\r\n",
       "    text-align: start;\r\n",
       "}\r\n",
       "details.dni-treeview {\r\n",
       "    padding-left: 1em;\r\n",
       "}\r\n",
       "table td {\r\n",
       "    text-align: start;\r\n",
       "}\r\n",
       "table tr { \r\n",
       "    vertical-align: top; \r\n",
       "    margin: 0em 0px;\r\n",
       "}\r\n",
       "table tr td pre \r\n",
       "{ \r\n",
       "    vertical-align: top !important; \r\n",
       "    margin: 0em 0px !important;\r\n",
       "} \r\n",
       "table th {\r\n",
       "    text-align: start;\r\n",
       "}\r\n",
       "</style>"
      ]
     },
     "metadata": {},
     "output_type": "display_data"
    }
   ],
   "source": [
    "// mentor is the trainer, mentee is his student\n",
    "let canTrain mentor mentee =\n",
    "    match mentee with\n",
    "    | Jedi (_, Initiate) ->\n",
    "        match mentor with\n",
    "        | Jedi (_, Master) -> true\n",
    "        | _ -> false\n",
    "    | Jedi (_, Padawan) ->\n",
    "        match mentor with\n",
    "        | Jedi (_, Knight) -> true\n",
    "        | Jedi (_, Master) -> true\n",
    "        | _ -> false\n",
    "    | _ -> false\n",
    "    \n",
    "// false: a Stormtrooper cannot train Yoda\n",
    "canTrain yoda Inti"
   ]
  },
  {
   "cell_type": "markdown",
   "id": "060425c1-3883-4dcb-9ea2-39482fab8ae6",
   "metadata": {},
   "source": [
    "## Exercises\n",
    "\n",
    "Over the next exercises you will define a new discriminated union for\n",
    "cars. Cars can be divided into two categories:\n",
    "\n",
    "1.  Conventional cars (fueled by petrol or diesel)\n",
    "2.  Electric cars\n",
    "\n",
    "For conventional cars we store what kind of fuel it requires, the\n",
    "transmission type, and the number of gears.\n",
    "\n",
    "For electric cars we only store the range.\n",
    "\n",
    "------------------------------------------------------------------------\n",
    "\n",
    "**Exercise 3** Define an enumeration for fuel. Its values are `Petrol`\n",
    "and `Diesel`"
   ]
  },
  {
   "cell_type": "code",
   "execution_count": 47,
   "id": "a0152d61-a60a-4e5d-9c96-504547416365",
   "metadata": {
    "dotnet_interactive": {
     "language": "fsharp"
    },
    "vscode": {
     "languageId": "polyglot-notebook"
    }
   },
   "outputs": [],
   "source": [
    "type Benzine = \n",
    "    | Petrol\n",
    "    | Diesel"
   ]
  },
  {
   "cell_type": "markdown",
   "id": "c654e485-7473-420b-9ea0-2de51c1a1634",
   "metadata": {},
   "source": [
    "------------------------------------------------------------------------\n",
    "\n",
    "------------------------------------------------------------------------\n",
    "\n",
    "**Exercise 4** Define an enumeration for transmission. Its values are\n",
    "`Manual`, `SemiAutomatic` and `Automatic`"
   ]
  },
  {
   "cell_type": "code",
   "execution_count": 58,
   "id": "c15ceeeb-e045-421e-aa26-e07b0cc30705",
   "metadata": {
    "dotnet_interactive": {
     "language": "fsharp"
    },
    "vscode": {
     "languageId": "polyglot-notebook"
    }
   },
   "outputs": [],
   "source": [
    "type Transmission =\n",
    "    | Manual\n",
    "    | SemiAutomatic\n",
    "    | Automatic"
   ]
  },
  {
   "cell_type": "markdown",
   "id": "80a27073-41a4-4677-b4de-6a2f96cf7573",
   "metadata": {},
   "source": [
    "------------------------------------------------------------------------\n",
    "\n",
    "------------------------------------------------------------------------\n",
    "\n",
    "**Exercise 5** Now define a discriminated union that represents cars."
   ]
  },
  {
   "cell_type": "code",
   "execution_count": 59,
   "id": "52076253-75f9-418b-bfb7-eae9c04529e3",
   "metadata": {
    "dotnet_interactive": {
     "language": "fsharp"
    },
    "vscode": {
     "languageId": "polyglot-notebook"
    }
   },
   "outputs": [],
   "source": [
    "type Car =\n",
    "    | Conventional of Benzine * Transmission * int\n",
    "    | Electric of int"
   ]
  },
  {
   "cell_type": "markdown",
   "id": "528a15f0-7cf1-4a07-b603-18e420b35279",
   "metadata": {},
   "source": [
    "------------------------------------------------------------------------\n",
    "\n",
    "------------------------------------------------------------------------\n",
    "\n",
    "**Exercise 6** Suppose we want to add a property to the `Character`\n",
    "class from lst. 19. This property `Force` returns which side of the\n",
    "force the character is on. `Character`, however, must stay abstract.\n",
    "\n",
    "-   A Jedi is on the light side\n",
    "-   Stormtroopers and DarthVader are on the dark side of the force.\n",
    "\n",
    "Add this property to the class hierarchy. You may use the enum `Side`\n",
    "for its type."
   ]
  },
  {
   "cell_type": "code",
   "execution_count": 62,
   "id": "32755796-daf3-4a10-8fcd-dbb4e6a3e068",
   "metadata": {
    "dotnet_interactive": {
     "language": "fsharp"
    },
    "vscode": {
     "languageId": "polyglot-notebook"
    }
   },
   "outputs": [
    {
     "data": {
      "text/html": [
       "<details open=\"open\" class=\"dni-treeview\"><summary><span class=\"dni-code-hint\"><code>(Jedi (\"Yoda\", Master), Light)</code></span></summary><div><table><thead><tr></tr></thead><tbody><tr><td>Item1</td><td><details class=\"dni-treeview\"><summary><span class=\"dni-code-hint\"><code>Jedi (\"Yoda\", Master)</code></span></summary><div><table><thead><tr></tr></thead><tbody><tr><td>Item1</td><td>Yoda</td></tr><tr><td>Item2</td><td><details class=\"dni-treeview\"><summary><span class=\"dni-code-hint\"><code>Master</code></span></summary><div><table><thead><tr></tr></thead><tbody></tbody></table></div></details></td></tr></tbody></table></div></details></td></tr><tr><td>Item2</td><td><details class=\"dni-treeview\"><summary><span class=\"dni-code-hint\"><code>Light</code></span></summary><div><table><thead><tr></tr></thead><tbody></tbody></table></div></details></td></tr></tbody></table></div></details><style>\r\n",
       ".dni-code-hint {\r\n",
       "    font-style: italic;\r\n",
       "    overflow: hidden;\r\n",
       "    white-space: nowrap;\r\n",
       "}\r\n",
       ".dni-treeview {\r\n",
       "    white-space: nowrap;\r\n",
       "}\r\n",
       ".dni-treeview td {\r\n",
       "    vertical-align: top;\r\n",
       "    text-align: start;\r\n",
       "}\r\n",
       "details.dni-treeview {\r\n",
       "    padding-left: 1em;\r\n",
       "}\r\n",
       "table td {\r\n",
       "    text-align: start;\r\n",
       "}\r\n",
       "table tr { \r\n",
       "    vertical-align: top; \r\n",
       "    margin: 0em 0px;\r\n",
       "}\r\n",
       "table tr td pre \r\n",
       "{ \r\n",
       "    vertical-align: top !important; \r\n",
       "    margin: 0em 0px !important;\r\n",
       "} \r\n",
       "table th {\r\n",
       "    text-align: start;\r\n",
       "}\r\n",
       "</style>"
      ]
     },
     "metadata": {},
     "output_type": "display_data"
    }
   ],
   "source": [
    "type Side = \n",
    "    | Light\n",
    "    | Dark\n",
    "\n",
    "type Force =\n",
    "    | Character of Side\n",
    "\n",
    "let darthVader = DarthVader, Dark\n",
    "let yoda = Jedi (\"Yoda\", Master), Light\n",
    "let finn = Stormtrooper FirstOrder, Dark\n",
    "yoda\n",
    "\n"
   ]
  },
  {
   "cell_type": "markdown",
   "id": "d3894f50-21e2-4e46-be08-1b9fd5483812",
   "metadata": {},
   "source": [
    "------------------------------------------------------------------------\n",
    "\n",
    "------------------------------------------------------------------------\n",
    "\n",
    "**Exercise 7** Create a new character class for the Gungans without\n",
    "changing the definition of `Character`. Each Gungan has its own name. A\n",
    "“popular” Gungan is Jar Jar Binks. A lesser-known Gungan is Rugar Nass.\n",
    "What changes are required to the code?"
   ]
  },
  {
   "cell_type": "code",
   "execution_count": 69,
   "id": "2eb5d70d-6a02-44af-b485-ba4546072307",
   "metadata": {
    "dotnet_interactive": {
     "language": "fsharp"
    },
    "vscode": {
     "languageId": "polyglot-notebook"
    }
   },
   "outputs": [],
   "source": [
    "\n",
    "type Gungan =\n",
    "    | JarJarBinks\n",
    "    | Rugar\n",
    "\n",
    "type NewCharacter =\n",
    "    | Human of Character\n",
    "    | Gung of Gungan\n",
    "\n"
   ]
  },
  {
   "cell_type": "markdown",
   "id": "b4d84677-c0ef-4482-a7aa-aa4d2c50093d",
   "metadata": {},
   "source": [
    "------------------------------------------------------------------------\n",
    "\n",
    "Listing 19: A hierachy of classes in C#"
   ]
  },
  {
   "cell_type": "code",
   "execution_count": null,
   "id": "9edaa5e4-79ee-43ee-a299-6ce8877d2f9e",
   "metadata": {
    "dotnet_interactive": {
     "language": "csharp"
    },
    "vscode": {
     "languageId": "polyglot-notebook"
    }
   },
   "outputs": [],
   "source": [
    "public enum JediRank\n",
    "{\n",
    "    Initiate,\n",
    "    Padawan,\n",
    "    Knight,\n",
    "    Master\n",
    "}\n",
    "\n",
    "public enum Side\n",
    "{\n",
    "    Light,\n",
    "    Dark\n",
    "}\n",
    "\n",
    "public enum TrooperAffiliation\n",
    "{\n",
    "    GalacticEmpire,\n",
    "    FirstOrder\n",
    "}\n",
    "\n",
    "abstract public class Character\n",
    "{\n",
    "    public abstract string Name { get; }\n",
    "    public virtual bool CanTrainInitiate { get => false; }\n",
    "}\n",
    "\n",
    "public class Jedi : Character\n",
    "{\n",
    "    public override string Name { get; }\n",
    "    public JediRank Rank { get; }\n",
    "    public override bool CanTrainInitiate\n",
    "    {\n",
    "        get => Rank == JediRank.Master;\n",
    "    }\n",
    "\n",
    "    public Jedi(string name, JediRank r)\n",
    "    {\n",
    "        Name = name;\n",
    "        Rank = r;\n",
    "    }\n",
    "}\n",
    "\n",
    "public class Stormtrooper : Character\n",
    "{\n",
    "    public override string Name { get => \"nameless\"; }\n",
    "    public TrooperAffiliation Affiliation { get; }\n",
    "\n",
    "    public Stormtrooper(TrooperAffiliation affiliation)\n",
    "    {\n",
    "        Affiliation = affiliation;\n",
    "    }\n",
    "}\n",
    "\n",
    "public class DarthVader : Character\n",
    "{\n",
    "    public override string Name => \"Anakin\";\n",
    "}"
   ]
  },
  {
   "cell_type": "markdown",
   "id": "db6d60f5-1010-41b1-8f86-309114b10bed",
   "metadata": {},
   "source": [
    "------------------------------------------------------------------------\n",
    "\n",
    "**Exercise 8** Let us now perform similar changes to the F# code base.\n",
    "The code in lst. 20 combines all the relevant F# code. You can make and\n",
    "test your alternations there.\n",
    "\n",
    "1.  introduce another enumeration: `Side` with alternatives `Dark` and\n",
    "    `Light`;\n",
    "2.  define a function `sideOfForce` that returns the appropriate side\n",
    "    for all characters;\n",
    "3.  and, finally, add the `Gungan` value constructor to `Character`.\n",
    "    Make sure all functions work for these values as well."
   ]
  },
  {
   "cell_type": "code",
   "execution_count": 84,
   "id": "57e0d40d-2f73-41ef-b418-60153452f982",
   "metadata": {
    "dotnet_interactive": {
     "language": "fsharp"
    },
    "vscode": {
     "languageId": "polyglot-notebook"
    }
   },
   "outputs": [
    {
     "data": {
      "text/plain": [
       "Light"
      ]
     },
     "metadata": {},
     "output_type": "display_data"
    }
   ],
   "source": [
    "type Side = \n",
    "    | Light\n",
    "    | Dark\n",
    "\n",
    "type Force =\n",
    "    | NewCharacter of Character * Side\n",
    "\n",
    "let darthVader = DarthVader, Dark\n",
    "let yoda = NewCharacter (Jedi (\"Yoda\", Master), Light)\n",
    "let finn = Stormtrooper FirstOrder, Dark\n",
    "let gun = JarJarBinks, Light\n",
    "let sideOfForce (char:Force) = \n",
    "    match char with\n",
    "        | NewCharacter (_,side) ->\n",
    "        match side with\n",
    "        | Light -> \"Light\"\n",
    "        | Dark -> \"Dark\"\n",
    "\n",
    "\n",
    "sideOfForce yoda"
   ]
  },
  {
   "cell_type": "markdown",
   "id": "5fd5fa78-8b57-41b1-825a-d4a4299d1fe8",
   "metadata": {},
   "source": [
    "------------------------------------------------------------------------\n",
    "\n",
    "Listing 20: All the code from this chapter combined"
   ]
  },
  {
   "cell_type": "code",
   "execution_count": null,
   "id": "f53cea1f-9ec3-46f7-b389-739511a0a0c7",
   "metadata": {
    "dotnet_interactive": {
     "language": "fsharp"
    },
    "vscode": {
     "languageId": "polyglot-notebook"
    }
   },
   "outputs": [],
   "source": [
    "type Rank =\n",
    "    | Initiate\n",
    "    | Padawan\n",
    "    | Knight\n",
    "    | Master\n",
    "\n",
    "type Affiliation =\n",
    "    | GalacticEmpire\n",
    "    | FirstOrder\n",
    "\n",
    "type Character =\n",
    "    | Jedi of string * Rank\n",
    "    | Stormtrooper of Affiliation\n",
    "    | DarthVader\n",
    "\n",
    "let darthVader = DarthVader\n",
    "let yoda = Jedi (\"Yoda\", Master)\n",
    "let trooper = Stormtrooper GalacticEmpire\n",
    "let finn = Stormtrooper FirstOrder\n",
    "\n",
    "let nameOf c =\n",
    "    match c with\n",
    "    | Jedi (name, _) -> name\n",
    "    | Stormtrooper _ -> \"nameless\"\n",
    "    | DarthVader -> \"Anakin\"\n",
    "\n",
    "let canTrainInitiate c =\n",
    "    match c with\n",
    "    | Jedi (_, Master) -> true\n",
    "    | _ -> false\n",
    "\n",
    "let canTrain mentor mentee =\n",
    "    match mentee with\n",
    "    | Jedi (_, Initiate) -> match mentor with\n",
    "        | Jedi (_, Master) -> true\n",
    "        | _ -> false\n",
    "    | Jedi (_, Padawan) -> match mentor with\n",
    "        | Jedi (_, Knight) -> true\n",
    "        | Jedi (_, Master) -> true\n",
    "        | _ -> false\n",
    "    | _ -> false"
   ]
  }
 ],
 "metadata": {
  "language_info": {
   "name": "csharp"
  }
 },
 "nbformat": 4,
 "nbformat_minor": 5
}
