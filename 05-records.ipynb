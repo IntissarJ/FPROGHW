{
 "cells": [
  {
   "cell_type": "markdown",
   "metadata": {},
   "source": [
    "Listing 1: A discriminated union with two cases and anonymous components"
   ],
   "id": "e0f0af26-3c80-40f3-a573-283d0b48e273"
  },
  {
   "cell_type": "code",
   "execution_count": null,
   "metadata": {
    "dotnet_interactive": {
     "language": "fsharp"
    }
   },
   "outputs": [],
   "source": [
    "type Shape =\n",
    "   | Circle of double\n",
    "   | Rectangle of double * double"
   ],
   "id": "e411ec97-0618-4584-9f8c-171a24b933d9"
  },
  {
   "cell_type": "markdown",
   "metadata": {},
   "source": [
    "Listing 2: Naming the elements of the cases in a discriminated union."
   ],
   "id": "6571f467-39b7-49f0-bbd7-7a6c98ec679c"
  },
  {
   "cell_type": "code",
   "execution_count": null,
   "metadata": {
    "dotnet_interactive": {
     "language": "fsharp"
    }
   },
   "outputs": [],
   "source": [
    "type Shape =\n",
    "   | Circle of radius: double\n",
    "   | Rectangle of width: double * height: double"
   ],
   "id": "62c0feb3-7f5c-473f-aacb-69b489f15032"
  },
  {
   "cell_type": "markdown",
   "metadata": {},
   "source": [
    "Listing 3: Field names in cases may be ignored."
   ],
   "id": "391f4a75-e65c-4059-ad74-426f815bfb64"
  },
  {
   "cell_type": "code",
   "execution_count": null,
   "metadata": {
    "dotnet_interactive": {
     "language": "fsharp"
    }
   },
   "outputs": [],
   "source": [
    "let unitCircle = Circle(1.0)\n",
    "let square = Rectangle(1.0,1.0)"
   ],
   "id": "783617e7-0550-4b35-86bc-6d312db4b17f"
  },
  {
   "cell_type": "markdown",
   "metadata": {},
   "source": [
    "Listing 4: Field names may be mentioned when constructing a value"
   ],
   "id": "4dc8905c-0f84-477e-a129-8063cfa39196"
  },
  {
   "cell_type": "code",
   "execution_count": null,
   "metadata": {
    "dotnet_interactive": {
     "language": "fsharp"
    }
   },
   "outputs": [],
   "source": [
    "let anotherUnitCircle = Circle(radius = 1.0)\n",
    "let anotherSquare = Rectangle(width = 1.0, height = 1.0)\n",
    "let noSquare = Rectangle(height = 1.0, width = 2.0)\n",
    "    // -> Rectangle(2.0, 1.0) — note the order"
   ],
   "id": "252b7944-1281-43c6-ab17-7a53bab6655a"
  },
  {
   "cell_type": "code",
   "execution_count": null,
   "metadata": {
    "dotnet_interactive": {
     "language": "fsharp"
    }
   },
   "outputs": [],
   "source": [
    "let describe shape =\n",
    "    match shape with\n",
    "    | Circle(radius = r) ->\n",
    "        sprintf \"A circle with radius %f\" r\n",
    "    | Rectangle(height = h; width = w) ->\n",
    "        sprintf \"A rectangle of dimensions %.2f x %.2f\" w h\n",
    "describe noSquare"
   ],
   "id": "315518b9-13ba-49f1-bcf9-f2bb1696a02c"
  },
  {
   "cell_type": "markdown",
   "metadata": {},
   "source": [
    "Listing 5: A record for GPS-coordinates"
   ],
   "id": "59f90199-121a-44c8-a2eb-6c2dd488c7e1"
  },
  {
   "cell_type": "code",
   "execution_count": null,
   "metadata": {
    "dotnet_interactive": {
     "language": "fsharp"
    }
   },
   "outputs": [],
   "source": [
    "type GPSCoordinate =\n",
    "    { Latitude: double\n",
    "      Longitude: double }"
   ],
   "id": "e30fe9c0-a99c-452d-8725-6f8a92929987"
  },
  {
   "cell_type": "markdown",
   "metadata": {},
   "source": [
    "Listing 6: A line segment on a map"
   ],
   "id": "1d5d8800-e58f-4e42-9ed4-1acb173b75ff"
  },
  {
   "cell_type": "code",
   "execution_count": null,
   "metadata": {
    "dotnet_interactive": {
     "language": "fsharp"
    }
   },
   "outputs": [],
   "source": [
    "type LineSegment = { Start: GPSCoordinate; End: GPSCoordinate }"
   ],
   "id": "abcf9722-8c9c-45b3-9782-fefbb8c595de"
  },
  {
   "cell_type": "markdown",
   "metadata": {},
   "source": [
    "Listing 7: Type inference can help reduce code in record expressions."
   ],
   "id": "af60ddb6-1f43-452b-859f-a2c2ff134c75"
  },
  {
   "cell_type": "code",
   "execution_count": null,
   "metadata": {
    "dotnet_interactive": {
     "language": "fsharp"
    }
   },
   "outputs": [],
   "source": [
    "let denBosch = { Latitude = 51.7; Longitude = 5.3; }"
   ],
   "id": "71c98cf3-931e-4cf5-9a44-d1b62c732bb0"
  },
  {
   "cell_type": "markdown",
   "metadata": {},
   "source": [
    "Listing 8: We can resolve any ambiguity in record expressions by making\n",
    "the type explicit for one of the members."
   ],
   "id": "ae127609-e919-4077-8b15-4a07b11b5e9d"
  },
  {
   "cell_type": "code",
   "execution_count": null,
   "metadata": {
    "dotnet_interactive": {
     "language": "fsharp"
    }
   },
   "outputs": [],
   "source": [
    "let denBosch = { GPSCoordinate.Latitude = 51.7; Longitude = 5.3; }"
   ],
   "id": "5502e292-646a-4879-9566-5dfdc9cd393d"
  },
  {
   "cell_type": "markdown",
   "metadata": {},
   "source": [
    "Listing 9: Creating a new record value from an original"
   ],
   "id": "ad7bc630-25f1-4e66-bd53-c71ca9542e0d"
  },
  {
   "cell_type": "code",
   "execution_count": null,
   "metadata": {
    "dotnet_interactive": {
     "language": "fsharp"
    }
   },
   "outputs": [],
   "source": [
    "let kalkar = { denBosch with Longitude = 6.3 }"
   ],
   "id": "50c87f5d-a3d2-48e3-a337-a9ad6bcf9f5a"
  },
  {
   "cell_type": "markdown",
   "metadata": {},
   "source": [
    "Listing 10: The function `isHolidayDestination` pattern matches against\n",
    "a record to see if the GPS-coordinates correspond to Null Island"
   ],
   "id": "b0bf87a2-4cb2-4645-8337-c82432959117"
  },
  {
   "cell_type": "code",
   "execution_count": null,
   "metadata": {
    "dotnet_interactive": {
     "language": "fsharp"
    }
   },
   "outputs": [],
   "source": [
    "let isHolidayDestination coord =\n",
    "    match coord with\n",
    "    | { Latitude = 0.0; Longitude = 0.0; } -> true\n",
    "    | _ -> false\n",
    "\n",
    "\n",
    "isHolidayDestination denBosch\n",
    "    // -> false\n",
    "isHolidayDestination { Latitude = 0.0; Longitude = 0.0 }\n",
    "    // -> true"
   ],
   "id": "7a20ba70-512f-4bd9-81c5-ee0eeca9f8bc"
  },
  {
   "cell_type": "markdown",
   "metadata": {},
   "source": [
    "Listing 11: Destructing a record to obtain its values"
   ],
   "id": "b243ec8e-a7f4-4433-b946-ca47a5fa6c5f"
  },
  {
   "cell_type": "code",
   "execution_count": null,
   "metadata": {
    "dotnet_interactive": {
     "language": "fsharp"
    }
   },
   "outputs": [],
   "source": [
    "let getLatitude coord =\n",
    "    match coord with\n",
    "    | { Latitude = lat } -> lat\n",
    "\n",
    "let getLongitude coord =\n",
    "    match coord with\n",
    "    | { Longitude = lng } -> lng\n",
    "    \n",
    "getLatitude { Latitude = 13.37; Longitude = 42.42 }\n",
    "    // -> 13.37"
   ],
   "id": "effe8e26-a3ef-4fe5-bcaf-0a7d4be60ad6"
  },
  {
   "cell_type": "markdown",
   "metadata": {},
   "source": [
    "------------------------------------------------------------------------\n",
    "\n",
    "**Exercise 1** A university offers minors on\n",
    "\n",
    "1.  artificial intelligence,\n",
    "2.  software architecture,\n",
    "3.  and data science.\n",
    "\n",
    "Create a discriminated union `MinorTopic` to represent minor topics."
   ],
   "id": "8998e6df-8df0-4683-a6dc-f38bb853bfaa"
  },
  {
   "cell_type": "code",
   "execution_count": null,
   "metadata": {
    "dotnet_interactive": {
     "language": "fsharp"
    }
   },
   "outputs": [],
   "source": [
    "// your code here"
   ],
   "id": "c1959324-c898-4ff7-97bc-0177175161e6"
  },
  {
   "cell_type": "markdown",
   "metadata": {},
   "source": [
    "------------------------------------------------------------------------\n",
    "\n",
    "------------------------------------------------------------------------\n",
    "\n",
    "**Exercise 2** The courses taught in these minors have the following\n",
    "information\n",
    "\n",
    "1.  course code, e.g., `ML101`\n",
    "2.  course name, e.g., “Introduction to Machine Learning”\n",
    "3.  the minor topic it is associated with\n",
    "4.  the calendar year in which the course was introduced\n",
    "5.  the calendar year in which the course was cancelled. **Note** that a\n",
    "    course may not have been cancelled yet.\n",
    "\n",
    "Write a record type to represent courses."
   ],
   "id": "bd1fac5d-044e-4a98-b8ad-fa7db24fb31c"
  },
  {
   "cell_type": "code",
   "execution_count": null,
   "metadata": {
    "dotnet_interactive": {
     "language": "fsharp"
    }
   },
   "outputs": [],
   "source": [
    "// your code here"
   ],
   "id": "c5f4405d-6010-49cf-a9a0-044f85d2ce5f"
  },
  {
   "cell_type": "markdown",
   "metadata": {},
   "source": [
    "------------------------------------------------------------------------\n",
    "\n",
    "------------------------------------------------------------------------\n",
    "\n",
    "**Exercise 3** Write a function `yearsRun` that determines for how many\n",
    "years a course has run.\n",
    "\n",
    "`yearsRun` function has the following type\n",
    "\n",
    "``` fsharp\n",
    "val yearsRun: currentYear: int -> course: Course -> int\n",
    "```\n",
    "\n",
    "If a course has not been cancelled, assume it was last run in\n",
    "`currentYear`.\n",
    "\n",
    "You can test your code with the two courses defined in lst. 12. The\n",
    "output should be that of lst. 13\n",
    "\n",
    "Listing 12: Two courses to test yearsRun"
   ],
   "id": "4557de6b-22d2-47c5-9087-4e2d52ae204e"
  },
  {
   "cell_type": "code",
   "execution_count": null,
   "metadata": {
    "dotnet_interactive": {
     "language": "fsharp"
    }
   },
   "outputs": [],
   "source": [
    "let ml101 =\n",
    "    { Course.Code = \"ML101\"\n",
    "      Name = \"Introduction to Machine Learning\"\n",
    "      Minor = ArtificialIntelligence\n",
    "      YearIntroduced = 2018\n",
    "      YearCancelled = None }\n",
    "\n",
    "let treesRec = {\n",
    "    Course.Code = \"MP201\"\n",
    "    Name = \"How to Recognise Different Types of Trees From Quite a Long Way Away\"\n",
    "    Minor = DataScience\n",
    "    YearIntroduced = 1969\n",
    "    YearCancelled = Some 1974\n",
    "}\n",
    "\n",
    "printfn \"%d\" (yearsRun 2022 ml101)\n",
    "printfn \"%d\" (yearsRun 2022 treesRec)\n"
   ],
   "id": "685aad57-8707-471e-be01-ccfb2e46dbcf"
  },
  {
   "cell_type": "markdown",
   "metadata": {},
   "source": [
    "Listing 13: Expected output for yearsRun\n",
    "\n",
    "``` fsharp\n",
    "5\n",
    "6\n",
    "```"
   ],
   "id": "f651c8b9-528b-4770-a1a0-932795d28414"
  },
  {
   "cell_type": "code",
   "execution_count": null,
   "metadata": {
    "dotnet_interactive": {
     "language": "fsharp"
    }
   },
   "outputs": [],
   "source": [
    "// your code here"
   ],
   "id": "5216457d-306f-463c-a2e2-fc77bd9b752f"
  },
  {
   "cell_type": "markdown",
   "metadata": {},
   "source": [
    "------------------------------------------------------------------------"
   ],
   "id": "8a0edf1c-e87e-4ff9-9038-cdac816fe909"
  }
 ],
 "nbformat": 4,
 "nbformat_minor": 5,
 "metadata": {}
}
