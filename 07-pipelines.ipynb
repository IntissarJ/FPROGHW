{
 "cells": [
  {
   "attachments": {},
   "cell_type": "markdown",
   "id": "02acb883-a091-48f9-bc0d-7baf049110e4",
   "metadata": {},
   "source": [
    "Listing 1: Processing an array in C#"
   ]
  },
  {
   "cell_type": "code",
   "execution_count": 29,
   "id": "100b6313-c135-42e2-8131-9e7e5558e5d6",
   "metadata": {
    "dotnet_interactive": {
     "language": "csharp"
    },
    "vscode": {
     "languageId": "polyglot-notebook"
    }
   },
   "outputs": [
    {
     "ename": "Error",
     "evalue": "(6,12): error CS1061: 'List<int>' does not contain a definition for 'add' and no accessible extension method 'add' accepting a first argument of type 'List<int>' could be found (are you missing a using directive or an assembly reference?)",
     "output_type": "error",
     "traceback": [
      "(6,12): error CS1061: 'List<int>' does not contain a definition for 'add' and no accessible extension method 'add' accepting a first argument of type 'List<int>' could be found (are you missing a using directive or an assembly reference?)"
     ]
    }
   ],
   "source": [
    "using System.Collections.Generic;\n",
    "var input = new int[]{1,2,3,4,5};\n",
    "var result = new List<int>();\n",
    "foreach(var i in input)\n",
    "{\n",
    "    result.add(i * i);\n",
    "}"
   ]
  },
  {
   "attachments": {},
   "cell_type": "markdown",
   "id": "22795fd3-5dc4-4b33-8e88-9b37e7aa6e41",
   "metadata": {},
   "source": [
    "Listing 2: Processing an array (differently) in C#"
   ]
  },
  {
   "cell_type": "code",
   "execution_count": 30,
   "id": "418323f1-cbe2-4591-a977-7843cd68ffba",
   "metadata": {
    "dotnet_interactive": {
     "language": "csharp"
    },
    "vscode": {
     "languageId": "polyglot-notebook"
    }
   },
   "outputs": [
    {
     "ename": "Error",
     "evalue": "(7,16): error CS1061: 'List<int>' does not contain a definition for 'add' and no accessible extension method 'add' accepting a first argument of type 'List<int>' could be found (are you missing a using directive or an assembly reference?)",
     "output_type": "error",
     "traceback": [
      "(7,16): error CS1061: 'List<int>' does not contain a definition for 'add' and no accessible extension method 'add' accepting a first argument of type 'List<int>' could be found (are you missing a using directive or an assembly reference?)"
     ]
    }
   ],
   "source": [
    "using System.Collections.Generic;\n",
    "var input = new int[]{1,2,3,4,5};\n",
    "var result = new List<int>();\n",
    "foreach(var i in input)\n",
    "{\n",
    "    if (i % 2 == 0) \n",
    "        result.add(i);\n",
    "}"
   ]
  },
  {
   "attachments": {},
   "cell_type": "markdown",
   "id": "fd07b8e6-b701-4094-900a-da34ffa3361b",
   "metadata": {},
   "source": [
    "Listing 3: Processing a list in F#"
   ]
  },
  {
   "cell_type": "code",
   "execution_count": 31,
   "id": "4d9e60c5-dbbd-4b58-ad41-24c6d6a7f947",
   "metadata": {
    "dotnet_interactive": {
     "language": "fsharp"
    },
    "vscode": {
     "languageId": "polyglot-notebook"
    }
   },
   "outputs": [
    {
     "data": {
      "text/html": [
       "<div class=\"dni-plaintext\"><pre>[ 1, 4, 9, 16, 25 ]</pre></div><style>\r\n",
       ".dni-code-hint {\r\n",
       "    font-style: italic;\r\n",
       "    overflow: hidden;\r\n",
       "    white-space: nowrap;\r\n",
       "}\r\n",
       ".dni-treeview {\r\n",
       "    white-space: nowrap;\r\n",
       "}\r\n",
       ".dni-treeview td {\r\n",
       "    vertical-align: top;\r\n",
       "    text-align: start;\r\n",
       "}\r\n",
       "details.dni-treeview {\r\n",
       "    padding-left: 1em;\r\n",
       "}\r\n",
       "table td {\r\n",
       "    text-align: start;\r\n",
       "}\r\n",
       "table tr { \r\n",
       "    vertical-align: top; \r\n",
       "    margin: 0em 0px;\r\n",
       "}\r\n",
       "table tr td pre \r\n",
       "{ \r\n",
       "    vertical-align: top !important; \r\n",
       "    margin: 0em 0px !important;\r\n",
       "} \r\n",
       "table th {\r\n",
       "    text-align: start;\r\n",
       "}\r\n",
       "</style>"
      ]
     },
     "metadata": {},
     "output_type": "display_data"
    }
   ],
   "source": [
    "let xs = [1;2;3;4;5]\n",
    "List.map (fun x -> x * x) xs"
   ]
  },
  {
   "attachments": {},
   "cell_type": "markdown",
   "id": "4f9cc9db-f7ff-4be6-9d2f-bcfe2eb004f4",
   "metadata": {},
   "source": [
    "Listing 4: Processing a list (differently) in F#"
   ]
  },
  {
   "cell_type": "code",
   "execution_count": 32,
   "id": "af45c8c3-1a0b-4460-956e-35e9d86308bc",
   "metadata": {
    "dotnet_interactive": {
     "language": "fsharp"
    },
    "vscode": {
     "languageId": "polyglot-notebook"
    }
   },
   "outputs": [
    {
     "data": {
      "text/html": [
       "<div class=\"dni-plaintext\"><pre>[ 2, 4 ]</pre></div><style>\r\n",
       ".dni-code-hint {\r\n",
       "    font-style: italic;\r\n",
       "    overflow: hidden;\r\n",
       "    white-space: nowrap;\r\n",
       "}\r\n",
       ".dni-treeview {\r\n",
       "    white-space: nowrap;\r\n",
       "}\r\n",
       ".dni-treeview td {\r\n",
       "    vertical-align: top;\r\n",
       "    text-align: start;\r\n",
       "}\r\n",
       "details.dni-treeview {\r\n",
       "    padding-left: 1em;\r\n",
       "}\r\n",
       "table td {\r\n",
       "    text-align: start;\r\n",
       "}\r\n",
       "table tr { \r\n",
       "    vertical-align: top; \r\n",
       "    margin: 0em 0px;\r\n",
       "}\r\n",
       "table tr td pre \r\n",
       "{ \r\n",
       "    vertical-align: top !important; \r\n",
       "    margin: 0em 0px !important;\r\n",
       "} \r\n",
       "table th {\r\n",
       "    text-align: start;\r\n",
       "}\r\n",
       "</style>"
      ]
     },
     "metadata": {},
     "output_type": "display_data"
    }
   ],
   "source": [
    "let xs = [1;2;3;4;5]\n",
    "List.filter (fun x -> x % 2 = 0) xs"
   ]
  },
  {
   "attachments": {},
   "cell_type": "markdown",
   "id": "962401c1-c6f1-49ec-ba84-bcc524d3060a",
   "metadata": {},
   "source": [
    "Listing 5: The function `map` from module `List` is used to map a list\n",
    "of integers to a map of strings"
   ]
  },
  {
   "cell_type": "code",
   "execution_count": 33,
   "id": "1757000f-1ac4-4954-b175-f3d614ad2581",
   "metadata": {
    "dotnet_interactive": {
     "language": "fsharp"
    },
    "vscode": {
     "languageId": "polyglot-notebook"
    }
   },
   "outputs": [
    {
     "data": {
      "text/html": [
       "<div class=\"dni-plaintext\"><pre>[ 1, 2, 3 ]</pre></div><style>\r\n",
       ".dni-code-hint {\r\n",
       "    font-style: italic;\r\n",
       "    overflow: hidden;\r\n",
       "    white-space: nowrap;\r\n",
       "}\r\n",
       ".dni-treeview {\r\n",
       "    white-space: nowrap;\r\n",
       "}\r\n",
       ".dni-treeview td {\r\n",
       "    vertical-align: top;\r\n",
       "    text-align: start;\r\n",
       "}\r\n",
       "details.dni-treeview {\r\n",
       "    padding-left: 1em;\r\n",
       "}\r\n",
       "table td {\r\n",
       "    text-align: start;\r\n",
       "}\r\n",
       "table tr { \r\n",
       "    vertical-align: top; \r\n",
       "    margin: 0em 0px;\r\n",
       "}\r\n",
       "table tr td pre \r\n",
       "{ \r\n",
       "    vertical-align: top !important; \r\n",
       "    margin: 0em 0px !important;\r\n",
       "} \r\n",
       "table th {\r\n",
       "    text-align: start;\r\n",
       "}\r\n",
       "</style>"
      ]
     },
     "metadata": {},
     "output_type": "display_data"
    }
   ],
   "source": [
    "let makeString i =\n",
    "    // string as a function transforms\n",
    "    // its argument into a string\n",
    "    string i\n",
    "    \n",
    "List.map makeString [1; 2; 3] // -> [\"1\"; \"2\"; \"3\"]\n"
   ]
  },
  {
   "attachments": {},
   "cell_type": "markdown",
   "id": "7f7ba40a-8d95-4467-81f7-beed2042cb4f",
   "metadata": {},
   "source": [
    "Listing 6: The type of `add` is `int -> int -> int`"
   ]
  },
  {
   "cell_type": "code",
   "execution_count": 34,
   "id": "bcb8eac4-fbe6-44e7-9614-e1ecb8ffc9f3",
   "metadata": {
    "dotnet_interactive": {
     "language": "fsharp"
    },
    "vscode": {
     "languageId": "polyglot-notebook"
    }
   },
   "outputs": [],
   "source": [
    "let add a b = a + b"
   ]
  },
  {
   "attachments": {},
   "cell_type": "markdown",
   "id": "251e215a-e6e5-4c2e-a1c7-43d4e3655ba9",
   "metadata": {},
   "source": [
    "Listing 7: By partially applying `add`, we obtain a new function in\n",
    "which one parameter is fixed"
   ]
  },
  {
   "cell_type": "code",
   "execution_count": 35,
   "id": "172a6507-4bfe-4919-8361-c7e98c5b96d2",
   "metadata": {
    "dotnet_interactive": {
     "language": "fsharp"
    },
    "vscode": {
     "languageId": "polyglot-notebook"
    }
   },
   "outputs": [],
   "source": [
    "let add2 = add 2\n",
    "    // This fixes arugment a to 2\n",
    "    // add2 behaves like let add 2 b = 2 + b"
   ]
  },
  {
   "attachments": {},
   "cell_type": "markdown",
   "id": "6c2ea5a6-e987-40ac-a6ef-0a75e47fdb60",
   "metadata": {},
   "source": [
    "Listing 9: We can create specialised list transformations by partially\n",
    "applying `List.map`"
   ]
  },
  {
   "cell_type": "code",
   "execution_count": 36,
   "id": "056823bf-426e-4ba7-b2c3-030bb8eb42b8",
   "metadata": {
    "dotnet_interactive": {
     "language": "fsharp"
    },
    "vscode": {
     "languageId": "polyglot-notebook"
    }
   },
   "outputs": [],
   "source": [
    "let specialisedMap = List.map add2"
   ]
  },
  {
   "attachments": {},
   "cell_type": "markdown",
   "id": "1655e023-29fa-4c9c-a3a0-728d79d6fb5c",
   "metadata": {},
   "source": [
    "Listing 11: We can use `specialisedMap` to transform lists"
   ]
  },
  {
   "cell_type": "code",
   "execution_count": 37,
   "id": "40c3e09e-ae1a-4ff2-8e60-4d79c037c511",
   "metadata": {
    "dotnet_interactive": {
     "language": "fsharp"
    },
    "vscode": {
     "languageId": "polyglot-notebook"
    }
   },
   "outputs": [
    {
     "data": {
      "text/html": [
       "<div class=\"dni-plaintext\"><pre>[ 3, 4, 5 ]</pre></div><style>\r\n",
       ".dni-code-hint {\r\n",
       "    font-style: italic;\r\n",
       "    overflow: hidden;\r\n",
       "    white-space: nowrap;\r\n",
       "}\r\n",
       ".dni-treeview {\r\n",
       "    white-space: nowrap;\r\n",
       "}\r\n",
       ".dni-treeview td {\r\n",
       "    vertical-align: top;\r\n",
       "    text-align: start;\r\n",
       "}\r\n",
       "details.dni-treeview {\r\n",
       "    padding-left: 1em;\r\n",
       "}\r\n",
       "table td {\r\n",
       "    text-align: start;\r\n",
       "}\r\n",
       "table tr { \r\n",
       "    vertical-align: top; \r\n",
       "    margin: 0em 0px;\r\n",
       "}\r\n",
       "table tr td pre \r\n",
       "{ \r\n",
       "    vertical-align: top !important; \r\n",
       "    margin: 0em 0px !important;\r\n",
       "} \r\n",
       "table th {\r\n",
       "    text-align: start;\r\n",
       "}\r\n",
       "</style>"
      ]
     },
     "metadata": {},
     "output_type": "display_data"
    }
   ],
   "source": [
    "specialisedMap [1; 2; 3]\n",
    "  // -> [3; 4; 5]"
   ]
  },
  {
   "attachments": {},
   "cell_type": "markdown",
   "id": "2ee1e692-1eae-44c0-a73e-83f6ce46e30f",
   "metadata": {},
   "source": [
    "Listing 12: By specialising `List.map` with `String.length` we obtain a\n",
    "function that takes a list of strings and produces a list of ints that\n",
    "contains their lengths."
   ]
  },
  {
   "cell_type": "code",
   "execution_count": 38,
   "id": "d979af45-5b50-4b06-b1e2-9f58ec4af07c",
   "metadata": {
    "dotnet_interactive": {
     "language": "fsharp"
    },
    "vscode": {
     "languageId": "polyglot-notebook"
    }
   },
   "outputs": [
    {
     "data": {
      "text/html": [
       "<div class=\"dni-plaintext\"><pre>[ 6, 7, 7 ]</pre></div><style>\r\n",
       ".dni-code-hint {\r\n",
       "    font-style: italic;\r\n",
       "    overflow: hidden;\r\n",
       "    white-space: nowrap;\r\n",
       "}\r\n",
       ".dni-treeview {\r\n",
       "    white-space: nowrap;\r\n",
       "}\r\n",
       ".dni-treeview td {\r\n",
       "    vertical-align: top;\r\n",
       "    text-align: start;\r\n",
       "}\r\n",
       "details.dni-treeview {\r\n",
       "    padding-left: 1em;\r\n",
       "}\r\n",
       "table td {\r\n",
       "    text-align: start;\r\n",
       "}\r\n",
       "table tr { \r\n",
       "    vertical-align: top; \r\n",
       "    margin: 0em 0px;\r\n",
       "}\r\n",
       "table tr td pre \r\n",
       "{ \r\n",
       "    vertical-align: top !important; \r\n",
       "    margin: 0em 0px !important;\r\n",
       "} \r\n",
       "table th {\r\n",
       "    text-align: start;\r\n",
       "}\r\n",
       "</style>"
      ]
     },
     "metadata": {},
     "output_type": "display_data"
    }
   ],
   "source": [
    "let stringLengths = List.map String.length\n",
    "stringLengths [\"riffle\"; \"sniffle\"; \"snuffle\"]\n",
    "  // -> [6; 7; 7]."
   ]
  },
  {
   "attachments": {},
   "cell_type": "markdown",
   "id": "44587f18-aa54-4746-adde-8cc9353f2ec9",
   "metadata": {},
   "source": [
    "Listing 13: Creating a list of contacts"
   ]
  },
  {
   "cell_type": "code",
   "execution_count": 39,
   "id": "605333d7-b98a-488b-885a-fcb95a0a83e0",
   "metadata": {
    "dotnet_interactive": {
     "language": "fsharp"
    },
    "vscode": {
     "languageId": "polyglot-notebook"
    }
   },
   "outputs": [
    {
     "data": {
      "text/html": [
       "<table><thead><tr><th><i>index</i></th><th>value</th></tr></thead><tbody><tr><td>0</td><td><details class=\"dni-treeview\"><summary><span class=\"dni-code-hint\"><code>(Yuriy, False, Prodrive Technologies)</code></span></summary><div><table><thead><tr></tr></thead><tbody><tr><td>Item1</td><td>Yuriy</td></tr><tr><td>Item2</td><td><div class=\"dni-plaintext\"><pre>False</pre></div></td></tr><tr><td>Item3</td><td>Prodrive Technologies</td></tr></tbody></table></div></details></td></tr><tr><td>1</td><td><details class=\"dni-treeview\"><summary><span class=\"dni-code-hint\"><code>(Arthur, True, Prodrive Technologies)</code></span></summary><div><table><thead><tr></tr></thead><tbody><tr><td>Item1</td><td>Arthur</td></tr><tr><td>Item2</td><td><div class=\"dni-plaintext\"><pre>True</pre></div></td></tr><tr><td>Item3</td><td>Prodrive Technologies</td></tr></tbody></table></div></details></td></tr><tr><td>2</td><td><details class=\"dni-treeview\"><summary><span class=\"dni-code-hint\"><code>(Jeroen, True, Avans)</code></span></summary><div><table><thead><tr></tr></thead><tbody><tr><td>Item1</td><td>Jeroen</td></tr><tr><td>Item2</td><td><div class=\"dni-plaintext\"><pre>True</pre></div></td></tr><tr><td>Item3</td><td>Avans</td></tr></tbody></table></div></details></td></tr></tbody></table><style>\r\n",
       ".dni-code-hint {\r\n",
       "    font-style: italic;\r\n",
       "    overflow: hidden;\r\n",
       "    white-space: nowrap;\r\n",
       "}\r\n",
       ".dni-treeview {\r\n",
       "    white-space: nowrap;\r\n",
       "}\r\n",
       ".dni-treeview td {\r\n",
       "    vertical-align: top;\r\n",
       "    text-align: start;\r\n",
       "}\r\n",
       "details.dni-treeview {\r\n",
       "    padding-left: 1em;\r\n",
       "}\r\n",
       "table td {\r\n",
       "    text-align: start;\r\n",
       "}\r\n",
       "table tr { \r\n",
       "    vertical-align: top; \r\n",
       "    margin: 0em 0px;\r\n",
       "}\r\n",
       "table tr td pre \r\n",
       "{ \r\n",
       "    vertical-align: top !important; \r\n",
       "    margin: 0em 0px !important;\r\n",
       "} \r\n",
       "table th {\r\n",
       "    text-align: start;\r\n",
       "}\r\n",
       "</style>"
      ]
     },
     "metadata": {},
     "output_type": "display_data"
    }
   ],
   "source": [
    "// create a contact as a tuple of name, met in person and organisation\n",
    "let makeContact org met name = (name, met, org)\n",
    "// two specialised versions\n",
    "let makeProdriveContact = makeContact \"Prodrive Technologies\"\n",
    "let makeMetProdriveContact = makeProdriveContact true\n",
    "\n",
    "\n",
    "let jeroen = makeContact \"Avans\" true \"Jeroen\"\n",
    "let yuriy = makeProdriveContact false \"Yuriy\"\n",
    "let arthur = makeMetProdriveContact \"Arthur\"\n",
    "\n",
    "let contacts = [ yuriy; arthur; jeroen ]\n",
    "contacts"
   ]
  },
  {
   "attachments": {},
   "cell_type": "markdown",
   "id": "8c065bd9-6c92-4fec-adca-72fd8c3f0e2a",
   "metadata": {},
   "source": [
    "Listing 14: The function `extractName` obtains the name of a contact"
   ]
  },
  {
   "cell_type": "code",
   "execution_count": 40,
   "id": "89f52e8d-d1e6-4bb3-a037-adbfe1438365",
   "metadata": {
    "dotnet_interactive": {
     "language": "fsharp"
    },
    "vscode": {
     "languageId": "polyglot-notebook"
    }
   },
   "outputs": [],
   "source": [
    "let extractName c =\n",
    "    match c with\n",
    "    | (name, _, _) -> name"
   ]
  },
  {
   "attachments": {},
   "cell_type": "markdown",
   "id": "1b58a848-e4a1-4e87-82b3-2b4e2311bda3",
   "metadata": {},
   "source": [
    "Listing 15: By applying `List.map` to `extractName` to obtain a function\n",
    "that extracts the names from a list of contacts"
   ]
  },
  {
   "cell_type": "code",
   "execution_count": 41,
   "id": "1c583b9f-d103-4b24-b77a-6794ce8f2ca8",
   "metadata": {
    "dotnet_interactive": {
     "language": "fsharp"
    },
    "vscode": {
     "languageId": "polyglot-notebook"
    }
   },
   "outputs": [
    {
     "data": {
      "text/html": [
       "<div class=\"dni-plaintext\"><pre>[ Yuriy, Arthur, Jeroen ]</pre></div><style>\r\n",
       ".dni-code-hint {\r\n",
       "    font-style: italic;\r\n",
       "    overflow: hidden;\r\n",
       "    white-space: nowrap;\r\n",
       "}\r\n",
       ".dni-treeview {\r\n",
       "    white-space: nowrap;\r\n",
       "}\r\n",
       ".dni-treeview td {\r\n",
       "    vertical-align: top;\r\n",
       "    text-align: start;\r\n",
       "}\r\n",
       "details.dni-treeview {\r\n",
       "    padding-left: 1em;\r\n",
       "}\r\n",
       "table td {\r\n",
       "    text-align: start;\r\n",
       "}\r\n",
       "table tr { \r\n",
       "    vertical-align: top; \r\n",
       "    margin: 0em 0px;\r\n",
       "}\r\n",
       "table tr td pre \r\n",
       "{ \r\n",
       "    vertical-align: top !important; \r\n",
       "    margin: 0em 0px !important;\r\n",
       "} \r\n",
       "table th {\r\n",
       "    text-align: start;\r\n",
       "}\r\n",
       "</style>"
      ]
     },
     "metadata": {},
     "output_type": "display_data"
    }
   ],
   "source": [
    "let extractNames xs = List.map extractName xs\n",
    "extractNames contacts // -> [\"Yuriy\"; \"Arthur\"; \"Jeroen\"]"
   ]
  },
  {
   "attachments": {},
   "cell_type": "markdown",
   "id": "ca487981-b848-4e73-b6e5-79d33e6c26f2",
   "metadata": {},
   "source": [
    "Listing 17: Using filter to select even numbers"
   ]
  },
  {
   "cell_type": "code",
   "execution_count": 42,
   "id": "7397c5c5-c520-4251-beef-0f55a6e5e7d7",
   "metadata": {
    "dotnet_interactive": {
     "language": "fsharp"
    },
    "vscode": {
     "languageId": "polyglot-notebook"
    }
   },
   "outputs": [
    {
     "data": {
      "text/html": [
       "<div class=\"dni-plaintext\"><pre>[ 2, 4, 6, 8, 10 ]</pre></div><style>\r\n",
       ".dni-code-hint {\r\n",
       "    font-style: italic;\r\n",
       "    overflow: hidden;\r\n",
       "    white-space: nowrap;\r\n",
       "}\r\n",
       ".dni-treeview {\r\n",
       "    white-space: nowrap;\r\n",
       "}\r\n",
       ".dni-treeview td {\r\n",
       "    vertical-align: top;\r\n",
       "    text-align: start;\r\n",
       "}\r\n",
       "details.dni-treeview {\r\n",
       "    padding-left: 1em;\r\n",
       "}\r\n",
       "table td {\r\n",
       "    text-align: start;\r\n",
       "}\r\n",
       "table tr { \r\n",
       "    vertical-align: top; \r\n",
       "    margin: 0em 0px;\r\n",
       "}\r\n",
       "table tr td pre \r\n",
       "{ \r\n",
       "    vertical-align: top !important; \r\n",
       "    margin: 0em 0px !important;\r\n",
       "} \r\n",
       "table th {\r\n",
       "    text-align: start;\r\n",
       "}\r\n",
       "</style>"
      ]
     },
     "metadata": {},
     "output_type": "display_data"
    }
   ],
   "source": [
    "List.filter (fun x -> x % 2 = 0) [1..10];\n",
    "    // -> [2; 4; 6; 8; 10]"
   ]
  },
  {
   "attachments": {},
   "cell_type": "markdown",
   "id": "c2c4b5b0-65c6-43f2-acdb-81498d389b38",
   "metadata": {},
   "source": [
    "Listing 18: Select all Prodrive employees"
   ]
  },
  {
   "cell_type": "code",
   "execution_count": 43,
   "id": "198784be-98e1-48a4-a478-ec11379a7803",
   "metadata": {
    "dotnet_interactive": {
     "language": "fsharp"
    },
    "vscode": {
     "languageId": "polyglot-notebook"
    }
   },
   "outputs": [
    {
     "data": {
      "text/html": [
       "<table><thead><tr><th><i>index</i></th><th>value</th></tr></thead><tbody><tr><td>0</td><td><details class=\"dni-treeview\"><summary><span class=\"dni-code-hint\"><code>(Yuriy, False, Prodrive Technologies)</code></span></summary><div><table><thead><tr></tr></thead><tbody><tr><td>Item1</td><td>Yuriy</td></tr><tr><td>Item2</td><td><div class=\"dni-plaintext\"><pre>False</pre></div></td></tr><tr><td>Item3</td><td>Prodrive Technologies</td></tr></tbody></table></div></details></td></tr><tr><td>1</td><td><details class=\"dni-treeview\"><summary><span class=\"dni-code-hint\"><code>(Arthur, True, Prodrive Technologies)</code></span></summary><div><table><thead><tr></tr></thead><tbody><tr><td>Item1</td><td>Arthur</td></tr><tr><td>Item2</td><td><div class=\"dni-plaintext\"><pre>True</pre></div></td></tr><tr><td>Item3</td><td>Prodrive Technologies</td></tr></tbody></table></div></details></td></tr></tbody></table><style>\r\n",
       ".dni-code-hint {\r\n",
       "    font-style: italic;\r\n",
       "    overflow: hidden;\r\n",
       "    white-space: nowrap;\r\n",
       "}\r\n",
       ".dni-treeview {\r\n",
       "    white-space: nowrap;\r\n",
       "}\r\n",
       ".dni-treeview td {\r\n",
       "    vertical-align: top;\r\n",
       "    text-align: start;\r\n",
       "}\r\n",
       "details.dni-treeview {\r\n",
       "    padding-left: 1em;\r\n",
       "}\r\n",
       "table td {\r\n",
       "    text-align: start;\r\n",
       "}\r\n",
       "table tr { \r\n",
       "    vertical-align: top; \r\n",
       "    margin: 0em 0px;\r\n",
       "}\r\n",
       "table tr td pre \r\n",
       "{ \r\n",
       "    vertical-align: top !important; \r\n",
       "    margin: 0em 0px !important;\r\n",
       "} \r\n",
       "table th {\r\n",
       "    text-align: start;\r\n",
       "}\r\n",
       "</style>"
      ]
     },
     "metadata": {},
     "output_type": "display_data"
    }
   ],
   "source": [
    "let isProdriveEmployee c =\n",
    "    match c with\n",
    "    | (_, _, \"Prodrive Technologies\") -> true\n",
    "    | _ -> false\n",
    "\n",
    "List.filter isProdriveEmployee contacts"
   ]
  },
  {
   "attachments": {},
   "cell_type": "markdown",
   "id": "07968662-7710-4f39-8f19-cdec81217a8c",
   "metadata": {},
   "source": [
    "Listing 19: `filterProdrive`"
   ]
  },
  {
   "cell_type": "code",
   "execution_count": 44,
   "id": "2d53886e-e1c2-40b2-950d-67478f7f33c8",
   "metadata": {
    "dotnet_interactive": {
     "language": "fsharp"
    },
    "vscode": {
     "languageId": "polyglot-notebook"
    }
   },
   "outputs": [],
   "source": [
    "let filterProdrive xs = List.filter isProdriveEmployee xs"
   ]
  },
  {
   "attachments": {},
   "cell_type": "markdown",
   "id": "66a2915c-c513-43f4-b667-e0f8b63fc02b",
   "metadata": {},
   "source": [
    "Listing 20: Composing two functions using the `>>`-operator"
   ]
  },
  {
   "cell_type": "code",
   "execution_count": 45,
   "id": "b987e853-ba61-4209-a506-01376236cb1e",
   "metadata": {
    "dotnet_interactive": {
     "language": "fsharp"
    },
    "vscode": {
     "languageId": "polyglot-notebook"
    }
   },
   "outputs": [],
   "source": [
    "let prodriveNames: (string * bool * string) list -> string list = filterProdrive >> extractNames"
   ]
  },
  {
   "attachments": {},
   "cell_type": "markdown",
   "id": "1c74e5f9-fc3d-4c3c-bedf-9697ee8d7f4d",
   "metadata": {},
   "source": [
    "Listing 21: Using our composite function"
   ]
  },
  {
   "cell_type": "code",
   "execution_count": 46,
   "id": "b2396986-56ba-40a2-90ff-b8486a38579b",
   "metadata": {
    "dotnet_interactive": {
     "language": "fsharp"
    },
    "vscode": {
     "languageId": "polyglot-notebook"
    }
   },
   "outputs": [
    {
     "data": {
      "text/html": [
       "<div class=\"dni-plaintext\"><pre>[ Yuriy, Arthur ]</pre></div><style>\r\n",
       ".dni-code-hint {\r\n",
       "    font-style: italic;\r\n",
       "    overflow: hidden;\r\n",
       "    white-space: nowrap;\r\n",
       "}\r\n",
       ".dni-treeview {\r\n",
       "    white-space: nowrap;\r\n",
       "}\r\n",
       ".dni-treeview td {\r\n",
       "    vertical-align: top;\r\n",
       "    text-align: start;\r\n",
       "}\r\n",
       "details.dni-treeview {\r\n",
       "    padding-left: 1em;\r\n",
       "}\r\n",
       "table td {\r\n",
       "    text-align: start;\r\n",
       "}\r\n",
       "table tr { \r\n",
       "    vertical-align: top; \r\n",
       "    margin: 0em 0px;\r\n",
       "}\r\n",
       "table tr td pre \r\n",
       "{ \r\n",
       "    vertical-align: top !important; \r\n",
       "    margin: 0em 0px !important;\r\n",
       "} \r\n",
       "table th {\r\n",
       "    text-align: start;\r\n",
       "}\r\n",
       "</style>"
      ]
     },
     "metadata": {},
     "output_type": "display_data"
    }
   ],
   "source": [
    "prodriveNames contacts // -> [\"Yuriy\"; \"Arthur\"]"
   ]
  },
  {
   "attachments": {},
   "cell_type": "markdown",
   "id": "68746042-2031-4e82-b163-654c22893a33",
   "metadata": {},
   "source": [
    "Listing 22: Using `fold` to find the sum of a list"
   ]
  },
  {
   "cell_type": "code",
   "execution_count": 84,
   "id": "0572bb54-3d6b-4493-8253-13dae4a315be",
   "metadata": {
    "dotnet_interactive": {
     "language": "fsharp"
    },
    "vscode": {
     "languageId": "polyglot-notebook"
    }
   },
   "outputs": [
    {
     "data": {
      "text/html": [
       "<div class=\"dni-plaintext\"><pre>55</pre></div><style>\r\n",
       ".dni-code-hint {\r\n",
       "    font-style: italic;\r\n",
       "    overflow: hidden;\r\n",
       "    white-space: nowrap;\r\n",
       "}\r\n",
       ".dni-treeview {\r\n",
       "    white-space: nowrap;\r\n",
       "}\r\n",
       ".dni-treeview td {\r\n",
       "    vertical-align: top;\r\n",
       "    text-align: start;\r\n",
       "}\r\n",
       "details.dni-treeview {\r\n",
       "    padding-left: 1em;\r\n",
       "}\r\n",
       "table td {\r\n",
       "    text-align: start;\r\n",
       "}\r\n",
       "table tr { \r\n",
       "    vertical-align: top; \r\n",
       "    margin: 0em 0px;\r\n",
       "}\r\n",
       "table tr td pre \r\n",
       "{ \r\n",
       "    vertical-align: top !important; \r\n",
       "    margin: 0em 0px !important;\r\n",
       "} \r\n",
       "table th {\r\n",
       "    text-align: start;\r\n",
       "}\r\n",
       "</style>"
      ]
     },
     "metadata": {},
     "output_type": "display_data"
    }
   ],
   "source": [
    "List.fold (fun totalSoFar item -> totalSoFar + item) 0 [1..10]\n",
    "    // -> 55"
   ]
  },
  {
   "attachments": {},
   "cell_type": "markdown",
   "id": "f245b774-d824-4913-8880-335c537945d7",
   "metadata": {},
   "source": [
    "Listing 23: The type of the state and the elements in a fold can be\n",
    "different."
   ]
  },
  {
   "cell_type": "code",
   "execution_count": 78,
   "id": "eb14bf1e-e857-4b3b-b8f9-e3fa34977048",
   "metadata": {
    "dotnet_interactive": {
     "language": "fsharp"
    },
    "vscode": {
     "languageId": "polyglot-notebook"
    }
   },
   "outputs": [
    {
     "data": {
      "text/plain": [
       "10... 9... 8... 7... 6... 5... 4... 3... 2... 1... "
      ]
     },
     "metadata": {},
     "output_type": "display_data"
    }
   ],
   "source": [
    "let appendAsString s v =\n",
    "    string v + \"... \" + s\n",
    "    \n",
    "List.fold appendAsString \"\" [1..10]\n",
    "    // -> \"10... 9... 8... (etc.)\""
   ]
  },
  {
   "attachments": {},
   "cell_type": "markdown",
   "id": "e59f2755-343e-47df-bd2c-f60d9008c9af",
   "metadata": {},
   "source": [
    "Listing 25: Retrieving an element from our contacts list"
   ]
  },
  {
   "cell_type": "code",
   "execution_count": 92,
   "id": "05e4b9f4-d99c-4853-b7c7-7f073889fc01",
   "metadata": {
    "dotnet_interactive": {
     "language": "fsharp"
    },
    "vscode": {
     "languageId": "polyglot-notebook"
    }
   },
   "outputs": [
    {
     "name": "stdout",
     "output_type": "stream",
     "text": [
      "Enter contact index: Found contact: Arthur\n"
     ]
    }
   ],
   "source": [
    "open System \n",
    "open Microsoft.DotNet.Interactive\n",
    "\n",
    "let tryAskInt () =\n",
    "    //let s = Console.ReadLine()\n",
    "    let s = Kernel.GetInputAsync(\"\")\n",
    "            |> Async.AwaitTask\n",
    "            |> Async.RunSynchronously\n",
    "\n",
    "    // TryParse is a .NET-style method\n",
    "    match System.Int32.TryParse s with \n",
    "    | true, v -> Some v\n",
    "    | _ -> None\n",
    "\n",
    "let askContact () =\n",
    "    printf \"Enter contact index: \"\n",
    "    match tryAskInt () with\n",
    "    | None -> printfn \"Please enter a valid integer\"\n",
    "    | Some index ->\n",
    "        match List.tryItem index contacts with\n",
    "        | None ->\n",
    "            printfn \"Invalid index\"\n",
    "        | Some contact ->\n",
    "            printfn \"Found contact: %s\" (extractName contact)\n",
    "\n",
    "askContact () "
   ]
  },
  {
   "attachments": {},
   "cell_type": "markdown",
   "id": "f852ced5-35a3-474a-ac5d-7f88fe99938d",
   "metadata": {},
   "source": [
    "Listing 26: The composition operator is used to chain several operations"
   ]
  },
  {
   "cell_type": "code",
   "execution_count": 94,
   "id": "1e35c269-042b-46fb-ac41-9e22c8890a5d",
   "metadata": {
    "dotnet_interactive": {
     "language": "fsharp"
    },
    "vscode": {
     "languageId": "polyglot-notebook"
    }
   },
   "outputs": [
    {
     "data": {
      "text/html": [
       "<div class=\"dni-plaintext\"><pre>24</pre></div><style>\r\n",
       ".dni-code-hint {\r\n",
       "    font-style: italic;\r\n",
       "    overflow: hidden;\r\n",
       "    white-space: nowrap;\r\n",
       "}\r\n",
       ".dni-treeview {\r\n",
       "    white-space: nowrap;\r\n",
       "}\r\n",
       ".dni-treeview td {\r\n",
       "    vertical-align: top;\r\n",
       "    text-align: start;\r\n",
       "}\r\n",
       "details.dni-treeview {\r\n",
       "    padding-left: 1em;\r\n",
       "}\r\n",
       "table td {\r\n",
       "    text-align: start;\r\n",
       "}\r\n",
       "table tr { \r\n",
       "    vertical-align: top; \r\n",
       "    margin: 0em 0px;\r\n",
       "}\r\n",
       "table tr td pre \r\n",
       "{ \r\n",
       "    vertical-align: top !important; \r\n",
       "    margin: 0em 0px !important;\r\n",
       "} \r\n",
       "table th {\r\n",
       "    text-align: start;\r\n",
       "}\r\n",
       "</style>"
      ]
     },
     "metadata": {},
     "output_type": "display_data"
    }
   ],
   "source": [
    "(List.map String.length >> List.filter (fun l -> l > 3) >> List.sum) [\"you\"; \"ballyhoo\"; \"rosolio\"; \"apparatus\"]\n",
    "    // -> 24"
   ]
  },
  {
   "attachments": {},
   "cell_type": "markdown",
   "id": "bb06a0f5-3ae4-4e36-9d22-eea639012375",
   "metadata": {},
   "source": [
    "Listing 27: The pipe operator provides an alternative mechanism for\n",
    "chaining operations that often results in more readable and maintanable\n",
    "code."
   ]
  },
  {
   "cell_type": "code",
   "execution_count": 98,
   "id": "9fbfbc06-1124-4b60-a412-2c59b2ab3aab",
   "metadata": {
    "dotnet_interactive": {
     "language": "fsharp"
    },
    "vscode": {
     "languageId": "polyglot-notebook"
    }
   },
   "outputs": [
    {
     "data": {
      "text/html": [
       "<div class=\"dni-plaintext\"><pre>24</pre></div><style>\r\n",
       ".dni-code-hint {\r\n",
       "    font-style: italic;\r\n",
       "    overflow: hidden;\r\n",
       "    white-space: nowrap;\r\n",
       "}\r\n",
       ".dni-treeview {\r\n",
       "    white-space: nowrap;\r\n",
       "}\r\n",
       ".dni-treeview td {\r\n",
       "    vertical-align: top;\r\n",
       "    text-align: start;\r\n",
       "}\r\n",
       "details.dni-treeview {\r\n",
       "    padding-left: 1em;\r\n",
       "}\r\n",
       "table td {\r\n",
       "    text-align: start;\r\n",
       "}\r\n",
       "table tr { \r\n",
       "    vertical-align: top; \r\n",
       "    margin: 0em 0px;\r\n",
       "}\r\n",
       "table tr td pre \r\n",
       "{ \r\n",
       "    vertical-align: top !important; \r\n",
       "    margin: 0em 0px !important;\r\n",
       "} \r\n",
       "table th {\r\n",
       "    text-align: start;\r\n",
       "}\r\n",
       "</style>"
      ]
     },
     "metadata": {},
     "output_type": "display_data"
    }
   ],
   "source": [
    "[\"you\"; \"ballyhoo\"; \"rosolio\"; \"apparatus\"]\n",
    "|> List.map String.length\n",
    "|> List.filter (fun l -> l > 3)\n",
    "|> List.sum\n",
    "    // -> 24"
   ]
  },
  {
   "attachments": {},
   "cell_type": "markdown",
   "id": "26846010-4631-4c8c-9338-260deb239256",
   "metadata": {},
   "source": [
    "Listing 29: Two different ways of calling `List.tryHead`"
   ]
  },
  {
   "cell_type": "code",
   "execution_count": 102,
   "id": "3f11ba0d-19b3-43f0-975b-8fa7ff5dcca3",
   "metadata": {
    "dotnet_interactive": {
     "language": "fsharp"
    },
    "vscode": {
     "languageId": "polyglot-notebook"
    }
   },
   "outputs": [
    {
     "data": {
      "text/html": [
       "<details open=\"open\" class=\"dni-treeview\"><summary><span class=\"dni-code-hint\"><code>Some((Yuriy, False, Prodrive Technologies))</code></span></summary><div><table><thead><tr></tr></thead><tbody><tr><td>Value</td><td><details class=\"dni-treeview\"><summary><span class=\"dni-code-hint\"><code>(Yuriy, False, Prodrive Technologies)</code></span></summary><div><table><thead><tr></tr></thead><tbody><tr><td>Item1</td><td>Yuriy</td></tr><tr><td>Item2</td><td><div class=\"dni-plaintext\"><pre>False</pre></div></td></tr><tr><td>Item3</td><td>Prodrive Technologies</td></tr></tbody></table></div></details></td></tr></tbody></table></div></details><style>\r\n",
       ".dni-code-hint {\r\n",
       "    font-style: italic;\r\n",
       "    overflow: hidden;\r\n",
       "    white-space: nowrap;\r\n",
       "}\r\n",
       ".dni-treeview {\r\n",
       "    white-space: nowrap;\r\n",
       "}\r\n",
       ".dni-treeview td {\r\n",
       "    vertical-align: top;\r\n",
       "    text-align: start;\r\n",
       "}\r\n",
       "details.dni-treeview {\r\n",
       "    padding-left: 1em;\r\n",
       "}\r\n",
       "table td {\r\n",
       "    text-align: start;\r\n",
       "}\r\n",
       "table tr { \r\n",
       "    vertical-align: top; \r\n",
       "    margin: 0em 0px;\r\n",
       "}\r\n",
       "table tr td pre \r\n",
       "{ \r\n",
       "    vertical-align: top !important; \r\n",
       "    margin: 0em 0px !important;\r\n",
       "} \r\n",
       "table th {\r\n",
       "    text-align: start;\r\n",
       "}\r\n",
       "</style>"
      ]
     },
     "metadata": {},
     "output_type": "display_data"
    }
   ],
   "source": [
    "List.tryHead contacts\n",
    "\n",
    "contacts |> List.tryHead"
   ]
  },
  {
   "attachments": {},
   "cell_type": "markdown",
   "id": "79ac0e0e-05c3-4cae-b9b6-f1347deb210f",
   "metadata": {},
   "source": [
    "Listing 30: Using the pipe operator with a partially applied function"
   ]
  },
  {
   "cell_type": "code",
   "execution_count": 104,
   "id": "da0eb840-99a0-4079-88d8-0f3fab2085c5",
   "metadata": {
    "dotnet_interactive": {
     "language": "fsharp"
    },
    "vscode": {
     "languageId": "polyglot-notebook"
    }
   },
   "outputs": [
    {
     "data": {
      "text/html": [
       "<details open=\"open\" class=\"dni-treeview\"><summary><span class=\"dni-code-hint\"><code>Some((Yuriy, False, Prodrive Technologies))</code></span></summary><div><table><thead><tr></tr></thead><tbody><tr><td>Value</td><td><details class=\"dni-treeview\"><summary><span class=\"dni-code-hint\"><code>(Yuriy, False, Prodrive Technologies)</code></span></summary><div><table><thead><tr></tr></thead><tbody><tr><td>Item1</td><td>Yuriy</td></tr><tr><td>Item2</td><td><div class=\"dni-plaintext\"><pre>False</pre></div></td></tr><tr><td>Item3</td><td>Prodrive Technologies</td></tr></tbody></table></div></details></td></tr></tbody></table></div></details><style>\r\n",
       ".dni-code-hint {\r\n",
       "    font-style: italic;\r\n",
       "    overflow: hidden;\r\n",
       "    white-space: nowrap;\r\n",
       "}\r\n",
       ".dni-treeview {\r\n",
       "    white-space: nowrap;\r\n",
       "}\r\n",
       ".dni-treeview td {\r\n",
       "    vertical-align: top;\r\n",
       "    text-align: start;\r\n",
       "}\r\n",
       "details.dni-treeview {\r\n",
       "    padding-left: 1em;\r\n",
       "}\r\n",
       "table td {\r\n",
       "    text-align: start;\r\n",
       "}\r\n",
       "table tr { \r\n",
       "    vertical-align: top; \r\n",
       "    margin: 0em 0px;\r\n",
       "}\r\n",
       "table tr td pre \r\n",
       "{ \r\n",
       "    vertical-align: top !important; \r\n",
       "    margin: 0em 0px !important;\r\n",
       "} \r\n",
       "table th {\r\n",
       "    text-align: start;\r\n",
       "}\r\n",
       "</style>"
      ]
     },
     "metadata": {},
     "output_type": "display_data"
    }
   ],
   "source": [
    "contacts |> List.tryItem 0"
   ]
  },
  {
   "attachments": {},
   "cell_type": "markdown",
   "id": "ed80a798-ee19-4f36-8c92-a4494b41ee9d",
   "metadata": {},
   "source": [
    "Listing 31: The idomatic way to build pipelines is to put the initial\n",
    "argument on a line of its own"
   ]
  },
  {
   "cell_type": "code",
   "execution_count": 54,
   "id": "4d77bed0-097f-46b0-bdf2-503939bcc884",
   "metadata": {
    "dotnet_interactive": {
     "language": "fsharp"
    },
    "vscode": {
     "languageId": "polyglot-notebook"
    }
   },
   "outputs": [
    {
     "data": {
      "text/html": [
       "<details open=\"open\" class=\"dni-treeview\"><summary><span class=\"dni-code-hint\"><code>Some((Yuriy, False, Prodrive Technologies))</code></span></summary><div><table><thead><tr></tr></thead><tbody><tr><td>Value</td><td><details class=\"dni-treeview\"><summary><span class=\"dni-code-hint\"><code>(Yuriy, False, Prodrive Technologies)</code></span></summary><div><table><thead><tr></tr></thead><tbody><tr><td>Item1</td><td>Yuriy</td></tr><tr><td>Item2</td><td><div class=\"dni-plaintext\"><pre>False</pre></div></td></tr><tr><td>Item3</td><td>Prodrive Technologies</td></tr></tbody></table></div></details></td></tr></tbody></table></div></details><style>\r\n",
       ".dni-code-hint {\r\n",
       "    font-style: italic;\r\n",
       "    overflow: hidden;\r\n",
       "    white-space: nowrap;\r\n",
       "}\r\n",
       ".dni-treeview {\r\n",
       "    white-space: nowrap;\r\n",
       "}\r\n",
       ".dni-treeview td {\r\n",
       "    vertical-align: top;\r\n",
       "    text-align: start;\r\n",
       "}\r\n",
       "details.dni-treeview {\r\n",
       "    padding-left: 1em;\r\n",
       "}\r\n",
       "table td {\r\n",
       "    text-align: start;\r\n",
       "}\r\n",
       "table tr { \r\n",
       "    vertical-align: top; \r\n",
       "    margin: 0em 0px;\r\n",
       "}\r\n",
       "table tr td pre \r\n",
       "{ \r\n",
       "    vertical-align: top !important; \r\n",
       "    margin: 0em 0px !important;\r\n",
       "} \r\n",
       "table th {\r\n",
       "    text-align: start;\r\n",
       "}\r\n",
       "</style>"
      ]
     },
     "metadata": {},
     "output_type": "display_data"
    }
   ],
   "source": [
    "contacts\n",
    "|> List.tryItem 0"
   ]
  },
  {
   "cell_type": "code",
   "execution_count": 111,
   "id": "4d47d90e-0fe4-44a8-9be0-92da11a9acbc",
   "metadata": {
    "dotnet_interactive": {
     "language": "fsharp"
    },
    "vscode": {
     "languageId": "polyglot-notebook"
    }
   },
   "outputs": [
    {
     "data": {
      "text/html": [
       "<details open=\"open\" class=\"dni-treeview\"><summary><span class=\"dni-code-hint\"><code>Some(Yuriy)</code></span></summary><div><table><thead><tr></tr></thead><tbody><tr><td>Value</td><td>Yuriy</td></tr></tbody></table></div></details><style>\r\n",
       ".dni-code-hint {\r\n",
       "    font-style: italic;\r\n",
       "    overflow: hidden;\r\n",
       "    white-space: nowrap;\r\n",
       "}\r\n",
       ".dni-treeview {\r\n",
       "    white-space: nowrap;\r\n",
       "}\r\n",
       ".dni-treeview td {\r\n",
       "    vertical-align: top;\r\n",
       "    text-align: start;\r\n",
       "}\r\n",
       "details.dni-treeview {\r\n",
       "    padding-left: 1em;\r\n",
       "}\r\n",
       "table td {\r\n",
       "    text-align: start;\r\n",
       "}\r\n",
       "table tr { \r\n",
       "    vertical-align: top; \r\n",
       "    margin: 0em 0px;\r\n",
       "}\r\n",
       "table tr td pre \r\n",
       "{ \r\n",
       "    vertical-align: top !important; \r\n",
       "    margin: 0em 0px !important;\r\n",
       "} \r\n",
       "table th {\r\n",
       "    text-align: start;\r\n",
       "}\r\n",
       "</style>"
      ]
     },
     "metadata": {},
     "output_type": "display_data"
    }
   ],
   "source": [
    "contacts\n",
    "|> List.map extractName\n",
    "|> List.tryHead\n",
    "    // -> Some \"Yuriy\""
   ]
  },
  {
   "attachments": {},
   "cell_type": "markdown",
   "id": "0de7bbdd-d9eb-4b9c-8476-e3b4453f7897",
   "metadata": {},
   "source": [
    "Listing 32: Abstraction of a pipeline"
   ]
  },
  {
   "cell_type": "code",
   "execution_count": 112,
   "id": "d7e05b7a-930d-437d-9c5f-45e1d29b187e",
   "metadata": {
    "dotnet_interactive": {
     "language": "fsharp"
    },
    "vscode": {
     "languageId": "polyglot-notebook"
    }
   },
   "outputs": [
    {
     "data": {
      "text/html": [
       "<details open=\"open\" class=\"dni-treeview\"><summary><span class=\"dni-code-hint\"><code>Some(Yuriy)</code></span></summary><div><table><thead><tr></tr></thead><tbody><tr><td>Value</td><td>Yuriy</td></tr></tbody></table></div></details><style>\r\n",
       ".dni-code-hint {\r\n",
       "    font-style: italic;\r\n",
       "    overflow: hidden;\r\n",
       "    white-space: nowrap;\r\n",
       "}\r\n",
       ".dni-treeview {\r\n",
       "    white-space: nowrap;\r\n",
       "}\r\n",
       ".dni-treeview td {\r\n",
       "    vertical-align: top;\r\n",
       "    text-align: start;\r\n",
       "}\r\n",
       "details.dni-treeview {\r\n",
       "    padding-left: 1em;\r\n",
       "}\r\n",
       "table td {\r\n",
       "    text-align: start;\r\n",
       "}\r\n",
       "table tr { \r\n",
       "    vertical-align: top; \r\n",
       "    margin: 0em 0px;\r\n",
       "}\r\n",
       "table tr td pre \r\n",
       "{ \r\n",
       "    vertical-align: top !important; \r\n",
       "    margin: 0em 0px !important;\r\n",
       "} \r\n",
       "table th {\r\n",
       "    text-align: start;\r\n",
       "}\r\n",
       "</style>"
      ]
     },
     "metadata": {},
     "output_type": "display_data"
    }
   ],
   "source": [
    "let tryFirstName cs =\n",
    "    cs\n",
    "    |> List.map extractName\n",
    "    |> List.tryHead\n",
    "\n",
    "tryFirstName contacts\n",
    "    // -> Some \"Yuriy\" as before"
   ]
  },
  {
   "attachments": {},
   "cell_type": "markdown",
   "id": "37bf8f86-f99b-490d-a0ea-16d73bb6eef5",
   "metadata": {},
   "source": [
    "Listing 33: Loading lines of text from a file"
   ]
  },
  {
   "cell_type": "code",
   "execution_count": 118,
   "id": "ab326727-7b39-4162-ace8-217740718500",
   "metadata": {
    "dotnet_interactive": {
     "language": "fsharp"
    },
    "vscode": {
     "languageId": "polyglot-notebook"
    }
   },
   "outputs": [
    {
     "data": {
      "text/html": [
       "<div class=\"dni-plaintext\"><pre>[ Lorem ipsum dolor sit amet, consectetur adipiscing elit, sed do eiusmod tempor incididunt ut labore et dolore magna aliqua. Facilisis sed odio morbi quis commodo. Turpis massa sed elementum tempus. Vel facilisis volutpat est velit egestas dui id ornare arcu. Lobortis feugiat vivamus at augue eget. Pellentesque id nibh tortor id. Viverra vitae congue eu consequat ac felis donec. Morbi tincidunt augue interdum velit euismod in pellentesque massa. Amet dictum sit amet justo donec enim diam vulputate. Viverra tellus in hac habitasse platea. Nisi vitae suscipit tellus mauris a. Urna duis convallis convallis tellus id interdum velit. Neque sodales ut etiam sit. Amet mattis vulputate enim nulla aliquet porttitor lacus luctus., , Ultrices eros in cursus turpis. Dapibus ultrices in iaculis nunc sed augue lacus viverra vitae. Integer quis auctor elit sed vulputate mi. Ullamcorper a lacus vestibulum sed arcu non odio euismod. Eget lorem dolor sed viverra ipsum nunc. Amet nisl purus in mollis nunc sed id semper. Mattis pellentesque id nibh tortor id aliquet lectus proin nibh. Massa id neque aliquam vestibulum morbi blandit cursus risus. Sit amet consectetur adipiscing elit ut aliquam purus sit amet. Urna et pharetra pharetra massa massa ultricies. Dui sapien eget mi proin sed libero enim. Lectus nulla at volutpat diam. Fermentum posuere urna nec tincidunt., , Ut tellus elementum sagittis vitae. Ac placerat vestibulum lectus mauris ultrices eros. Semper eget duis at tellus at urna. Tortor consequat id porta nibh. Mattis nunc sed blandit libero volutpat sed cras ornare arcu. Pellentesque elit ullamcorper dignissim cras. Tortor posuere ac ut consequat semper. Vel eros donec ac odio tempor orci. Tellus in hac habitasse platea dictumst vestibulum. Leo in vitae turpis massa. Justo nec ultrices dui sapien eget mi proin sed libero. Urna nunc id cursus metus aliquam eleifend., , Vitae tempus quam pellentesque nec nam aliquam. Libero enim sed faucibus turpis. Mauris nunc congue nisi vitae suscipit tellus mauris. Molestie ac feugiat sed lectus vestibulum mattis. Eget sit amet tellus cras. Viverra adipiscing at in tellus integer feugiat scelerisque varius morbi. Suspendisse potenti nullam ac tortor vitae purus faucibus ornare. Id ornare arcu odio ut sem nulla pharetra diam sit. Et leo duis ut diam. Fermentum dui faucibus in ornare. Mi bibendum neque egestas congue quisque. Nunc non blandit massa enim nec dui nunc mattis. Nisl condimentum id venenatis a condimentum vitae. Neque convallis a cras semper auctor neque vitae tempus. Leo vel orci porta non pulvinar neque. Platea dictumst vestibulum rhoncus est pellentesque elit ullamcorper. Id porta nibh venenatis cras sed. Fames ac turpis egestas maecenas pharetra convallis posuere morbi. Sit amet mauris commodo quis imperdiet massa tincidunt., , Tempus quam pellentesque nec nam aliquam. Nibh ipsum consequat nisl vel. Tristique senectus et netus et malesuada fames ac turpis egestas. Tortor aliquam nulla facilisi cras fermentum odio. Aliquam sem et tortor consequat id porta nibh venenatis cras. A arcu cursus vitae congue mauris rhoncus aenean vel. Vitae ultricies leo integer malesuada nunc vel risus. Faucibus in ornare quam viverra orci sagittis. Felis eget velit aliquet sagittis id consectetur purus ut. Quis hendrerit dolor magna eget est lorem ipsum dolor. Ultricies tristique nulla aliquet enim. Dolor sit amet consectetur adipiscing elit duis. Purus viverra accumsan in nisl nisi scelerisque eu ultrices. ]</pre></div><style>\r\n",
       ".dni-code-hint {\r\n",
       "    font-style: italic;\r\n",
       "    overflow: hidden;\r\n",
       "    white-space: nowrap;\r\n",
       "}\r\n",
       ".dni-treeview {\r\n",
       "    white-space: nowrap;\r\n",
       "}\r\n",
       ".dni-treeview td {\r\n",
       "    vertical-align: top;\r\n",
       "    text-align: start;\r\n",
       "}\r\n",
       "details.dni-treeview {\r\n",
       "    padding-left: 1em;\r\n",
       "}\r\n",
       "table td {\r\n",
       "    text-align: start;\r\n",
       "}\r\n",
       "table tr { \r\n",
       "    vertical-align: top; \r\n",
       "    margin: 0em 0px;\r\n",
       "}\r\n",
       "table tr td pre \r\n",
       "{ \r\n",
       "    vertical-align: top !important; \r\n",
       "    margin: 0em 0px !important;\r\n",
       "} \r\n",
       "table th {\r\n",
       "    text-align: start;\r\n",
       "}\r\n",
       "</style>"
      ]
     },
     "metadata": {},
     "output_type": "display_data"
    }
   ],
   "source": [
    "open System.IO // to access File\n",
    "let contents = File.ReadAllLines(\"lipsum.txt\")\n",
    "contents"
   ]
  },
  {
   "attachments": {},
   "cell_type": "markdown",
   "id": "41dcb207-e0f5-4be6-8628-7b67662c39c7",
   "metadata": {},
   "source": [
    "Listing 34: Calculating the average length of a paragraph"
   ]
  },
  {
   "cell_type": "code",
   "execution_count": 114,
   "id": "34dbc54d-f3de-478e-af8a-4fc5c8bf3b08",
   "metadata": {
    "dotnet_interactive": {
     "language": "fsharp"
    },
    "vscode": {
     "languageId": "polyglot-notebook"
    }
   },
   "outputs": [
    {
     "ename": "Error",
     "evalue": "input.fsx (4,4)-(4,17) typecheck error The type 'int' does not support the operator 'DivideByInt'",
     "output_type": "error",
     "traceback": [
      "input.fsx (4,4)-(4,17) typecheck error The type 'int' does not support the operator 'DivideByInt'"
     ]
    }
   ],
   "source": [
    "contents\n",
    "|> Array.map String.length\n",
    "|> Array.filter (fun l -> l > 0)\n",
    "|> Array.average"
   ]
  },
  {
   "attachments": {},
   "cell_type": "markdown",
   "id": "0bb77ee8-ee2d-4598-b935-476aae77a72d",
   "metadata": {},
   "source": [
    "Listing 35: By converting the integer"
   ]
  },
  {
   "cell_type": "code",
   "execution_count": 115,
   "id": "90fe410b-e7c3-474a-bd50-85bff9bd01a0",
   "metadata": {
    "dotnet_interactive": {
     "language": "fsharp"
    },
    "vscode": {
     "languageId": "polyglot-notebook"
    }
   },
   "outputs": [
    {
     "data": {
      "text/html": [
       "<div class=\"dni-plaintext\"><pre>694.4</pre></div><style>\r\n",
       ".dni-code-hint {\r\n",
       "    font-style: italic;\r\n",
       "    overflow: hidden;\r\n",
       "    white-space: nowrap;\r\n",
       "}\r\n",
       ".dni-treeview {\r\n",
       "    white-space: nowrap;\r\n",
       "}\r\n",
       ".dni-treeview td {\r\n",
       "    vertical-align: top;\r\n",
       "    text-align: start;\r\n",
       "}\r\n",
       "details.dni-treeview {\r\n",
       "    padding-left: 1em;\r\n",
       "}\r\n",
       "table td {\r\n",
       "    text-align: start;\r\n",
       "}\r\n",
       "table tr { \r\n",
       "    vertical-align: top; \r\n",
       "    margin: 0em 0px;\r\n",
       "}\r\n",
       "table tr td pre \r\n",
       "{ \r\n",
       "    vertical-align: top !important; \r\n",
       "    margin: 0em 0px !important;\r\n",
       "} \r\n",
       "table th {\r\n",
       "    text-align: start;\r\n",
       "}\r\n",
       "</style>"
      ]
     },
     "metadata": {},
     "output_type": "display_data"
    }
   ],
   "source": [
    "contents\n",
    "|> Array.map (fun s -> // take the string\n",
    "              let l = String.length s // get its length\n",
    "              // convert the result to a double\n",
    "              double l)\n",
    "|> Array.filter (fun l -> l > 0)\n",
    "|> Array.average"
   ]
  },
  {
   "attachments": {},
   "cell_type": "markdown",
   "id": "e5043f72-5692-405f-9ed6-4286be7e2919",
   "metadata": {},
   "source": [
    "Listing 36: Using function composition instead of an anonymous function"
   ]
  },
  {
   "cell_type": "code",
   "execution_count": 119,
   "id": "8716616f-0f85-4902-896c-e5b928f12a11",
   "metadata": {
    "dotnet_interactive": {
     "language": "fsharp"
    },
    "vscode": {
     "languageId": "polyglot-notebook"
    }
   },
   "outputs": [
    {
     "data": {
      "text/html": [
       "<div class=\"dni-plaintext\"><pre>694.4</pre></div><style>\r\n",
       ".dni-code-hint {\r\n",
       "    font-style: italic;\r\n",
       "    overflow: hidden;\r\n",
       "    white-space: nowrap;\r\n",
       "}\r\n",
       ".dni-treeview {\r\n",
       "    white-space: nowrap;\r\n",
       "}\r\n",
       ".dni-treeview td {\r\n",
       "    vertical-align: top;\r\n",
       "    text-align: start;\r\n",
       "}\r\n",
       "details.dni-treeview {\r\n",
       "    padding-left: 1em;\r\n",
       "}\r\n",
       "table td {\r\n",
       "    text-align: start;\r\n",
       "}\r\n",
       "table tr { \r\n",
       "    vertical-align: top; \r\n",
       "    margin: 0em 0px;\r\n",
       "}\r\n",
       "table tr td pre \r\n",
       "{ \r\n",
       "    vertical-align: top !important; \r\n",
       "    margin: 0em 0px !important;\r\n",
       "} \r\n",
       "table th {\r\n",
       "    text-align: start;\r\n",
       "}\r\n",
       "</style>"
      ]
     },
     "metadata": {},
     "output_type": "display_data"
    }
   ],
   "source": [
    "contents\n",
    "|> Array.map (String.length >> double)\n",
    "|> Array.filter (fun l -> l > 0)\n",
    "|> Array.average"
   ]
  },
  {
   "attachments": {},
   "cell_type": "markdown",
   "id": "e6a74893-7be1-4409-a1d0-b6b44fa8d6e5",
   "metadata": {},
   "source": [
    "Listing 37: An alternative solution uses `averageBy` and remove a step\n",
    "from the pipeline"
   ]
  },
  {
   "cell_type": "code",
   "execution_count": 120,
   "id": "74010313-595e-4304-be22-68601774a1ce",
   "metadata": {
    "dotnet_interactive": {
     "language": "fsharp"
    },
    "vscode": {
     "languageId": "polyglot-notebook"
    }
   },
   "outputs": [
    {
     "data": {
      "text/html": [
       "<div class=\"dni-plaintext\"><pre>694.4</pre></div><style>\r\n",
       ".dni-code-hint {\r\n",
       "    font-style: italic;\r\n",
       "    overflow: hidden;\r\n",
       "    white-space: nowrap;\r\n",
       "}\r\n",
       ".dni-treeview {\r\n",
       "    white-space: nowrap;\r\n",
       "}\r\n",
       ".dni-treeview td {\r\n",
       "    vertical-align: top;\r\n",
       "    text-align: start;\r\n",
       "}\r\n",
       "details.dni-treeview {\r\n",
       "    padding-left: 1em;\r\n",
       "}\r\n",
       "table td {\r\n",
       "    text-align: start;\r\n",
       "}\r\n",
       "table tr { \r\n",
       "    vertical-align: top; \r\n",
       "    margin: 0em 0px;\r\n",
       "}\r\n",
       "table tr td pre \r\n",
       "{ \r\n",
       "    vertical-align: top !important; \r\n",
       "    margin: 0em 0px !important;\r\n",
       "} \r\n",
       "table th {\r\n",
       "    text-align: start;\r\n",
       "}\r\n",
       "</style>"
      ]
     },
     "metadata": {},
     "output_type": "display_data"
    }
   ],
   "source": [
    "contents\n",
    "|> Array.filter (fun s -> String.length s > 0)\n",
    "|> Array.averageBy (String.length >> double)"
   ]
  },
  {
   "attachments": {},
   "cell_type": "markdown",
   "id": "9ec1145f-ca2a-4d4b-a8b3-ffe8db0d96ca",
   "metadata": {},
   "source": [
    "------------------------------------------------------------------------\n",
    "\n",
    "**Exercise 1** Run the code cell below. At the end, the variable\n",
    "`dataset` is bound to a list of tuples.\n",
    "\n",
    "Observe that\n",
    "\n",
    "1.  F#’s core library does not provide a `tryTail` function, which is\n",
    "    why we define a variant of our own on line 4. This function returns\n",
    "    the tail if available and an empty list otherwise.\n",
    "2.  `safeTail` is a generic function, it works for any list. F# forces\n",
    "    us to be explicit about this.\n",
    "3.  We also provide a type for `line` on line 15. F# can infer the type,\n",
    "    but we are explicit for the sake of documentation.\n",
    "4.  We use a .NET-style method from `File`. This method is meant to be\n",
    "    used from C#. As C# does not know about F#’s lists, this method\n",
    "    returns an array. We convert it to a list using the `List.ofArray`\n",
    "    method.\n",
    "5.  Finally, we bind the first element of our dataset to `sample`.\n",
    "    `List.tryHead` returns an `Option`, because empty lists do not have\n",
    "    a head. We use `defaultValue` from the `Option` module to extract\n",
    "    the value. If the `Option` is `None`, `defaultValue` will instead\n",
    "    return its first argument, which here makes clear that something\n",
    "    went wrong.\n",
    "\n",
    "Listing 38: Loading the data from file"
   ]
  },
  {
   "cell_type": "code",
   "execution_count": 147,
   "id": "c97a627e-ac87-45f8-a711-5942e6ca7513",
   "metadata": {
    "dotnet_interactive": {
     "language": "fsharp"
    },
    "vscode": {
     "languageId": "polyglot-notebook"
    }
   },
   "outputs": [],
   "source": [
    "// for File\n",
    "open System.IO\n",
    "\n",
    "type LanguagePopularity =\n",
    "    { Name: string;\n",
    "      Popularity: double;\n",
    "      Trend: double }\n",
    "\n",
    "let safeTail<'a> (xs : 'a list) = \n",
    "    match xs with\n",
    "    | [] -> []\n",
    "    | _ :: xs -> xs\n",
    "\n",
    "/// Take a line of comma separated values and\n",
    "/// return a tuple of string * double * double.\n",
    "///\n",
    "/// The first element is the language name\n",
    "/// The second element is its \"popularity\"\n",
    "/// The third is the annual change in popularity in percent points\n",
    "let parseLine (line: string) =\n",
    "    let l = line.Split \",\"\n",
    "    { LanguagePopularity.Name = l.[0]; Popularity = double l.[1]; Trend = double l.[2] }\n",
    "\n",
    "let dataset =\n",
    "    File.ReadAllLines \"language_popularity.csv\"\n",
    "    |> List.ofArray // ReadAllLines returns an array\n",
    "    |> safeTail\n",
    "    |> List.map parseLine\n",
    "    \n",
    "let sample =\n",
    "    dataset\n",
    "    |> List.tryHead\n",
    "    |> Option.defaultValue {\n",
    "        Name = \"Error\" \n",
    "        Popularity = 0.0;\n",
    "        Trend = 0.0 }"
   ]
  },
  {
   "cell_type": "code",
   "execution_count": 122,
   "id": "11406fe3-8b1b-40df-92cf-e74fc1f1e4ed",
   "metadata": {
    "dotnet_interactive": {
     "language": "fsharp"
    },
    "vscode": {
     "languageId": "polyglot-notebook"
    }
   },
   "outputs": [
    {
     "data": {
      "text/html": [
       "<details open=\"open\" class=\"dni-treeview\"><summary><span class=\"dni-code-hint\"><code>{ Name = \"Julia\"\\n  Popularity = 0.34\\n  Trend = -0.0 }</code></span></summary><div><table><thead><tr></tr></thead><tbody><tr><td>Name</td><td>Julia</td></tr><tr><td>Popularity</td><td><div class=\"dni-plaintext\"><pre>0.34</pre></div></td></tr><tr><td>Trend</td><td><div class=\"dni-plaintext\"><pre>-0</pre></div></td></tr></tbody></table></div></details><style>\r\n",
       ".dni-code-hint {\r\n",
       "    font-style: italic;\r\n",
       "    overflow: hidden;\r\n",
       "    white-space: nowrap;\r\n",
       "}\r\n",
       ".dni-treeview {\r\n",
       "    white-space: nowrap;\r\n",
       "}\r\n",
       ".dni-treeview td {\r\n",
       "    vertical-align: top;\r\n",
       "    text-align: start;\r\n",
       "}\r\n",
       "details.dni-treeview {\r\n",
       "    padding-left: 1em;\r\n",
       "}\r\n",
       "table td {\r\n",
       "    text-align: start;\r\n",
       "}\r\n",
       "table tr { \r\n",
       "    vertical-align: top; \r\n",
       "    margin: 0em 0px;\r\n",
       "}\r\n",
       "table tr td pre \r\n",
       "{ \r\n",
       "    vertical-align: top !important; \r\n",
       "    margin: 0em 0px !important;\r\n",
       "} \r\n",
       "table th {\r\n",
       "    text-align: start;\r\n",
       "}\r\n",
       "</style>"
      ]
     },
     "metadata": {},
     "output_type": "display_data"
    }
   ],
   "source": [
    "sample"
   ]
  },
  {
   "attachments": {},
   "cell_type": "markdown",
   "id": "0785903e-dbe9-4df0-819e-110a591b052d",
   "metadata": {},
   "source": [
    "------------------------------------------------------------------------\n",
    "\n",
    "------------------------------------------------------------------------\n",
    "\n",
    "**Exercise 2** Write a function `extractLanguage` that takes a tuple and\n",
    "returns the first element. Test your function with the code from lst. 39\n",
    "\n",
    "Listing 39: Example use of extractLanguage"
   ]
  },
  {
   "cell_type": "code",
   "execution_count": 157,
   "id": "53951b07-e92e-4652-ad2e-49d0051c6843",
   "metadata": {
    "dotnet_interactive": {
     "language": "fsharp"
    },
    "vscode": {
     "languageId": "polyglot-notebook"
    }
   },
   "outputs": [
    {
     "data": {
      "text/plain": [
       "Julia"
      ]
     },
     "metadata": {},
     "output_type": "display_data"
    }
   ],
   "source": [
    "let extractLanguage c = c.Name\n",
    "\n",
    "extractLanguage sample\n",
    "    // -> \"Julia\""
   ]
  },
  {
   "cell_type": "code",
   "execution_count": 65,
   "id": "49c5c3ec-c4e4-42a7-8abf-3a5dd1c80814",
   "metadata": {
    "dotnet_interactive": {
     "language": "fsharp"
    },
    "vscode": {
     "languageId": "polyglot-notebook"
    }
   },
   "outputs": [],
   "source": [
    "// your code here"
   ]
  },
  {
   "attachments": {},
   "cell_type": "markdown",
   "id": "3f2b98d6-eee3-45a7-a817-fca564c8634b",
   "metadata": {},
   "source": [
    "------------------------------------------------------------------------\n",
    "\n",
    "------------------------------------------------------------------------\n",
    "\n",
    "**Exercise 3** Write a function `averageC` that transforms a dataset\n",
    "into the average popularity of all languages starting with a `C`."
   ]
  },
  {
   "cell_type": "code",
   "execution_count": 188,
   "id": "8422f950",
   "metadata": {
    "vscode": {
     "languageId": "polyglot-notebook"
    }
   },
   "outputs": [
    {
     "data": {
      "text/html": [
       "<div class=\"dni-plaintext\"><pre>5.023333333333333</pre></div><style>\r\n",
       ".dni-code-hint {\r\n",
       "    font-style: italic;\r\n",
       "    overflow: hidden;\r\n",
       "    white-space: nowrap;\r\n",
       "}\r\n",
       ".dni-treeview {\r\n",
       "    white-space: nowrap;\r\n",
       "}\r\n",
       ".dni-treeview td {\r\n",
       "    vertical-align: top;\r\n",
       "    text-align: start;\r\n",
       "}\r\n",
       "details.dni-treeview {\r\n",
       "    padding-left: 1em;\r\n",
       "}\r\n",
       "table td {\r\n",
       "    text-align: start;\r\n",
       "}\r\n",
       "table tr { \r\n",
       "    vertical-align: top; \r\n",
       "    margin: 0em 0px;\r\n",
       "}\r\n",
       "table tr td pre \r\n",
       "{ \r\n",
       "    vertical-align: top !important; \r\n",
       "    margin: 0em 0px !important;\r\n",
       "} \r\n",
       "table th {\r\n",
       "    text-align: start;\r\n",
       "}\r\n",
       "</style>"
      ]
     },
     "metadata": {},
     "output_type": "display_data"
    }
   ],
   "source": [
    "let averageC =\n",
    "    dataset\n",
    "    |> List.filter (fun s -> s.Name.[0] = 'C' )\n",
    "    |> List.averageBy (fun s -> s.Popularity)\n",
    "    \n",
    "averageC"
   ]
  },
  {
   "attachments": {},
   "cell_type": "markdown",
   "id": "01a87e6b-fb73-4e74-adca-99ce822c4c61",
   "metadata": {},
   "source": [
    "------------------------------------------------------------------------\n",
    "\n",
    "For this and the next exercises, you will need additional functionality\n",
    "from [F#’s core library](https://fsharp.github.io/fsharp-core-docs/).\n",
    "Use the following two resources to learn more.\n",
    "\n",
    "1.  [The “Lists” entry in the F# Language\n",
    "    Guide](https://docs.microsoft.com/en-us/dotnet/fsharp/language-reference/lists)\n",
    "2.  [The documentation of the `List`\n",
    "    module](https://fsharp.github.io/fsharp-core-docs/reference/fsharp-collections-listmodule.html)\n",
    "\n",
    "------------------------------------------------------------------------\n",
    "\n",
    "**Exercise 4** Write a function `sortByLenght`that sorts the dataset so\n",
    "that the languages with the shortest names are on top."
   ]
  },
  {
   "cell_type": "code",
   "execution_count": 191,
   "id": "9605bae7-e1b8-4a26-b920-7292cf3462cc",
   "metadata": {
    "dotnet_interactive": {
     "language": "fsharp"
    },
    "vscode": {
     "languageId": "polyglot-notebook"
    }
   },
   "outputs": [
    {
     "data": {
      "text/html": [
       "<table><thead><tr><th><i>index</i></th><th>value</th></tr></thead><tbody><tr><td>0</td><td><details class=\"dni-treeview\"><summary><span class=\"dni-code-hint\"><code>{ Name = \"R\"\\n  Popularity = 4.23\\n  Trend = 0.5 }</code></span></summary><div><table><thead><tr></tr></thead><tbody><tr><td>Name</td><td>R</td></tr><tr><td>Popularity</td><td><div class=\"dni-plaintext\"><pre>4.23</pre></div></td></tr><tr><td>Trend</td><td><div class=\"dni-plaintext\"><pre>0.5</pre></div></td></tr></tbody></table></div></details></td></tr><tr><td>1</td><td><details class=\"dni-treeview\"><summary><span class=\"dni-code-hint\"><code>{ Name = \"Go\"\\n  Popularity = 1.19\\n  Trend = -0.1 }</code></span></summary><div><table><thead><tr></tr></thead><tbody><tr><td>Name</td><td>Go</td></tr><tr><td>Popularity</td><td><div class=\"dni-plaintext\"><pre>1.19</pre></div></td></tr><tr><td>Trend</td><td><div class=\"dni-plaintext\"><pre>-0.1</pre></div></td></tr></tbody></table></div></details></td></tr><tr><td>2</td><td><details class=\"dni-treeview\"><summary><span class=\"dni-code-hint\"><code>{ Name = \"C#\"\\n  Popularity = 7.51\\n  Trend = 0.6 }</code></span></summary><div><table><thead><tr></tr></thead><tbody><tr><td>Name</td><td>C#</td></tr><tr><td>Popularity</td><td><div class=\"dni-plaintext\"><pre>7.51</pre></div></td></tr><tr><td>Trend</td><td><div class=\"dni-plaintext\"><pre>0.6</pre></div></td></tr></tbody></table></div></details></td></tr><tr><td>3</td><td><details class=\"dni-treeview\"><summary><span class=\"dni-code-hint\"><code>{ Name = \"VBA\"\\n  Popularity = 1.1\\n  Trend = -0.1 }</code></span></summary><div><table><thead><tr></tr></thead><tbody><tr><td>Name</td><td>VBA</td></tr><tr><td>Popularity</td><td><div class=\"dni-plaintext\"><pre>1.1</pre></div></td></tr><tr><td>Trend</td><td><div class=\"dni-plaintext\"><pre>-0.1</pre></div></td></tr></tbody></table></div></details></td></tr><tr><td>4</td><td><details class=\"dni-treeview\"><summary><span class=\"dni-code-hint\"><code>{ Name = \"Ada\"\\n  Popularity = 0.79\\n  Trend = 0.1 }</code></span></summary><div><table><thead><tr></tr></thead><tbody><tr><td>Name</td><td>Ada</td></tr><tr><td>Popularity</td><td><div class=\"dni-plaintext\"><pre>0.79</pre></div></td></tr><tr><td>Trend</td><td><div class=\"dni-plaintext\"><pre>0.1</pre></div></td></tr></tbody></table></div></details></td></tr><tr><td>5</td><td><details class=\"dni-treeview\"><summary><span class=\"dni-code-hint\"><code>{ Name = \"Lua\"\\n  Popularity = 0.47\\n  Trend = -0.1 }</code></span></summary><div><table><thead><tr></tr></thead><tbody><tr><td>Name</td><td>Lua</td></tr><tr><td>Popularity</td><td><div class=\"dni-plaintext\"><pre>0.47</pre></div></td></tr><tr><td>Trend</td><td><div class=\"dni-plaintext\"><pre>-0.1</pre></div></td></tr></tbody></table></div></details></td></tr><tr><td>6</td><td><details class=\"dni-treeview\"><summary><span class=\"dni-code-hint\"><code>{ Name = \"PHP\"\\n  Popularity = 5.71\\n  Trend = -0.4 }</code></span></summary><div><table><thead><tr></tr></thead><tbody><tr><td>Name</td><td>PHP</td></tr><tr><td>Popularity</td><td><div class=\"dni-plaintext\"><pre>5.71</pre></div></td></tr><tr><td>Trend</td><td><div class=\"dni-plaintext\"><pre>-0.4</pre></div></td></tr></tbody></table></div></details></td></tr><tr><td>7</td><td><details class=\"dni-treeview\"><summary><span class=\"dni-code-hint\"><code>{ Name = \"Java\"\\n  Popularity = 18.03\\n  Trend = 0.8 }</code></span></summary><div><table><thead><tr></tr></thead><tbody><tr><td>Name</td><td>Java</td></tr><tr><td>Popularity</td><td><div class=\"dni-plaintext\"><pre>18.03</pre></div></td></tr><tr><td>Trend</td><td><div class=\"dni-plaintext\"><pre>0.8</pre></div></td></tr></tbody></table></div></details></td></tr><tr><td>8</td><td><details class=\"dni-treeview\"><summary><span class=\"dni-code-hint\"><code>{ Name = \"Abap\"\\n  Popularity = 0.68\\n  Trend = 0.2 }</code></span></summary><div><table><thead><tr></tr></thead><tbody><tr><td>Name</td><td>Abap</td></tr><tr><td>Popularity</td><td><div class=\"dni-plaintext\"><pre>0.68</pre></div></td></tr><tr><td>Trend</td><td><div class=\"dni-plaintext\"><pre>0.2</pre></div></td></tr></tbody></table></div></details></td></tr><tr><td>9</td><td><details class=\"dni-treeview\"><summary><span class=\"dni-code-hint\"><code>{ Name = \"Rust\"\\n  Popularity = 1.14\\n  Trend = 0.2 }</code></span></summary><div><table><thead><tr></tr></thead><tbody><tr><td>Name</td><td>Rust</td></tr><tr><td>Popularity</td><td><div class=\"dni-plaintext\"><pre>1.14</pre></div></td></tr><tr><td>Trend</td><td><div class=\"dni-plaintext\"><pre>0.2</pre></div></td></tr></tbody></table></div></details></td></tr><tr><td>10</td><td><details class=\"dni-treeview\"><summary><span class=\"dni-code-hint\"><code>{ Name = \"Ruby\"\\n  Popularity = 1.12\\n  Trend = -0.0 }</code></span></summary><div><table><thead><tr></tr></thead><tbody><tr><td>Name</td><td>Ruby</td></tr><tr><td>Popularity</td><td><div class=\"dni-plaintext\"><pre>1.12</pre></div></td></tr><tr><td>Trend</td><td><div class=\"dni-plaintext\"><pre>-0</pre></div></td></tr></tbody></table></div></details></td></tr><tr><td>11</td><td><details class=\"dni-treeview\"><summary><span class=\"dni-code-hint\"><code>{ Name = \"Perl\"\\n  Popularity = 0.46\\n  Trend = -0.0 }</code></span></summary><div><table><thead><tr></tr></thead><tbody><tr><td>Name</td><td>Perl</td></tr><tr><td>Popularity</td><td><div class=\"dni-plaintext\"><pre>0.46</pre></div></td></tr><tr><td>Trend</td><td><div class=\"dni-plaintext\"><pre>-0</pre></div></td></tr></tbody></table></div></details></td></tr><tr><td>12</td><td><details class=\"dni-treeview\"><summary><span class=\"dni-code-hint\"><code>{ Name = \"Dart\"\\n  Popularity = 0.67\\n  Trend = 0.1 }</code></span></summary><div><table><thead><tr></tr></thead><tbody><tr><td>Name</td><td>Dart</td></tr><tr><td>Popularity</td><td><div class=\"dni-plaintext\"><pre>0.67</pre></div></td></tr><tr><td>Trend</td><td><div class=\"dni-plaintext\"><pre>0.1</pre></div></td></tr></tbody></table></div></details></td></tr><tr><td>13</td><td><details class=\"dni-treeview\"><summary><span class=\"dni-code-hint\"><code>{ Name = \"Julia\"\\n  Popularity = 0.34\\n  Trend = -0.0 }</code></span></summary><div><table><thead><tr></tr></thead><tbody><tr><td>Name</td><td>Julia</td></tr><tr><td>Popularity</td><td><div class=\"dni-plaintext\"><pre>0.34</pre></div></td></tr><tr><td>Trend</td><td><div class=\"dni-plaintext\"><pre>-0</pre></div></td></tr></tbody></table></div></details></td></tr><tr><td>14</td><td><details class=\"dni-treeview\"><summary><span class=\"dni-code-hint\"><code>{ Name = \"Swift\"\\n  Popularity = 2.01\\n  Trend = 0.2 }</code></span></summary><div><table><thead><tr></tr></thead><tbody><tr><td>Name</td><td>Swift</td></tr><tr><td>Popularity</td><td><div class=\"dni-plaintext\"><pre>2.01</pre></div></td></tr><tr><td>Trend</td><td><div class=\"dni-plaintext\"><pre>0.2</pre></div></td></tr></tbody></table></div></details></td></tr><tr><td>15</td><td><details class=\"dni-treeview\"><summary><span class=\"dni-code-hint\"><code>{ Name = \"Cobol\"\\n  Popularity = 0.24\\n  Trend = -0.1 }</code></span></summary><div><table><thead><tr></tr></thead><tbody><tr><td>Name</td><td>Cobol</td></tr><tr><td>Popularity</td><td><div class=\"dni-plaintext\"><pre>0.24</pre></div></td></tr><tr><td>Trend</td><td><div class=\"dni-plaintext\"><pre>-0.1</pre></div></td></tr></tbody></table></div></details></td></tr><tr><td>16</td><td><details class=\"dni-treeview\"><summary><span class=\"dni-code-hint\"><code>{ Name = \"C/C++\"\\n  Popularity = 7.32\\n  Trend = 0.6 }</code></span></summary><div><table><thead><tr></tr></thead><tbody><tr><td>Name</td><td>C/C++</td></tr><tr><td>Popularity</td><td><div class=\"dni-plaintext\"><pre>7.32</pre></div></td></tr><tr><td>Trend</td><td><div class=\"dni-plaintext\"><pre>0.6</pre></div></td></tr></tbody></table></div></details></td></tr><tr><td>17</td><td><details class=\"dni-treeview\"><summary><span class=\"dni-code-hint\"><code>{ Name = \"Scala\"\\n  Popularity = 0.61\\n  Trend = 0.0 }</code></span></summary><div><table><thead><tr></tr></thead><tbody><tr><td>Name</td><td>Scala</td></tr><tr><td>Popularity</td><td><div class=\"dni-plaintext\"><pre>0.61</pre></div></td></tr><tr><td>Trend</td><td><div class=\"dni-plaintext\"><pre>0</pre></div></td></tr></tbody></table></div></details></td></tr><tr><td>18</td><td><details class=\"dni-treeview\"><summary><span class=\"dni-code-hint\"><code>{ Name = \"Python\"\\n  Popularity = 28.27\\n  Trend = -2.0 }</code></span></summary><div><table><thead><tr></tr></thead><tbody><tr><td>Name</td><td>Python</td></tr><tr><td>Popularity</td><td><div class=\"dni-plaintext\"><pre>28.27</pre></div></td></tr><tr><td>Trend</td><td><div class=\"dni-plaintext\"><pre>-2</pre></div></td></tr></tbody></table></div></details></td></tr><tr><td>19</td><td><details class=\"dni-treeview\"><summary><span class=\"dni-code-hint\"><code>{ Name = \"Groovy\"\\n  Popularity = 0.45\\n  Trend = 0.1 }</code></span></summary><div><table><thead><tr></tr></thead><tbody><tr><td>Name</td><td>Groovy</td></tr><tr><td>Popularity</td><td><div class=\"dni-plaintext\"><pre>0.45</pre></div></td></tr><tr><td>Trend</td><td><div class=\"dni-plaintext\"><pre>0.1</pre></div></td></tr></tbody></table></div></details></td></tr><tr><td colspan=\"2\"><i>... (more)</i></td></tr></tbody></table><style>\r\n",
       ".dni-code-hint {\r\n",
       "    font-style: italic;\r\n",
       "    overflow: hidden;\r\n",
       "    white-space: nowrap;\r\n",
       "}\r\n",
       ".dni-treeview {\r\n",
       "    white-space: nowrap;\r\n",
       "}\r\n",
       ".dni-treeview td {\r\n",
       "    vertical-align: top;\r\n",
       "    text-align: start;\r\n",
       "}\r\n",
       "details.dni-treeview {\r\n",
       "    padding-left: 1em;\r\n",
       "}\r\n",
       "table td {\r\n",
       "    text-align: start;\r\n",
       "}\r\n",
       "table tr { \r\n",
       "    vertical-align: top; \r\n",
       "    margin: 0em 0px;\r\n",
       "}\r\n",
       "table tr td pre \r\n",
       "{ \r\n",
       "    vertical-align: top !important; \r\n",
       "    margin: 0em 0px !important;\r\n",
       "} \r\n",
       "table th {\r\n",
       "    text-align: start;\r\n",
       "}\r\n",
       "</style>"
      ]
     },
     "metadata": {},
     "output_type": "display_data"
    }
   ],
   "source": [
    "let sortByLenght =\n",
    "    dataset\n",
    "    |> List.sortBy (fun s -> s.Name.Length)\n",
    "\n",
    "sortByLenght"
   ]
  },
  {
   "attachments": {},
   "cell_type": "markdown",
   "id": "a89dc56c-8fe7-459c-9811-7d8dcf4c28b6",
   "metadata": {},
   "source": [
    "------------------------------------------------------------------------\n",
    "\n",
    "------------------------------------------------------------------------\n",
    "\n",
    "**Exercise 5** Write a function `topRisers` that returns the *names* of\n",
    "the top five risers: the languages that gained the most popularity."
   ]
  },
  {
   "cell_type": "code",
   "execution_count": 199,
   "id": "5c1e9f74-7245-4260-9546-acaf96393ebd",
   "metadata": {
    "dotnet_interactive": {
     "language": "fsharp"
    },
    "vscode": {
     "languageId": "polyglot-notebook"
    }
   },
   "outputs": [
    {
     "data": {
      "text/html": [
       "<table><thead><tr><th><i>index</i></th><th>value</th></tr></thead><tbody><tr><td>0</td><td><details class=\"dni-treeview\"><summary><span class=\"dni-code-hint\"><code>{ Name = \"Python\"\\n  Popularity = 28.27\\n  Trend = -2.0 }</code></span></summary><div><table><thead><tr></tr></thead><tbody><tr><td>Name</td><td>Python</td></tr><tr><td>Popularity</td><td><div class=\"dni-plaintext\"><pre>28.27</pre></div></td></tr><tr><td>Trend</td><td><div class=\"dni-plaintext\"><pre>-2</pre></div></td></tr></tbody></table></div></details></td></tr><tr><td>1</td><td><details class=\"dni-treeview\"><summary><span class=\"dni-code-hint\"><code>{ Name = \"Java\"\\n  Popularity = 18.03\\n  Trend = 0.8 }</code></span></summary><div><table><thead><tr></tr></thead><tbody><tr><td>Name</td><td>Java</td></tr><tr><td>Popularity</td><td><div class=\"dni-plaintext\"><pre>18.03</pre></div></td></tr><tr><td>Trend</td><td><div class=\"dni-plaintext\"><pre>0.8</pre></div></td></tr></tbody></table></div></details></td></tr><tr><td>2</td><td><details class=\"dni-treeview\"><summary><span class=\"dni-code-hint\"><code>{ Name = \"JavaScript\"\\n  Popularity = 8.86\\n  Trend = 0.4 }</code></span></summary><div><table><thead><tr></tr></thead><tbody><tr><td>Name</td><td>JavaScript</td></tr><tr><td>Popularity</td><td><div class=\"dni-plaintext\"><pre>8.86</pre></div></td></tr><tr><td>Trend</td><td><div class=\"dni-plaintext\"><pre>0.4</pre></div></td></tr></tbody></table></div></details></td></tr><tr><td>3</td><td><details class=\"dni-treeview\"><summary><span class=\"dni-code-hint\"><code>{ Name = \"C#\"\\n  Popularity = 7.51\\n  Trend = 0.6 }</code></span></summary><div><table><thead><tr></tr></thead><tbody><tr><td>Name</td><td>C#</td></tr><tr><td>Popularity</td><td><div class=\"dni-plaintext\"><pre>7.51</pre></div></td></tr><tr><td>Trend</td><td><div class=\"dni-plaintext\"><pre>0.6</pre></div></td></tr></tbody></table></div></details></td></tr><tr><td>4</td><td><details class=\"dni-treeview\"><summary><span class=\"dni-code-hint\"><code>{ Name = \"C/C++\"\\n  Popularity = 7.32\\n  Trend = 0.6 }</code></span></summary><div><table><thead><tr></tr></thead><tbody><tr><td>Name</td><td>C/C++</td></tr><tr><td>Popularity</td><td><div class=\"dni-plaintext\"><pre>7.32</pre></div></td></tr><tr><td>Trend</td><td><div class=\"dni-plaintext\"><pre>0.6</pre></div></td></tr></tbody></table></div></details></td></tr></tbody></table><style>\r\n",
       ".dni-code-hint {\r\n",
       "    font-style: italic;\r\n",
       "    overflow: hidden;\r\n",
       "    white-space: nowrap;\r\n",
       "}\r\n",
       ".dni-treeview {\r\n",
       "    white-space: nowrap;\r\n",
       "}\r\n",
       ".dni-treeview td {\r\n",
       "    vertical-align: top;\r\n",
       "    text-align: start;\r\n",
       "}\r\n",
       "details.dni-treeview {\r\n",
       "    padding-left: 1em;\r\n",
       "}\r\n",
       "table td {\r\n",
       "    text-align: start;\r\n",
       "}\r\n",
       "table tr { \r\n",
       "    vertical-align: top; \r\n",
       "    margin: 0em 0px;\r\n",
       "}\r\n",
       "table tr td pre \r\n",
       "{ \r\n",
       "    vertical-align: top !important; \r\n",
       "    margin: 0em 0px !important;\r\n",
       "} \r\n",
       "table th {\r\n",
       "    text-align: start;\r\n",
       "}\r\n",
       "</style>"
      ]
     },
     "metadata": {},
     "output_type": "display_data"
    }
   ],
   "source": [
    "let topRisers = \n",
    "    dataset\n",
    "    |> List.sortByDescending (fun s -> s.Popularity)\n",
    "    |> List.take 5 \n",
    "\n",
    "topRisers"
   ]
  },
  {
   "attachments": {},
   "cell_type": "markdown",
   "id": "a39ee249-3056-4703-8b87-e3fd38b7fdc2",
   "metadata": {},
   "source": [
    "------------------------------------------------------------------------\n",
    "\n",
    "In F# `printfn` is used to print a line to the console. This function\n",
    "expects a format string as its first argument and prints the other\n",
    "arguments according to the specified format."
   ]
  },
  {
   "cell_type": "code",
   "execution_count": 200,
   "id": "8d8b3d0c-b27b-4896-a6d0-f4ee5380cf97",
   "metadata": {
    "dotnet_interactive": {
     "language": "fsharp"
    },
    "vscode": {
     "languageId": "polyglot-notebook"
    }
   },
   "outputs": [
    {
     "name": "stdout",
     "output_type": "stream",
     "text": [
      "Hello!\n",
      "2 * 3 = 6\n",
      "(\"This\", 15, \"a tuple\")\n"
     ]
    }
   ],
   "source": [
    "printfn \"%s\" \"Hello!\" // prints Hello!\n",
    "printfn \"%d * %d = %d\" 2 3 (2 * 3) // prints 2 * 3 = 6\n",
    "printfn \"%A\" (\"This\", 15, \"a tuple\") // prints (\"This\", 15, \"a tuple\")"
   ]
  },
  {
   "attachments": {},
   "cell_type": "markdown",
   "id": "d00fcc7e-21c2-4e05-9810-57c8ced61217",
   "metadata": {},
   "source": [
    "In this exercise we will combine `printfn` and\n",
    "[`List.iter`](https://fsharp.github.io/fsharp-core-docs/reference/fsharp-collections-listmodule.html#iter)\n",
    "to print all the tuples in `dataset`\n",
    "\n",
    "The type of `List.iter` is found in lst. 42. The function takes two\n",
    "arguments: an `action` that performs a side effect and a list. `action`\n",
    "is called for each element in the list.\n",
    "\n",
    "------------------------------------------------------------------------\n",
    "\n",
    "**Exercise 6** Write a function `printLanguageStats` that takes a tuple\n",
    "and writes it to the console.\n",
    "\n",
    "You can use lst. 43 to test your code.\n",
    "\n",
    "Listing 43: Example use of printLanguageStats"
   ]
  },
  {
   "cell_type": "code",
   "execution_count": 218,
   "id": "82360a9a-3f5e-4c57-9864-c16308f9f838",
   "metadata": {
    "dotnet_interactive": {
     "language": "fsharp"
    },
    "vscode": {
     "languageId": "polyglot-notebook"
    }
   },
   "outputs": [
    {
     "name": "stdout",
     "output_type": "stream",
     "text": [
      "{ Name = \"Julia\"\n",
      "  Popularity = 0.34\n",
      "  Trend = -0.0 }\n"
     ]
    }
   ],
   "source": [
    "let printLanguage c = printfn \"%A\" c\n",
    "\n",
    "printLanguage sample\n",
    "    // prints\n",
    "    // { Name = \"Julia\"\n",
    "    //   Popularity = 0.34\n",
    "    //   Trend = -0.0 }"
   ]
  },
  {
   "cell_type": "code",
   "execution_count": 165,
   "id": "6704d3a1-ddde-44eb-a30c-d059fbe5c486",
   "metadata": {
    "dotnet_interactive": {
     "language": "fsharp"
    },
    "vscode": {
     "languageId": "polyglot-notebook"
    }
   },
   "outputs": [],
   "source": [
    "// your code here"
   ]
  },
  {
   "attachments": {},
   "cell_type": "markdown",
   "id": "4bcd6ef4-6032-4fb3-821b-141b5c681356",
   "metadata": {},
   "source": [
    "------------------------------------------------------------------------\n",
    "\n",
    "------------------------------------------------------------------------\n",
    "\n",
    "**Exercise 7** Use `List.iter` to print all tuples in `dataset`."
   ]
  },
  {
   "cell_type": "code",
   "execution_count": 166,
   "id": "e7d46ca5-f471-462c-9e6d-c3dd7db7864f",
   "metadata": {
    "dotnet_interactive": {
     "language": "fsharp"
    },
    "vscode": {
     "languageId": "polyglot-notebook"
    }
   },
   "outputs": [],
   "source": [
    "let printLanguageStats c =\n",
    "    c\n",
    "    |> List.iter (fun x -> printfn \"%A\" x) \n",
    "\n",
    "printLanguageStats dataset"
   ]
  },
  {
   "attachments": {},
   "cell_type": "markdown",
   "id": "3325a7bd-e19d-4864-8f7b-cfaa284e35f7",
   "metadata": {},
   "source": [
    "------------------------------------------------------------------------\n",
    "\n",
    "------------------------------------------------------------------------\n",
    "\n",
    "**Exercise 8** Write a pipeline that transforms `dataset` into a list of\n",
    "language names."
   ]
  },
  {
   "cell_type": "code",
   "execution_count": 228,
   "id": "63f82ca5-84db-4a03-9407-e1aa8038079c",
   "metadata": {
    "dotnet_interactive": {
     "language": "fsharp"
    },
    "vscode": {
     "languageId": "polyglot-notebook"
    }
   },
   "outputs": [
    {
     "data": {
      "text/html": [
       "<div class=\"dni-plaintext\"><pre>[ Julia, Python, Groovy, TypeScript, JavaScript, Java, Haskell, Go, Swift, Matlab, Objective-C, Abap, VBA, Cobol, C/C++, Rust, Ruby, Visual Basic, Ada, Perl ... (more) ]</pre></div><style>\r\n",
       ".dni-code-hint {\r\n",
       "    font-style: italic;\r\n",
       "    overflow: hidden;\r\n",
       "    white-space: nowrap;\r\n",
       "}\r\n",
       ".dni-treeview {\r\n",
       "    white-space: nowrap;\r\n",
       "}\r\n",
       ".dni-treeview td {\r\n",
       "    vertical-align: top;\r\n",
       "    text-align: start;\r\n",
       "}\r\n",
       "details.dni-treeview {\r\n",
       "    padding-left: 1em;\r\n",
       "}\r\n",
       "table td {\r\n",
       "    text-align: start;\r\n",
       "}\r\n",
       "table tr { \r\n",
       "    vertical-align: top; \r\n",
       "    margin: 0em 0px;\r\n",
       "}\r\n",
       "table tr td pre \r\n",
       "{ \r\n",
       "    vertical-align: top !important; \r\n",
       "    margin: 0em 0px !important;\r\n",
       "} \r\n",
       "table th {\r\n",
       "    text-align: start;\r\n",
       "}\r\n",
       "</style>"
      ]
     },
     "metadata": {},
     "output_type": "display_data"
    }
   ],
   "source": [
    "let languageNames = \n",
    "    dataset\n",
    "    |> List.map (fun l -> l.Name)\n",
    "\n",
    "languageNames"
   ]
  },
  {
   "attachments": {},
   "cell_type": "markdown",
   "id": "4dbbc534-26a5-4e8e-bc83-7d16ac3599b0",
   "metadata": {},
   "source": [
    "------------------------------------------------------------------------\n",
    "\n",
    "Listing 48: By combining `extractLanguage` and `List.map` we can obtain\n",
    "a list of language names"
   ]
  },
  {
   "cell_type": "code",
   "execution_count": 229,
   "id": "fccc2447-33fb-41c6-a50e-25f923ca4c49",
   "metadata": {
    "dotnet_interactive": {
     "language": "fsharp"
    },
    "vscode": {
     "languageId": "polyglot-notebook"
    }
   },
   "outputs": [
    {
     "data": {
      "text/html": [
       "<div class=\"dni-plaintext\"><pre>[ Julia, Python, Groovy, TypeScript, JavaScript, Java, Haskell, Go, Swift, Matlab, Objective-C, Abap, VBA, Cobol, C/C++, Rust, Ruby, Visual Basic, Ada, Perl ... (more) ]</pre></div><style>\r\n",
       ".dni-code-hint {\r\n",
       "    font-style: italic;\r\n",
       "    overflow: hidden;\r\n",
       "    white-space: nowrap;\r\n",
       "}\r\n",
       ".dni-treeview {\r\n",
       "    white-space: nowrap;\r\n",
       "}\r\n",
       ".dni-treeview td {\r\n",
       "    vertical-align: top;\r\n",
       "    text-align: start;\r\n",
       "}\r\n",
       "details.dni-treeview {\r\n",
       "    padding-left: 1em;\r\n",
       "}\r\n",
       "table td {\r\n",
       "    text-align: start;\r\n",
       "}\r\n",
       "table tr { \r\n",
       "    vertical-align: top; \r\n",
       "    margin: 0em 0px;\r\n",
       "}\r\n",
       "table tr td pre \r\n",
       "{ \r\n",
       "    vertical-align: top !important; \r\n",
       "    margin: 0em 0px !important;\r\n",
       "} \r\n",
       "table th {\r\n",
       "    text-align: start;\r\n",
       "}\r\n",
       "</style>"
      ]
     },
     "metadata": {},
     "output_type": "display_data"
    }
   ],
   "source": [
    "dataset\n",
    "|> List.map extractLanguage"
   ]
  },
  {
   "attachments": {},
   "cell_type": "markdown",
   "id": "7df48113-6fbd-4384-b57a-145bd84c62ac",
   "metadata": {},
   "source": [
    "------------------------------------------------------------------------\n",
    "\n",
    "**Exercise 9** Extend the pipeline from the previous exercise to also\n",
    "print the language names"
   ]
  },
  {
   "cell_type": "code",
   "execution_count": 230,
   "id": "4b2781f8-44a2-42c5-92e9-bc6e778bd6a6",
   "metadata": {
    "dotnet_interactive": {
     "language": "fsharp"
    },
    "vscode": {
     "languageId": "polyglot-notebook"
    }
   },
   "outputs": [
    {
     "name": "stdout",
     "output_type": "stream",
     "text": [
      "\"Julia\"\n",
      "\"Python\"\n",
      "\"Groovy\"\n",
      "\"TypeScript\"\n",
      "\"JavaScript\"\n",
      "\"Java\"\n",
      "\"Haskell\"\n",
      "\"Go\"\n",
      "\"Swift\"\n",
      "\"Matlab\"\n",
      "\"Objective-C\"\n",
      "\"Abap\"\n",
      "\"VBA\"\n",
      "\"Cobol\"\n",
      "\"C/C++\"\n",
      "\"Rust\"\n",
      "\"Ruby\"\n",
      "\"Visual Basic\"\n",
      "\"Ada\"\n",
      "\"Perl\"\n",
      "\"Lua\"\n",
      "\"Scala\"\n",
      "\"R\"\n",
      "\"Kotlin\"\n",
      "\"Dart\"\n",
      "\"C#\"\n",
      "\"PHP\"\n"
     ]
    }
   ],
   "source": [
    "dataset\n",
    "|> List.map extractLanguage \n",
    "|> printLanguageStats"
   ]
  },
  {
   "attachments": {},
   "cell_type": "markdown",
   "id": "f2fe476b-4034-4da2-b9b3-980f37520217",
   "metadata": {},
   "source": [
    "------------------------------------------------------------------------\n",
    "\n",
    "------------------------------------------------------------------------\n",
    "\n",
    "**Exercise 10** `List.tryHead` takes a list and returns the head wrapped\n",
    "in a `Some`, or `None` if the list is empty.\n",
    "\n",
    "Write a function `hasLanguageAtHead name dataset` that returns whether\n",
    "the first language in `dataset` is named `name`. **You may not pattern\n",
    "match on the optional value**. Instead, create a single pipeline using\n",
    "functions from the `Option`-module."
   ]
  },
  {
   "cell_type": "code",
   "execution_count": 236,
   "id": "88e2f108-577a-41d6-8868-84a2a44cd42f",
   "metadata": {
    "dotnet_interactive": {
     "language": "fsharp"
    },
    "vscode": {
     "languageId": "polyglot-notebook"
    }
   },
   "outputs": [
    {
     "data": {
      "text/html": [
       "<div class=\"dni-plaintext\"><pre>True</pre></div><style>\r\n",
       ".dni-code-hint {\r\n",
       "    font-style: italic;\r\n",
       "    overflow: hidden;\r\n",
       "    white-space: nowrap;\r\n",
       "}\r\n",
       ".dni-treeview {\r\n",
       "    white-space: nowrap;\r\n",
       "}\r\n",
       ".dni-treeview td {\r\n",
       "    vertical-align: top;\r\n",
       "    text-align: start;\r\n",
       "}\r\n",
       "details.dni-treeview {\r\n",
       "    padding-left: 1em;\r\n",
       "}\r\n",
       "table td {\r\n",
       "    text-align: start;\r\n",
       "}\r\n",
       "table tr { \r\n",
       "    vertical-align: top; \r\n",
       "    margin: 0em 0px;\r\n",
       "}\r\n",
       "table tr td pre \r\n",
       "{ \r\n",
       "    vertical-align: top !important; \r\n",
       "    margin: 0em 0px !important;\r\n",
       "} \r\n",
       "table th {\r\n",
       "    text-align: start;\r\n",
       "}\r\n",
       "</style>"
      ]
     },
     "metadata": {},
     "output_type": "display_data"
    }
   ],
   "source": [
    "let hasLanguageAtHead name =\n",
    "    dataset \n",
    "    |> List.tryHead\n",
    "    |> Option.map (fun language -> language.Name = name)\n",
    "    |> Option.defaultValue false\n",
    "\n",
    "hasLanguageAtHead \"name\""
   ]
  },
  {
   "attachments": {},
   "cell_type": "markdown",
   "id": "5c2e9e82-8d74-4c35-b56f-9f2c0cadeb62",
   "metadata": {},
   "source": [
    "------------------------------------------------------------------------"
   ]
  }
 ],
 "metadata": {
  "language_info": {
   "name": "csharp"
  }
 },
 "nbformat": 4,
 "nbformat_minor": 5
}
