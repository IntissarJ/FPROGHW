{
 "cells": [
  {
   "attachments": {},
   "cell_type": "markdown",
   "id": "d1c75969-16b6-4bf2-a79b-e740d56e2106",
   "metadata": {},
   "source": [
    "Listing 1: Repeatedly asking a question until the user responds with yes\n",
    "or no"
   ]
  },
  {
   "cell_type": "code",
   "execution_count": 24,
   "id": "2f42ad8c-e889-45bf-835b-e36bd509a78e",
   "metadata": {
    "dotnet_interactive": {
     "language": "csharp"
    },
    "vscode": {
     "languageId": "polyglot-notebook"
    }
   },
   "outputs": [],
   "source": [
    "using System;\n",
    "using Microsoft.DotNet.Interactive;\n",
    "\n",
    "enum Confirmation {\n",
    "    Yes,\n",
    "    No\n",
    "}\n",
    "\n",
    "async Task<Confirmation> AskConfirmation(string prompt)\n",
    "{\n",
    "    string input = \"\";\n",
    "    while (input != \"yes\" && input != \"no\")\n",
    "    {\n",
    "        Console.Write(prompt);\n",
    "        input = await Kernel.GetInputAsync(\"\");\n",
    "        if (input != \"yes\" || input != \"no\")\n",
    "            Console.WriteLine($\"'{input}' was not recognised.\");\n",
    "    }\n",
    "    return input == \"yes\" ? Confirmation.Yes : Confirmation.No;\n",
    "}\n"
   ]
  },
  {
   "attachments": {},
   "cell_type": "markdown",
   "id": "afda7965-6974-483b-893e-1bc52b1f6156",
   "metadata": {},
   "source": [
    "Listing 2: Asking a user for confirmation using a recursive function"
   ]
  },
  {
   "cell_type": "code",
   "execution_count": 28,
   "id": "238b9e85-d40d-40d7-862f-f68efac3d9a6",
   "metadata": {
    "dotnet_interactive": {
     "language": "fsharp"
    },
    "vscode": {
     "languageId": "polyglot-notebook"
    }
   },
   "outputs": [
    {
     "name": "stdout",
     "output_type": "stream",
     "text": [
      "hello: "
     ]
    },
    {
     "data": {
      "text/html": [
       "<details open=\"open\" class=\"dni-treeview\"><summary><span class=\"dni-code-hint\"><code>Yes</code></span></summary><div><table><thead><tr></tr></thead><tbody></tbody></table></div></details><style>\r\n",
       ".dni-code-hint {\r\n",
       "    font-style: italic;\r\n",
       "    overflow: hidden;\r\n",
       "    white-space: nowrap;\r\n",
       "}\r\n",
       ".dni-treeview {\r\n",
       "    white-space: nowrap;\r\n",
       "}\r\n",
       ".dni-treeview td {\r\n",
       "    vertical-align: top;\r\n",
       "    text-align: start;\r\n",
       "}\r\n",
       "details.dni-treeview {\r\n",
       "    padding-left: 1em;\r\n",
       "}\r\n",
       "table td {\r\n",
       "    text-align: start;\r\n",
       "}\r\n",
       "table tr { \r\n",
       "    vertical-align: top; \r\n",
       "    margin: 0em 0px;\r\n",
       "}\r\n",
       "table tr td pre \r\n",
       "{ \r\n",
       "    vertical-align: top !important; \r\n",
       "    margin: 0em 0px !important;\r\n",
       "} \r\n",
       "table th {\r\n",
       "    text-align: start;\r\n",
       "}\r\n",
       "</style>"
      ]
     },
     "metadata": {},
     "output_type": "display_data"
    }
   ],
   "source": [
    "// for Console\n",
    "open System\n",
    "open Microsoft.DotNet.Interactive\n",
    "\n",
    "type Confirmation =\n",
    "    | Yes\n",
    "    | No\n",
    "\n",
    "let rec askConfirmation (prompt: string) =\n",
    "    printf \"%s: \" prompt\n",
    "    let input = Kernel.GetInputAsync(\"\")\n",
    "                |> Async.AwaitTask\n",
    "                |> Async.RunSynchronously\n",
    "    match input with\n",
    "    | \"yes\" -> Yes\n",
    "    | \"no\" -> No\n",
    "    | _ -> askConfirmation prompt // recursion\n",
    "\n",
    "askConfirmation \"hello\""
   ]
  },
  {
   "attachments": {},
   "cell_type": "markdown",
   "id": "f6715555-55cf-405e-82c6-888bd0586d32",
   "metadata": {},
   "source": [
    "Listing 3: A naive function to count down from a given number. That has\n",
    "the potential for infinite (or at least very long) recursion."
   ]
  },
  {
   "cell_type": "code",
   "execution_count": 30,
   "id": "812a7a47-4859-4385-8baa-5ca144261683",
   "metadata": {
    "dotnet_interactive": {
     "language": "fsharp"
    },
    "vscode": {
     "languageId": "polyglot-notebook"
    }
   },
   "outputs": [
    {
     "name": "stdout",
     "output_type": "stream",
     "text": [
      "9\n",
      "8\n",
      "7\n",
      "6\n",
      "5\n",
      "4\n",
      "3\n",
      "2\n",
      "1\n",
      "Lift off!\n"
     ]
    }
   ],
   "source": [
    "let rec countdown (n: int) =\n",
    "    match n with\n",
    "    | 0 -> printfn \"Lift off!\"\n",
    "    | _ ->\n",
    "        printfn \"%d\" n\n",
    "        countdown (n - 1)\n",
    "\n",
    "countdown 9"
   ]
  },
  {
   "attachments": {},
   "cell_type": "markdown",
   "id": "f4ee990f-f947-4377-b565-0053e0e1e97e",
   "metadata": {},
   "source": [
    "Listing 4: Infinite recursion is solved by halting for all negative\n",
    "integers as well."
   ]
  },
  {
   "cell_type": "code",
   "execution_count": null,
   "id": "4da16d24-3a92-4172-9aa4-42a49e420c4a",
   "metadata": {
    "dotnet_interactive": {
     "language": "fsharp"
    },
    "vscode": {
     "languageId": "polyglot-notebook"
    }
   },
   "outputs": [],
   "source": [
    "let rec countdown (n: int) =\n",
    "    match n with\n",
    "    | 0 -> printfn \"Lift off!\"\n",
    "    | _ ->\n",
    "        if n < 0\n",
    "        then printfn \"Houston, we have a problem!\"\n",
    "        else\n",
    "            printfn \"%d\" n\n",
    "//this is a general recursion"
   ]
  },
  {
   "attachments": {},
   "cell_type": "markdown",
   "id": "94b5c0a5-6e59-4e36-83fe-872ca57a33bd",
   "metadata": {},
   "source": [
    "Listing 5: It’s the total countdown!"
   ]
  },
  {
   "cell_type": "code",
   "execution_count": 31,
   "id": "5e1e73dd-2e3a-4500-b3c6-b8c4d312860e",
   "metadata": {
    "dotnet_interactive": {
     "language": "fsharp"
    },
    "vscode": {
     "languageId": "polyglot-notebook"
    }
   },
   "outputs": [
    {
     "name": "stdout",
     "output_type": "stream",
     "text": [
      "9\n",
      "8\n",
      "7\n",
      "6\n",
      "5\n",
      "4\n",
      "3\n",
      "2\n",
      "1\n",
      "Lift off!\n"
     ]
    }
   ],
   "source": [
    "let countdown (n: int) =\n",
    "    let rec countdownDriver numbers =\n",
    "        match numbers with\n",
    "        | [] -> printfn \"Lift off!\"\n",
    "        | number :: others ->\n",
    "            printfn \"%d\" (n - number)\n",
    "            countdownDriver others\n",
    "\n",
    "    countdownDriver [0 .. n - 1]\n",
    "\n",
    "//this is a primitive recursion\n",
    "countdown 9"
   ]
  },
  {
   "attachments": {},
   "cell_type": "markdown",
   "id": "4c0815f0-9edf-4584-8c68-b54cc1f36043",
   "metadata": {},
   "source": [
    "The factorial of a number, say $3$, denoted $3!$ is computed by\n",
    "multiplying 3 by 2 by 1. Furthermore, we have\n",
    "\n",
    "-   $4! = 4 \\times 3 \\times 2 \\times 1$,\n",
    "-   $5! = 5 \\times 4 \\times 3 \\times 2 \\times 1$,\n",
    "-   etc.\n",
    "\n",
    "There is a recursive pattern here. Observe that\n",
    "\n",
    "$$\n",
    "4! = 4 \\times 3 \\times 2 \\times 1\n",
    "$$\n",
    "\n",
    "or that\n",
    "\n",
    "$$\n",
    "4! = 4 \\times (3 \\times 2 \\times 1)\n",
    "$$\n",
    "\n",
    "and thus that\n",
    "\n",
    "$$\n",
    "4! = 4 \\times 3!\n",
    "$$\n",
    "\n",
    "------------------------------------------------------------------------\n",
    "\n",
    "**Exercise 1** Complete the definition of `fac` in lst. 6 that computes\n",
    "the factorial of a positive integer `n`. Return `1` if `n` is less than\n",
    "or equal to zero.\n",
    "\n",
    "Listing 6: An incomplete definition of `fac`"
   ]
  },
  {
   "cell_type": "code",
   "execution_count": 33,
   "id": "38b8ee7e-eb26-411f-ad99-31cb80cbd3de",
   "metadata": {
    "dotnet_interactive": {
     "language": "fsharp"
    },
    "vscode": {
     "languageId": "polyglot-notebook"
    }
   },
   "outputs": [
    {
     "data": {
      "text/html": [
       "<div class=\"dni-plaintext\"><pre>4</pre></div><style>\r\n",
       ".dni-code-hint {\r\n",
       "    font-style: italic;\r\n",
       "    overflow: hidden;\r\n",
       "    white-space: nowrap;\r\n",
       "}\r\n",
       ".dni-treeview {\r\n",
       "    white-space: nowrap;\r\n",
       "}\r\n",
       ".dni-treeview td {\r\n",
       "    vertical-align: top;\r\n",
       "    text-align: start;\r\n",
       "}\r\n",
       "details.dni-treeview {\r\n",
       "    padding-left: 1em;\r\n",
       "}\r\n",
       "table td {\r\n",
       "    text-align: start;\r\n",
       "}\r\n",
       "table tr { \r\n",
       "    vertical-align: top; \r\n",
       "    margin: 0em 0px;\r\n",
       "}\r\n",
       "table tr td pre \r\n",
       "{ \r\n",
       "    vertical-align: top !important; \r\n",
       "    margin: 0em 0px !important;\r\n",
       "} \r\n",
       "table th {\r\n",
       "    text-align: start;\r\n",
       "}\r\n",
       "</style>"
      ]
     },
     "metadata": {},
     "output_type": "display_data"
    }
   ],
   "source": [
    "\n",
    "let rec fac n =\n",
    "    if n <= 0\n",
    "    then 1\n",
    "    else n // TODO: change!\n",
    "\n",
    "fac 4"
   ]
  },
  {
   "cell_type": "code",
   "execution_count": null,
   "id": "4198c6ec-2b59-43c7-a3fd-5ea322ba861e",
   "metadata": {
    "dotnet_interactive": {
     "language": "fsharp"
    },
    "vscode": {
     "languageId": "polyglot-notebook"
    }
   },
   "outputs": [],
   "source": [
    "// your code here"
   ]
  },
  {
   "attachments": {},
   "cell_type": "markdown",
   "id": "ab42fae2-3808-4e2b-8656-d1762d9b9c76",
   "metadata": {},
   "source": [
    "------------------------------------------------------------------------\n",
    "\n",
    "------------------------------------------------------------------------\n",
    "\n",
    "**Exercise 2** Give an alternative defintion of `fac`, either using\n",
    "primitive recursion or a function from the `List` module."
   ]
  },
  {
   "cell_type": "code",
   "execution_count": null,
   "id": "381da28b-13ec-45c3-9a01-1c600c1b3e7f",
   "metadata": {
    "dotnet_interactive": {
     "language": "fsharp"
    },
    "vscode": {
     "languageId": "polyglot-notebook"
    }
   },
   "outputs": [],
   "source": [
    "// your code here"
   ]
  },
  {
   "attachments": {},
   "cell_type": "markdown",
   "id": "54f0e29f-f4e6-43e8-9678-8017a0c84307",
   "metadata": {},
   "source": [
    "------------------------------------------------------------------------\n",
    "\n",
    "------------------------------------------------------------------------\n",
    "\n",
    "**Exercise 3** In this exercise you will write a simple guessing game.\n",
    "Randomly pick a number between 1 and a 100. Then give users the ability\n",
    "to guess the number. Report if their guess was too high, too low or\n",
    "correct. Continue until the user has found the number.\n",
    "\n",
    "You can use the code in lst. 9 to generate the random number.\n",
    "Furthermore, a function that tries to convert a string to an int is\n",
    "found in lst. 10.\n",
    "\n",
    "Listing 9: Generating a random number between 1 and 100"
   ]
  },
  {
   "cell_type": "code",
   "execution_count": null,
   "id": "0551eb1f-13d4-4786-ae65-18b4280e082d",
   "metadata": {
    "dotnet_interactive": {
     "language": "fsharp"
    },
    "vscode": {
     "languageId": "polyglot-notebook"
    }
   },
   "outputs": [],
   "source": [
    "let random = System.Random ()\n",
    "let generateNumber () =\n",
    "    1 + random.Next 100\n"
   ]
  },
  {
   "attachments": {},
   "cell_type": "markdown",
   "id": "debeb96b-22dc-4663-9903-b3de5b7dd75c",
   "metadata": {},
   "source": [
    "Listing 10: Tries to convert a string to an int. Returns Some if\n",
    "succesful, None otherwise"
   ]
  },
  {
   "cell_type": "code",
   "execution_count": null,
   "id": "7305cad8-179a-419b-af33-6645663ab3eb",
   "metadata": {
    "dotnet_interactive": {
     "language": "fsharp"
    },
    "vscode": {
     "languageId": "polyglot-notebook"
    }
   },
   "outputs": [],
   "source": [
    "let tryIntOfString (s : string): Option<int> =\n",
    "    match System.Int32.TryParse s with\n",
    "    | true, i -> Some i\n",
    "    | false, _ -> None"
   ]
  },
  {
   "cell_type": "code",
   "execution_count": null,
   "id": "682a8731-19dc-4ae8-8176-06b14304a25d",
   "metadata": {
    "dotnet_interactive": {
     "language": "fsharp"
    },
    "vscode": {
     "languageId": "polyglot-notebook"
    }
   },
   "outputs": [],
   "source": [
    "// your code here"
   ]
  },
  {
   "attachments": {},
   "cell_type": "markdown",
   "id": "563c3aef-c26f-45a7-b94d-27e55365142e",
   "metadata": {},
   "source": [
    "------------------------------------------------------------------------\n",
    "\n",
    "------------------------------------------------------------------------\n",
    "\n",
    "**Exercise 4** Suppose the user is given a maximum of 10 tries. We no\n",
    "longer require the power of general recursion. For instance, we could\n",
    "destruct a list of 10 elements. Once we reach the empty case, the game\n",
    "is over. Change the definition of `playGame` to use this fact."
   ]
  },
  {
   "cell_type": "code",
   "execution_count": null,
   "id": "f0d41677-2161-4914-90ac-bd3e078090c5",
   "metadata": {
    "dotnet_interactive": {
     "language": "fsharp"
    },
    "vscode": {
     "languageId": "polyglot-notebook"
    }
   },
   "outputs": [],
   "source": [
    "// your code here"
   ]
  },
  {
   "attachments": {},
   "cell_type": "markdown",
   "id": "40e488f8-3719-4566-85c2-985936edeca9",
   "metadata": {},
   "source": [
    "------------------------------------------------------------------------"
   ]
  }
 ],
 "metadata": {
  "language_info": {
   "name": "csharp"
  }
 },
 "nbformat": 4,
 "nbformat_minor": 5
}
